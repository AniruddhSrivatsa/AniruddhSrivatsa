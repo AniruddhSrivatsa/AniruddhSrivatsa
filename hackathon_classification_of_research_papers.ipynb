{
  "nbformat": 4,
  "nbformat_minor": 0,
  "metadata": {
    "colab": {
      "name": "hackathon_classification of research papers.ipynb",
      "provenance": [],
      "collapsed_sections": [],
      "authorship_tag": "ABX9TyNd9kGSfswq0WElhwEX77Hb",
      "include_colab_link": true
    },
    "kernelspec": {
      "name": "python3",
      "display_name": "Python 3"
    }
  },
  "cells": [
    {
      "cell_type": "markdown",
      "metadata": {
        "id": "view-in-github",
        "colab_type": "text"
      },
      "source": [
        "<a href=\"https://colab.research.google.com/github/AniruddhSrivatsa/AniruddhSrivatsa/blob/master/hackathon_classification_of_research_papers.ipynb\" target=\"_parent\"><img src=\"https://colab.research.google.com/assets/colab-badge.svg\" alt=\"Open In Colab\"/></a>"
      ]
    },
    {
      "cell_type": "code",
      "metadata": {
        "id": "ARAVrDHQ3iPf",
        "colab_type": "code",
        "colab": {
          "base_uri": "https://localhost:8080/",
          "height": 70
        },
        "outputId": "429279fb-9b87-47f8-dbfd-2a9bea3594cc"
      },
      "source": [
        "import pandas as pd\n",
        "import numpy as np\n",
        "import seaborn as sns\n",
        "import matplotlib.pyplot as plt\n"
      ],
      "execution_count": 1,
      "outputs": [
        {
          "output_type": "stream",
          "text": [
            "/usr/local/lib/python3.6/dist-packages/statsmodels/tools/_testing.py:19: FutureWarning: pandas.util.testing is deprecated. Use the functions in the public API at pandas.testing instead.\n",
            "  import pandas.util.testing as tm\n"
          ],
          "name": "stderr"
        }
      ]
    },
    {
      "cell_type": "code",
      "metadata": {
        "id": "xTfcX_VU4sVl",
        "colab_type": "code",
        "colab": {
          "base_uri": "https://localhost:8080/",
          "height": 296
        },
        "outputId": "c912fdfe-4944-4263-a900-3dbd23c5f09a"
      },
      "source": [
        "df=pd.read_csv(\"train.csv\")\n",
        "df.head()"
      ],
      "execution_count": 2,
      "outputs": [
        {
          "output_type": "execute_result",
          "data": {
            "text/html": [
              "<div>\n",
              "<style scoped>\n",
              "    .dataframe tbody tr th:only-of-type {\n",
              "        vertical-align: middle;\n",
              "    }\n",
              "\n",
              "    .dataframe tbody tr th {\n",
              "        vertical-align: top;\n",
              "    }\n",
              "\n",
              "    .dataframe thead th {\n",
              "        text-align: right;\n",
              "    }\n",
              "</style>\n",
              "<table border=\"1\" class=\"dataframe\">\n",
              "  <thead>\n",
              "    <tr style=\"text-align: right;\">\n",
              "      <th></th>\n",
              "      <th>ID</th>\n",
              "      <th>TITLE</th>\n",
              "      <th>ABSTRACT</th>\n",
              "      <th>Computer Science</th>\n",
              "      <th>Physics</th>\n",
              "      <th>Mathematics</th>\n",
              "      <th>Statistics</th>\n",
              "      <th>Quantitative Biology</th>\n",
              "      <th>Quantitative Finance</th>\n",
              "    </tr>\n",
              "  </thead>\n",
              "  <tbody>\n",
              "    <tr>\n",
              "      <th>0</th>\n",
              "      <td>1</td>\n",
              "      <td>Reconstructing Subject-Specific Effect Maps</td>\n",
              "      <td>Predictive models allow subject-specific inf...</td>\n",
              "      <td>1</td>\n",
              "      <td>0</td>\n",
              "      <td>0</td>\n",
              "      <td>0</td>\n",
              "      <td>0</td>\n",
              "      <td>0</td>\n",
              "    </tr>\n",
              "    <tr>\n",
              "      <th>1</th>\n",
              "      <td>2</td>\n",
              "      <td>Rotation Invariance Neural Network</td>\n",
              "      <td>Rotation invariance and translation invarian...</td>\n",
              "      <td>1</td>\n",
              "      <td>0</td>\n",
              "      <td>0</td>\n",
              "      <td>0</td>\n",
              "      <td>0</td>\n",
              "      <td>0</td>\n",
              "    </tr>\n",
              "    <tr>\n",
              "      <th>2</th>\n",
              "      <td>3</td>\n",
              "      <td>Spherical polyharmonics and Poisson kernels fo...</td>\n",
              "      <td>We introduce and develop the notion of spher...</td>\n",
              "      <td>0</td>\n",
              "      <td>0</td>\n",
              "      <td>1</td>\n",
              "      <td>0</td>\n",
              "      <td>0</td>\n",
              "      <td>0</td>\n",
              "    </tr>\n",
              "    <tr>\n",
              "      <th>3</th>\n",
              "      <td>4</td>\n",
              "      <td>A finite element approximation for the stochas...</td>\n",
              "      <td>The stochastic Landau--Lifshitz--Gilbert (LL...</td>\n",
              "      <td>0</td>\n",
              "      <td>0</td>\n",
              "      <td>1</td>\n",
              "      <td>0</td>\n",
              "      <td>0</td>\n",
              "      <td>0</td>\n",
              "    </tr>\n",
              "    <tr>\n",
              "      <th>4</th>\n",
              "      <td>5</td>\n",
              "      <td>Comparative study of Discrete Wavelet Transfor...</td>\n",
              "      <td>Fourier-transform infra-red (FTIR) spectra o...</td>\n",
              "      <td>1</td>\n",
              "      <td>0</td>\n",
              "      <td>0</td>\n",
              "      <td>1</td>\n",
              "      <td>0</td>\n",
              "      <td>0</td>\n",
              "    </tr>\n",
              "  </tbody>\n",
              "</table>\n",
              "</div>"
            ],
            "text/plain": [
              "   ID  ... Quantitative Finance\n",
              "0   1  ...                    0\n",
              "1   2  ...                    0\n",
              "2   3  ...                    0\n",
              "3   4  ...                    0\n",
              "4   5  ...                    0\n",
              "\n",
              "[5 rows x 9 columns]"
            ]
          },
          "metadata": {
            "tags": []
          },
          "execution_count": 2
        }
      ]
    },
    {
      "cell_type": "code",
      "metadata": {
        "id": "fP52w6BV5eTV",
        "colab_type": "code",
        "colab": {
          "base_uri": "https://localhost:8080/",
          "height": 185
        },
        "outputId": "fe528e1d-c5ab-4941-887c-b3b8753557c9"
      },
      "source": [
        "df.isna().sum()"
      ],
      "execution_count": 3,
      "outputs": [
        {
          "output_type": "execute_result",
          "data": {
            "text/plain": [
              "ID                      0\n",
              "TITLE                   0\n",
              "ABSTRACT                0\n",
              "Computer Science        0\n",
              "Physics                 0\n",
              "Mathematics             0\n",
              "Statistics              0\n",
              "Quantitative Biology    0\n",
              "Quantitative Finance    0\n",
              "dtype: int64"
            ]
          },
          "metadata": {
            "tags": []
          },
          "execution_count": 3
        }
      ]
    },
    {
      "cell_type": "code",
      "metadata": {
        "id": "ok-Tx--Q5jly",
        "colab_type": "code",
        "colab": {
          "base_uri": "https://localhost:8080/",
          "height": 286
        },
        "outputId": "93c04ea9-660b-4158-bd88-5a91b594c87c"
      },
      "source": [
        "df.info()"
      ],
      "execution_count": 4,
      "outputs": [
        {
          "output_type": "stream",
          "text": [
            "<class 'pandas.core.frame.DataFrame'>\n",
            "RangeIndex: 20972 entries, 0 to 20971\n",
            "Data columns (total 9 columns):\n",
            " #   Column                Non-Null Count  Dtype \n",
            "---  ------                --------------  ----- \n",
            " 0   ID                    20972 non-null  int64 \n",
            " 1   TITLE                 20972 non-null  object\n",
            " 2   ABSTRACT              20972 non-null  object\n",
            " 3   Computer Science      20972 non-null  int64 \n",
            " 4   Physics               20972 non-null  int64 \n",
            " 5   Mathematics           20972 non-null  int64 \n",
            " 6   Statistics            20972 non-null  int64 \n",
            " 7   Quantitative Biology  20972 non-null  int64 \n",
            " 8   Quantitative Finance  20972 non-null  int64 \n",
            "dtypes: int64(7), object(2)\n",
            "memory usage: 1.4+ MB\n"
          ],
          "name": "stdout"
        }
      ]
    },
    {
      "cell_type": "code",
      "metadata": {
        "id": "lh_y51Bp7Zxl",
        "colab_type": "code",
        "colab": {
          "base_uri": "https://localhost:8080/",
          "height": 34
        },
        "outputId": "65d48c36-594e-4f6f-acc7-171e228a9d92"
      },
      "source": [
        "df.shape"
      ],
      "execution_count": 5,
      "outputs": [
        {
          "output_type": "execute_result",
          "data": {
            "text/plain": [
              "(20972, 9)"
            ]
          },
          "metadata": {
            "tags": []
          },
          "execution_count": 5
        }
      ]
    },
    {
      "cell_type": "code",
      "metadata": {
        "id": "qgC2LMQy5t9c",
        "colab_type": "code",
        "colab": {}
      },
      "source": [
        "df1=df.copy()"
      ],
      "execution_count": 6,
      "outputs": []
    },
    {
      "cell_type": "code",
      "metadata": {
        "id": "Dxrk6iwL7d3a",
        "colab_type": "code",
        "colab": {}
      },
      "source": [
        "from sklearn.feature_extraction.text import CountVectorizer,TfidfVectorizer\n",
        "import tensorflow as tf\n",
        "from tensorflow import keras\n",
        "from tensorflow.keras.preprocessing.text import Tokenizer"
      ],
      "execution_count": 7,
      "outputs": []
    },
    {
      "cell_type": "code",
      "metadata": {
        "id": "A5dIM3VZgp_j",
        "colab_type": "code",
        "colab": {
          "base_uri": "https://localhost:8080/",
          "height": 67
        },
        "outputId": "63f0fc29-6c99-455c-cc7f-9f5419067861"
      },
      "source": [
        "import nltk\n",
        "nltk.download('stopwords')"
      ],
      "execution_count": 8,
      "outputs": [
        {
          "output_type": "stream",
          "text": [
            "[nltk_data] Downloading package stopwords to /root/nltk_data...\n",
            "[nltk_data]   Unzipping corpora/stopwords.zip.\n"
          ],
          "name": "stdout"
        },
        {
          "output_type": "execute_result",
          "data": {
            "text/plain": [
              "True"
            ]
          },
          "metadata": {
            "tags": []
          },
          "execution_count": 8
        }
      ]
    },
    {
      "cell_type": "code",
      "metadata": {
        "id": "BJZs8aIU8XwB",
        "colab_type": "code",
        "colab": {}
      },
      "source": [
        "import nltk\n",
        "from nltk.corpus import stopwords"
      ],
      "execution_count": 9,
      "outputs": []
    },
    {
      "cell_type": "code",
      "metadata": {
        "id": "AHnNiSDMgykR",
        "colab_type": "code",
        "colab": {
          "base_uri": "https://localhost:8080/",
          "height": 137
        },
        "outputId": "bf0fa9aa-8672-45ce-ed73-f85edf407ac8"
      },
      "source": [
        "df[\"ABSTRACT\"][0]"
      ],
      "execution_count": 10,
      "outputs": [
        {
          "output_type": "execute_result",
          "data": {
            "application/vnd.google.colaboratory.intrinsic+json": {
              "type": "string"
            },
            "text/plain": [
              "\"  Predictive models allow subject-specific inference when analyzing disease\\nrelated alterations in neuroimaging data. Given a subject's data, inference can\\nbe made at two levels: global, i.e. identifiying condition presence for the\\nsubject, and local, i.e. detecting condition effect on each individual\\nmeasurement extracted from the subject's data. While global inference is widely\\nused, local inference, which can be used to form subject-specific effect maps,\\nis rarely used because existing models often yield noisy detections composed of\\ndispersed isolated islands. In this article, we propose a reconstruction\\nmethod, named RSM, to improve subject-specific detections of predictive\\nmodeling approaches and in particular, binary classifiers. RSM specifically\\naims to reduce noise due to sampling error associated with using a finite\\nsample of examples to train classifiers. The proposed method is a wrapper-type\\nalgorithm that can be used with different binary classifiers in a diagnostic\\nmanner, i.e. without information on condition presence. Reconstruction is posed\\nas a Maximum-A-Posteriori problem with a prior model whose parameters are\\nestimated from training data in a classifier-specific fashion. Experimental\\nevaluation is performed on synthetically generated data and data from the\\nAlzheimer's Disease Neuroimaging Initiative (ADNI) database. Results on\\nsynthetic data demonstrate that using RSM yields higher detection accuracy\\ncompared to using models directly or with bootstrap averaging. Analyses on the\\nADNI dataset show that RSM can also improve correlation between\\nsubject-specific detections in cortical thickness data and non-imaging markers\\nof Alzheimer's Disease (AD), such as the Mini Mental State Examination Score\\nand Cerebrospinal Fluid amyloid-$\\\\beta$ levels. Further reliability studies on\\nthe longitudinal ADNI dataset show improvement on detection reliability when\\nRSM is used.\\n\""
            ]
          },
          "metadata": {
            "tags": []
          },
          "execution_count": 10
        }
      ]
    },
    {
      "cell_type": "code",
      "metadata": {
        "id": "zu7Lou9C2mu9",
        "colab_type": "code",
        "colab": {
          "base_uri": "https://localhost:8080/",
          "height": 34
        },
        "outputId": "18e1c45f-0ff4-4371-cf78-e67d2404411e"
      },
      "source": [
        "df1[\"ABSTRACT\"]=df1[\"ABSTRACT\"].str.lower()\n",
        "df1[\"ABSTRACT\"][0]\n",
        "print(type(df1[\"ABSTRACT\"][0]))"
      ],
      "execution_count": 11,
      "outputs": [
        {
          "output_type": "stream",
          "text": [
            "<class 'str'>\n"
          ],
          "name": "stdout"
        }
      ]
    },
    {
      "cell_type": "code",
      "metadata": {
        "id": "vaNg8rYkZOt-",
        "colab_type": "code",
        "colab": {}
      },
      "source": [
        "import re"
      ],
      "execution_count": 12,
      "outputs": []
    },
    {
      "cell_type": "code",
      "metadata": {
        "id": "iCqCsP6okDX4",
        "colab_type": "code",
        "colab": {}
      },
      "source": [
        "df1[\"ABSTRACT\"]=df1[\"ABSTRACT\"].apply(lambda x: \" \".join([info for info in x.split() if (info.isalpha()) ]))"
      ],
      "execution_count": 13,
      "outputs": []
    },
    {
      "cell_type": "markdown",
      "metadata": {
        "id": "skQM4o58deR4",
        "colab_type": "text"
      },
      "source": [
        "Use any one , the above or below its just another way of removing unwanted symbols"
      ]
    },
    {
      "cell_type": "code",
      "metadata": {
        "id": "cXQz9Gj9Veq5",
        "colab_type": "code",
        "colab": {
          "base_uri": "https://localhost:8080/",
          "height": 101
        },
        "outputId": "33450578-8780-43fd-f487-add5bd536f4f"
      },
      "source": [
        "for i in range(len(df1[\"ABSTRACT\"])):\n",
        "  lucy=df1[\"ABSTRACT\"][i]\n",
        "  df1[\"ABSTRACT1\"][i]=' '.join([lucy1 for lucy1 in re.split(r'[^A-Za-z]', lucy) if lucy1])\n",
        "  "
      ],
      "execution_count": null,
      "outputs": [
        {
          "output_type": "stream",
          "text": [
            "/usr/local/lib/python3.6/dist-packages/ipykernel_launcher.py:3: SettingWithCopyWarning: \n",
            "A value is trying to be set on a copy of a slice from a DataFrame\n",
            "\n",
            "See the caveats in the documentation: https://pandas.pydata.org/pandas-docs/stable/user_guide/indexing.html#returning-a-view-versus-a-copy\n",
            "  This is separate from the ipykernel package so we can avoid doing imports until\n"
          ],
          "name": "stderr"
        }
      ]
    },
    {
      "cell_type": "code",
      "metadata": {
        "id": "TOe0mnltZ-Db",
        "colab_type": "code",
        "colab": {
          "base_uri": "https://localhost:8080/",
          "height": 137
        },
        "outputId": "f806997f-4579-46cc-99ec-085d453bb805"
      },
      "source": [
        "df1[\"ABSTRACT\"][0]"
      ],
      "execution_count": 14,
      "outputs": [
        {
          "output_type": "execute_result",
          "data": {
            "application/vnd.google.colaboratory.intrinsic+json": {
              "type": "string"
            },
            "text/plain": [
              "'predictive models allow inference when analyzing disease related alterations in neuroimaging given a inference can be made at two identifiying condition presence for the and detecting condition effect on each individual measurement extracted from the while global inference is widely local which can be used to form effect is rarely used because existing models often yield noisy detections composed of dispersed isolated in this we propose a reconstruction named to improve detections of predictive modeling approaches and in binary rsm specifically aims to reduce noise due to sampling error associated with using a finite sample of examples to train the proposed method is a algorithm that can be used with different binary classifiers in a diagnostic without information on condition reconstruction is posed as a problem with a prior model whose parameters are estimated from training data in a experimental evaluation is performed on synthetically generated data and data from the disease neuroimaging initiative results on synthetic data demonstrate that using rsm yields higher detection accuracy compared to using models directly or with bootstrap analyses on the adni dataset show that rsm can also improve correlation between detections in cortical thickness data and markers of disease such as the mini mental state examination score and cerebrospinal fluid further reliability studies on the longitudinal adni dataset show improvement on detection reliability when rsm is'"
            ]
          },
          "metadata": {
            "tags": []
          },
          "execution_count": 14
        }
      ]
    },
    {
      "cell_type": "code",
      "metadata": {
        "id": "tKPlVxh2ngAs",
        "colab_type": "code",
        "colab": {}
      },
      "source": [
        "df2=df1.copy().head()"
      ],
      "execution_count": 15,
      "outputs": []
    },
    {
      "cell_type": "code",
      "metadata": {
        "id": "X8LL2HHQnQAz",
        "colab_type": "code",
        "colab": {}
      },
      "source": [
        "df1[\"ABSTRACT\"]=df1[\"ABSTRACT\"].apply(lambda x: \" \".join([info for info in x.split() if  (info not in stopwords.words(\"english\"))]))"
      ],
      "execution_count": 28,
      "outputs": []
    },
    {
      "cell_type": "code",
      "metadata": {
        "id": "pw8m3yeRnr26",
        "colab_type": "code",
        "colab": {
          "base_uri": "https://localhost:8080/",
          "height": 137
        },
        "outputId": "37e841a4-d8b2-4689-b836-c5270962d034"
      },
      "source": [
        "df1[\"ABSTRACT\"][0]"
      ],
      "execution_count": 30,
      "outputs": [
        {
          "output_type": "execute_result",
          "data": {
            "application/vnd.google.colaboratory.intrinsic+json": {
              "type": "string"
            },
            "text/plain": [
              "'predictive models allow inference analyzing disease related alterations neuroimaging given inference made two identifiying condition presence detecting condition effect individual measurement extracted global inference widely local used form effect rarely used existing models often yield noisy detections composed dispersed isolated propose reconstruction named improve detections predictive modeling approaches binary rsm specifically aims reduce noise due sampling error associated using finite sample examples train proposed method algorithm used different binary classifiers diagnostic without information condition reconstruction posed problem prior model whose parameters estimated training data experimental evaluation performed synthetically generated data data disease neuroimaging initiative results synthetic data demonstrate using rsm yields higher detection accuracy compared using models directly bootstrap analyses adni dataset show rsm also improve correlation detections cortical thickness data markers disease mini mental state examination score cerebrospinal fluid reliability studies longitudinal adni dataset show improvement detection reliability rsm'"
            ]
          },
          "metadata": {
            "tags": []
          },
          "execution_count": 30
        }
      ]
    },
    {
      "cell_type": "code",
      "metadata": {
        "id": "lx6FtKvYswMp",
        "colab_type": "code",
        "colab": {}
      },
      "source": [
        "df1[\"TITLE\"]=df1[\"TITLE\"].apply(lambda x: \" \".join([info for info in x.split() if (info.isalpha()) ]))"
      ],
      "execution_count": 24,
      "outputs": []
    },
    {
      "cell_type": "code",
      "metadata": {
        "id": "DaSKdS_HtJdV",
        "colab_type": "code",
        "colab": {}
      },
      "source": [
        "df1[\"TITLE\"]=df1[\"TITLE\"].apply(lambda x: \" \".join([info for info in x.split() if  (info not in stopwords.words(\"english\"))]))"
      ],
      "execution_count": 19,
      "outputs": []
    },
    {
      "cell_type": "code",
      "metadata": {
        "id": "NJtBul29to7a",
        "colab_type": "code",
        "colab": {}
      },
      "source": [
        "df1[\"TITLE\"]=df1[\"TITLE\"].str.lower()"
      ],
      "execution_count": 25,
      "outputs": []
    },
    {
      "cell_type": "code",
      "metadata": {
        "id": "tdajsJ5gs8b6",
        "colab_type": "code",
        "colab": {
          "base_uri": "https://localhost:8080/",
          "height": 35
        },
        "outputId": "9debb851-56cc-4b05-8dcc-f84ee031c35f"
      },
      "source": [
        "df1[\"TITLE\"][2]"
      ],
      "execution_count": 26,
      "outputs": [
        {
          "output_type": "execute_result",
          "data": {
            "application/vnd.google.colaboratory.intrinsic+json": {
              "type": "string"
            },
            "text/plain": [
              "'spherical polyharmonics poisson kernels polyharmonic functions'"
            ]
          },
          "metadata": {
            "tags": []
          },
          "execution_count": 26
        }
      ]
    },
    {
      "cell_type": "code",
      "metadata": {
        "id": "KON3Kwxzthg9",
        "colab_type": "code",
        "colab": {
          "base_uri": "https://localhost:8080/",
          "height": 296
        },
        "outputId": "b281163e-9647-4253-88da-88de3941a311"
      },
      "source": [
        "df1.head()"
      ],
      "execution_count": 36,
      "outputs": [
        {
          "output_type": "execute_result",
          "data": {
            "text/html": [
              "<div>\n",
              "<style scoped>\n",
              "    .dataframe tbody tr th:only-of-type {\n",
              "        vertical-align: middle;\n",
              "    }\n",
              "\n",
              "    .dataframe tbody tr th {\n",
              "        vertical-align: top;\n",
              "    }\n",
              "\n",
              "    .dataframe thead th {\n",
              "        text-align: right;\n",
              "    }\n",
              "</style>\n",
              "<table border=\"1\" class=\"dataframe\">\n",
              "  <thead>\n",
              "    <tr style=\"text-align: right;\">\n",
              "      <th></th>\n",
              "      <th>ID</th>\n",
              "      <th>TITLE</th>\n",
              "      <th>ABSTRACT</th>\n",
              "      <th>Computer Science</th>\n",
              "      <th>Physics</th>\n",
              "      <th>Mathematics</th>\n",
              "      <th>Statistics</th>\n",
              "      <th>Quantitative Biology</th>\n",
              "      <th>Quantitative Finance</th>\n",
              "    </tr>\n",
              "  </thead>\n",
              "  <tbody>\n",
              "    <tr>\n",
              "      <th>0</th>\n",
              "      <td>1</td>\n",
              "      <td>reconstructing effect maps</td>\n",
              "      <td>predictive models allow inference analyzing di...</td>\n",
              "      <td>1</td>\n",
              "      <td>0</td>\n",
              "      <td>0</td>\n",
              "      <td>0</td>\n",
              "      <td>0</td>\n",
              "      <td>0</td>\n",
              "    </tr>\n",
              "    <tr>\n",
              "      <th>1</th>\n",
              "      <td>2</td>\n",
              "      <td>rotation invariance neural network</td>\n",
              "      <td>rotation invariance translation invariance gre...</td>\n",
              "      <td>1</td>\n",
              "      <td>0</td>\n",
              "      <td>0</td>\n",
              "      <td>0</td>\n",
              "      <td>0</td>\n",
              "      <td>0</td>\n",
              "    </tr>\n",
              "    <tr>\n",
              "      <th>2</th>\n",
              "      <td>3</td>\n",
              "      <td>spherical polyharmonics poisson kernels polyha...</td>\n",
              "      <td>introduce develop notion spherical natural gen...</td>\n",
              "      <td>0</td>\n",
              "      <td>0</td>\n",
              "      <td>1</td>\n",
              "      <td>0</td>\n",
              "      <td>0</td>\n",
              "      <td>0</td>\n",
              "    </tr>\n",
              "    <tr>\n",
              "      <th>3</th>\n",
              "      <td>4</td>\n",
              "      <td>a finite element approximation stochastic system</td>\n",
              "      <td>stochastic equation coupled maxwell equations ...</td>\n",
              "      <td>0</td>\n",
              "      <td>0</td>\n",
              "      <td>1</td>\n",
              "      <td>0</td>\n",
              "      <td>0</td>\n",
              "      <td>0</td>\n",
              "    </tr>\n",
              "    <tr>\n",
              "      <th>4</th>\n",
              "      <td>5</td>\n",
              "      <td>comparative study discrete wavelet transforms ...</td>\n",
              "      <td>spectra samples plant species used explore inf...</td>\n",
              "      <td>1</td>\n",
              "      <td>0</td>\n",
              "      <td>0</td>\n",
              "      <td>1</td>\n",
              "      <td>0</td>\n",
              "      <td>0</td>\n",
              "    </tr>\n",
              "  </tbody>\n",
              "</table>\n",
              "</div>"
            ],
            "text/plain": [
              "   ID  ... Quantitative Finance\n",
              "0   1  ...                    0\n",
              "1   2  ...                    0\n",
              "2   3  ...                    0\n",
              "3   4  ...                    0\n",
              "4   5  ...                    0\n",
              "\n",
              "[5 rows x 9 columns]"
            ]
          },
          "metadata": {
            "tags": []
          },
          "execution_count": 36
        }
      ]
    },
    {
      "cell_type": "code",
      "metadata": {
        "id": "ca4s1ew8Bc9p",
        "colab_type": "code",
        "colab": {}
      },
      "source": [
        "df1.drop(\"ABSTRACT1\",axis=1,inplace=True)"
      ],
      "execution_count": 32,
      "outputs": []
    },
    {
      "cell_type": "code",
      "metadata": {
        "id": "ySBveisu39vm",
        "colab_type": "code",
        "colab": {}
      },
      "source": [
        "df1.to_csv(\"hackathon34.csv\",index=False)"
      ],
      "execution_count": 34,
      "outputs": []
    },
    {
      "cell_type": "code",
      "metadata": {
        "id": "2H-o-Q3AAZ-K",
        "colab_type": "code",
        "colab": {
          "base_uri": "https://localhost:8080/",
          "height": 296
        },
        "outputId": "956388a3-9c95-4e07-e5fc-9bebb03cadf9"
      },
      "source": [
        "d=pd.read_csv(\"hackathon34.csv\")\n",
        "d.head()"
      ],
      "execution_count": 35,
      "outputs": [
        {
          "output_type": "execute_result",
          "data": {
            "text/html": [
              "<div>\n",
              "<style scoped>\n",
              "    .dataframe tbody tr th:only-of-type {\n",
              "        vertical-align: middle;\n",
              "    }\n",
              "\n",
              "    .dataframe tbody tr th {\n",
              "        vertical-align: top;\n",
              "    }\n",
              "\n",
              "    .dataframe thead th {\n",
              "        text-align: right;\n",
              "    }\n",
              "</style>\n",
              "<table border=\"1\" class=\"dataframe\">\n",
              "  <thead>\n",
              "    <tr style=\"text-align: right;\">\n",
              "      <th></th>\n",
              "      <th>ID</th>\n",
              "      <th>TITLE</th>\n",
              "      <th>ABSTRACT</th>\n",
              "      <th>Computer Science</th>\n",
              "      <th>Physics</th>\n",
              "      <th>Mathematics</th>\n",
              "      <th>Statistics</th>\n",
              "      <th>Quantitative Biology</th>\n",
              "      <th>Quantitative Finance</th>\n",
              "    </tr>\n",
              "  </thead>\n",
              "  <tbody>\n",
              "    <tr>\n",
              "      <th>0</th>\n",
              "      <td>1</td>\n",
              "      <td>reconstructing effect maps</td>\n",
              "      <td>predictive models allow inference analyzing di...</td>\n",
              "      <td>1</td>\n",
              "      <td>0</td>\n",
              "      <td>0</td>\n",
              "      <td>0</td>\n",
              "      <td>0</td>\n",
              "      <td>0</td>\n",
              "    </tr>\n",
              "    <tr>\n",
              "      <th>1</th>\n",
              "      <td>2</td>\n",
              "      <td>rotation invariance neural network</td>\n",
              "      <td>rotation invariance translation invariance gre...</td>\n",
              "      <td>1</td>\n",
              "      <td>0</td>\n",
              "      <td>0</td>\n",
              "      <td>0</td>\n",
              "      <td>0</td>\n",
              "      <td>0</td>\n",
              "    </tr>\n",
              "    <tr>\n",
              "      <th>2</th>\n",
              "      <td>3</td>\n",
              "      <td>spherical polyharmonics poisson kernels polyha...</td>\n",
              "      <td>introduce develop notion spherical natural gen...</td>\n",
              "      <td>0</td>\n",
              "      <td>0</td>\n",
              "      <td>1</td>\n",
              "      <td>0</td>\n",
              "      <td>0</td>\n",
              "      <td>0</td>\n",
              "    </tr>\n",
              "    <tr>\n",
              "      <th>3</th>\n",
              "      <td>4</td>\n",
              "      <td>a finite element approximation stochastic system</td>\n",
              "      <td>stochastic equation coupled maxwell equations ...</td>\n",
              "      <td>0</td>\n",
              "      <td>0</td>\n",
              "      <td>1</td>\n",
              "      <td>0</td>\n",
              "      <td>0</td>\n",
              "      <td>0</td>\n",
              "    </tr>\n",
              "    <tr>\n",
              "      <th>4</th>\n",
              "      <td>5</td>\n",
              "      <td>comparative study discrete wavelet transforms ...</td>\n",
              "      <td>spectra samples plant species used explore inf...</td>\n",
              "      <td>1</td>\n",
              "      <td>0</td>\n",
              "      <td>0</td>\n",
              "      <td>1</td>\n",
              "      <td>0</td>\n",
              "      <td>0</td>\n",
              "    </tr>\n",
              "  </tbody>\n",
              "</table>\n",
              "</div>"
            ],
            "text/plain": [
              "   ID  ... Quantitative Finance\n",
              "0   1  ...                    0\n",
              "1   2  ...                    0\n",
              "2   3  ...                    0\n",
              "3   4  ...                    0\n",
              "4   5  ...                    0\n",
              "\n",
              "[5 rows x 9 columns]"
            ]
          },
          "metadata": {
            "tags": []
          },
          "execution_count": 35
        }
      ]
    },
    {
      "cell_type": "code",
      "metadata": {
        "id": "CCVAbD-9ENvC",
        "colab_type": "code",
        "colab": {}
      },
      "source": [
        "import tensorflow as tf\n",
        "from tensorflow import keras\n",
        "from tensorflow.keras.preprocessing.text import Tokenizer"
      ],
      "execution_count": 37,
      "outputs": []
    },
    {
      "cell_type": "code",
      "metadata": {
        "id": "eOxin-t6xPnY",
        "colab_type": "code",
        "colab": {
          "base_uri": "https://localhost:8080/",
          "height": 118
        },
        "outputId": "aacab0fa-978d-4ead-e4e2-c7e1d4767666"
      },
      "source": [
        "for i in [\"Computer Science\",\"Physics\",\"Mathematics\",\"Statistics\",\"Quantitative Biology\",\"Quantitative Finance\"]:\n",
        "  print(df[i].sum()/len(df))"
      ],
      "execution_count": 38,
      "outputs": [
        {
          "output_type": "stream",
          "text": [
            "0.4097844745374785\n",
            "0.28671562082777036\n",
            "0.2678809841693687\n",
            "0.24823574289528896\n",
            "0.027989700553118443\n",
            "0.011872973488460805\n"
          ],
          "name": "stdout"
        }
      ]
    },
    {
      "cell_type": "code",
      "metadata": {
        "id": "1F1oEj9ZEzZL",
        "colab_type": "code",
        "colab": {}
      },
      "source": [
        "d_tok=d.copy()"
      ],
      "execution_count": 39,
      "outputs": []
    },
    {
      "cell_type": "code",
      "metadata": {
        "id": "wUdyb08rFJA-",
        "colab_type": "code",
        "colab": {}
      },
      "source": [
        "ar=list(d_tok[\"TITLE\"].astype(\"str\"))\n"
      ],
      "execution_count": 40,
      "outputs": []
    },
    {
      "cell_type": "code",
      "metadata": {
        "id": "2n5WfjeJEnrM",
        "colab_type": "code",
        "colab": {}
      },
      "source": [
        "tokens=Tokenizer(oov_token=\"<OOV>\")\n",
        "tokens.fit_on_texts(ar)"
      ],
      "execution_count": 41,
      "outputs": []
    },
    {
      "cell_type": "code",
      "metadata": {
        "id": "ifJEQ6A_QEGi",
        "colab_type": "code",
        "colab": {}
      },
      "source": [
        "word_index=tokens.word_index\n"
      ],
      "execution_count": 42,
      "outputs": []
    },
    {
      "cell_type": "code",
      "metadata": {
        "id": "jCkZvIyPbUCE",
        "colab_type": "code",
        "colab": {
          "base_uri": "https://localhost:8080/",
          "height": 34
        },
        "outputId": "a86e2e4e-395d-4916-e6a1-33c300b5722b"
      },
      "source": [
        "vocab_size0=len(word_index)\n",
        "vocab_size0"
      ],
      "execution_count": 43,
      "outputs": [
        {
          "output_type": "execute_result",
          "data": {
            "text/plain": [
              "15325"
            ]
          },
          "metadata": {
            "tags": []
          },
          "execution_count": 43
        }
      ]
    },
    {
      "cell_type": "code",
      "metadata": {
        "id": "h5zxcitdQ2v4",
        "colab_type": "code",
        "colab": {}
      },
      "source": [
        "sequences=tokens.texts_to_sequences(ar)\n"
      ],
      "execution_count": 44,
      "outputs": []
    },
    {
      "cell_type": "code",
      "metadata": {
        "id": "aNBwocK6Ro3h",
        "colab_type": "code",
        "colab": {}
      },
      "source": [
        "from tensorflow.keras.preprocessing.sequence import pad_sequences"
      ],
      "execution_count": 45,
      "outputs": []
    },
    {
      "cell_type": "code",
      "metadata": {
        "id": "EdJPCZuRR9yi",
        "colab_type": "code",
        "colab": {
          "base_uri": "https://localhost:8080/",
          "height": 134
        },
        "outputId": "e829da1d-3209-4488-e9ad-a947cd04eeba"
      },
      "source": [
        "pad_sequences0=pad_sequences(sequences,padding=\"post\")\n",
        "pad_sequences0"
      ],
      "execution_count": 46,
      "outputs": [
        {
          "output_type": "execute_result",
          "data": {
            "text/plain": [
              "array([[2592,   98,  248, ...,    0,    0,    0],\n",
              "       [ 952, 1298,   10, ...,    0,    0,    0],\n",
              "       [ 953, 7999,  853, ...,    0,    0,    0],\n",
              "       ...,\n",
              "       [2197, 3111,  272, ...,    0,    0,    0],\n",
              "       [   7,   45,  128, ...,    0,    0,    0],\n",
              "       [1746, 4606, 1754, ...,    0,    0,    0]], dtype=int32)"
            ]
          },
          "metadata": {
            "tags": []
          },
          "execution_count": 46
        }
      ]
    },
    {
      "cell_type": "code",
      "metadata": {
        "id": "8zOrOb8DSPBk",
        "colab_type": "code",
        "colab": {
          "base_uri": "https://localhost:8080/",
          "height": 34
        },
        "outputId": "739bcfb2-8529-4f64-fafc-9ce2b10fcc3d"
      },
      "source": [
        "pad_sequences0.shape"
      ],
      "execution_count": 47,
      "outputs": [
        {
          "output_type": "execute_result",
          "data": {
            "text/plain": [
              "(20972, 23)"
            ]
          },
          "metadata": {
            "tags": []
          },
          "execution_count": 47
        }
      ]
    },
    {
      "cell_type": "code",
      "metadata": {
        "id": "gqkZBbVnxnoh",
        "colab_type": "code",
        "colab": {}
      },
      "source": [
        "ar1=list(d_tok[\"ABSTRACT\"].astype(\"str\"))"
      ],
      "execution_count": 49,
      "outputs": []
    },
    {
      "cell_type": "code",
      "metadata": {
        "id": "5TVzzq6tyEw5",
        "colab_type": "code",
        "colab": {}
      },
      "source": [
        "tokens1=Tokenizer(oov_token=\"<OOV>\")\n",
        "tokens1.fit_on_texts(ar1)"
      ],
      "execution_count": 50,
      "outputs": []
    },
    {
      "cell_type": "code",
      "metadata": {
        "id": "oRjKt3HryNSQ",
        "colab_type": "code",
        "colab": {}
      },
      "source": [
        "word_index1=tokens1.word_index\n"
      ],
      "execution_count": 51,
      "outputs": []
    },
    {
      "cell_type": "code",
      "metadata": {
        "id": "91TYZs4uXAwN",
        "colab_type": "code",
        "colab": {}
      },
      "source": [
        "tokens1.num_words=20972"
      ],
      "execution_count": 52,
      "outputs": []
    },
    {
      "cell_type": "code",
      "metadata": {
        "id": "4XMWctn6ba_v",
        "colab_type": "code",
        "colab": {
          "base_uri": "https://localhost:8080/",
          "height": 34
        },
        "outputId": "90be14a2-8c2b-459e-cb9c-cf19c590c52b"
      },
      "source": [
        "vocab_size1=len(word_index1)\n",
        "vocab_size1"
      ],
      "execution_count": 53,
      "outputs": [
        {
          "output_type": "execute_result",
          "data": {
            "text/plain": [
              "39738"
            ]
          },
          "metadata": {
            "tags": []
          },
          "execution_count": 53
        }
      ]
    },
    {
      "cell_type": "code",
      "metadata": {
        "id": "QXwV-6o7yVUP",
        "colab_type": "code",
        "colab": {}
      },
      "source": [
        "sequences1=tokens1.texts_to_sequences(ar1)\n"
      ],
      "execution_count": 54,
      "outputs": []
    },
    {
      "cell_type": "code",
      "metadata": {
        "id": "5BgISP5syp2E",
        "colab_type": "code",
        "colab": {}
      },
      "source": [
        "from tensorflow.keras.preprocessing.sequence import pad_sequences"
      ],
      "execution_count": 55,
      "outputs": []
    },
    {
      "cell_type": "code",
      "metadata": {
        "id": "ZC4cuMrByjCQ",
        "colab_type": "code",
        "colab": {
          "base_uri": "https://localhost:8080/",
          "height": 134
        },
        "outputId": "f561f065-cb1c-4b46-b7aa-7c7f5edd23dd"
      },
      "source": [
        "pad_sequences1=pad_sequences(sequences1,padding=\"post\")\n",
        "pad_sequences1"
      ],
      "execution_count": 56,
      "outputs": [
        {
          "output_type": "execute_result",
          "data": {
            "text/plain": [
              "array([[ 782,   24,  538, ...,    0,    0,    0],\n",
              "       [1198, 2485, 1323, ...,    0,    0,    0],\n",
              "       [  98,  163,  590, ...,    0,    0,    0],\n",
              "       ...,\n",
              "       [  25,   12,   15, ...,    0,    0,    0],\n",
              "       [ 877, 8080, 3421, ...,    0,    0,    0],\n",
              "       [7277, 3047, 1054, ...,    0,    0,    0]], dtype=int32)"
            ]
          },
          "metadata": {
            "tags": []
          },
          "execution_count": 56
        }
      ]
    },
    {
      "cell_type": "code",
      "metadata": {
        "id": "EDQaGCzVyzpd",
        "colab_type": "code",
        "colab": {
          "base_uri": "https://localhost:8080/",
          "height": 34
        },
        "outputId": "bea1f911-0741-4f0a-c2ec-aa1569881034"
      },
      "source": [
        "pad_sequences1.shape"
      ],
      "execution_count": 57,
      "outputs": [
        {
          "output_type": "execute_result",
          "data": {
            "text/plain": [
              "(20972, 217)"
            ]
          },
          "metadata": {
            "tags": []
          },
          "execution_count": 57
        }
      ]
    },
    {
      "cell_type": "code",
      "metadata": {
        "id": "IRg2UWOM0PUR",
        "colab_type": "code",
        "colab": {
          "base_uri": "https://localhost:8080/",
          "height": 586
        },
        "outputId": "1bc2b42b-3725-4158-f855-2d94dc661e3e"
      },
      "source": [
        "d_tok.drop(\"ID\",axis=1,inplace=False)"
      ],
      "execution_count": 58,
      "outputs": [
        {
          "output_type": "execute_result",
          "data": {
            "text/html": [
              "<div>\n",
              "<style scoped>\n",
              "    .dataframe tbody tr th:only-of-type {\n",
              "        vertical-align: middle;\n",
              "    }\n",
              "\n",
              "    .dataframe tbody tr th {\n",
              "        vertical-align: top;\n",
              "    }\n",
              "\n",
              "    .dataframe thead th {\n",
              "        text-align: right;\n",
              "    }\n",
              "</style>\n",
              "<table border=\"1\" class=\"dataframe\">\n",
              "  <thead>\n",
              "    <tr style=\"text-align: right;\">\n",
              "      <th></th>\n",
              "      <th>TITLE</th>\n",
              "      <th>ABSTRACT</th>\n",
              "      <th>Computer Science</th>\n",
              "      <th>Physics</th>\n",
              "      <th>Mathematics</th>\n",
              "      <th>Statistics</th>\n",
              "      <th>Quantitative Biology</th>\n",
              "      <th>Quantitative Finance</th>\n",
              "    </tr>\n",
              "  </thead>\n",
              "  <tbody>\n",
              "    <tr>\n",
              "      <th>0</th>\n",
              "      <td>reconstructing effect maps</td>\n",
              "      <td>predictive models allow inference analyzing di...</td>\n",
              "      <td>1</td>\n",
              "      <td>0</td>\n",
              "      <td>0</td>\n",
              "      <td>0</td>\n",
              "      <td>0</td>\n",
              "      <td>0</td>\n",
              "    </tr>\n",
              "    <tr>\n",
              "      <th>1</th>\n",
              "      <td>rotation invariance neural network</td>\n",
              "      <td>rotation invariance translation invariance gre...</td>\n",
              "      <td>1</td>\n",
              "      <td>0</td>\n",
              "      <td>0</td>\n",
              "      <td>0</td>\n",
              "      <td>0</td>\n",
              "      <td>0</td>\n",
              "    </tr>\n",
              "    <tr>\n",
              "      <th>2</th>\n",
              "      <td>spherical polyharmonics poisson kernels polyha...</td>\n",
              "      <td>introduce develop notion spherical natural gen...</td>\n",
              "      <td>0</td>\n",
              "      <td>0</td>\n",
              "      <td>1</td>\n",
              "      <td>0</td>\n",
              "      <td>0</td>\n",
              "      <td>0</td>\n",
              "    </tr>\n",
              "    <tr>\n",
              "      <th>3</th>\n",
              "      <td>a finite element approximation stochastic system</td>\n",
              "      <td>stochastic equation coupled maxwell equations ...</td>\n",
              "      <td>0</td>\n",
              "      <td>0</td>\n",
              "      <td>1</td>\n",
              "      <td>0</td>\n",
              "      <td>0</td>\n",
              "      <td>0</td>\n",
              "    </tr>\n",
              "    <tr>\n",
              "      <th>4</th>\n",
              "      <td>comparative study discrete wavelet transforms ...</td>\n",
              "      <td>spectra samples plant species used explore inf...</td>\n",
              "      <td>1</td>\n",
              "      <td>0</td>\n",
              "      <td>0</td>\n",
              "      <td>1</td>\n",
              "      <td>0</td>\n",
              "      <td>0</td>\n",
              "    </tr>\n",
              "    <tr>\n",
              "      <th>...</th>\n",
              "      <td>...</td>\n",
              "      <td>...</td>\n",
              "      <td>...</td>\n",
              "      <td>...</td>\n",
              "      <td>...</td>\n",
              "      <td>...</td>\n",
              "      <td>...</td>\n",
              "      <td>...</td>\n",
              "    </tr>\n",
              "    <tr>\n",
              "      <th>20967</th>\n",
              "      <td>contemporary machine guide practitioners physi...</td>\n",
              "      <td>machine learning finding increasingly broad ap...</td>\n",
              "      <td>1</td>\n",
              "      <td>1</td>\n",
              "      <td>0</td>\n",
              "      <td>0</td>\n",
              "      <td>0</td>\n",
              "      <td>0</td>\n",
              "    </tr>\n",
              "    <tr>\n",
              "      <th>20968</th>\n",
              "      <td>uniform diamond coatings hard alloy cutting in...</td>\n",
              "      <td>polycrystalline diamond coatings grown cemente...</td>\n",
              "      <td>0</td>\n",
              "      <td>1</td>\n",
              "      <td>0</td>\n",
              "      <td>0</td>\n",
              "      <td>0</td>\n",
              "      <td>0</td>\n",
              "    </tr>\n",
              "    <tr>\n",
              "      <th>20969</th>\n",
              "      <td>analysing soccer games clustering conceptors</td>\n",
              "      <td>present new approach identifying situations ca...</td>\n",
              "      <td>1</td>\n",
              "      <td>0</td>\n",
              "      <td>0</td>\n",
              "      <td>0</td>\n",
              "      <td>0</td>\n",
              "      <td>0</td>\n",
              "    </tr>\n",
              "    <tr>\n",
              "      <th>20970</th>\n",
              "      <td>on efficient simulation sum correlated variates</td>\n",
              "      <td>sum variates encountered many challenging appl...</td>\n",
              "      <td>0</td>\n",
              "      <td>0</td>\n",
              "      <td>1</td>\n",
              "      <td>1</td>\n",
              "      <td>0</td>\n",
              "      <td>0</td>\n",
              "    </tr>\n",
              "    <tr>\n",
              "      <th>20971</th>\n",
              "      <td>why optional stopping problem bayesians</td>\n",
              "      <td>optional stopping subject debate bayesian psyc...</td>\n",
              "      <td>0</td>\n",
              "      <td>0</td>\n",
              "      <td>1</td>\n",
              "      <td>1</td>\n",
              "      <td>0</td>\n",
              "      <td>0</td>\n",
              "    </tr>\n",
              "  </tbody>\n",
              "</table>\n",
              "<p>20972 rows × 8 columns</p>\n",
              "</div>"
            ],
            "text/plain": [
              "                                                   TITLE  ... Quantitative Finance\n",
              "0                             reconstructing effect maps  ...                    0\n",
              "1                     rotation invariance neural network  ...                    0\n",
              "2      spherical polyharmonics poisson kernels polyha...  ...                    0\n",
              "3       a finite element approximation stochastic system  ...                    0\n",
              "4      comparative study discrete wavelet transforms ...  ...                    0\n",
              "...                                                  ...  ...                  ...\n",
              "20967  contemporary machine guide practitioners physi...  ...                    0\n",
              "20968  uniform diamond coatings hard alloy cutting in...  ...                    0\n",
              "20969       analysing soccer games clustering conceptors  ...                    0\n",
              "20970    on efficient simulation sum correlated variates  ...                    0\n",
              "20971            why optional stopping problem bayesians  ...                    0\n",
              "\n",
              "[20972 rows x 8 columns]"
            ]
          },
          "metadata": {
            "tags": []
          },
          "execution_count": 58
        }
      ]
    },
    {
      "cell_type": "code",
      "metadata": {
        "id": "yE_5X3Wh1iSL",
        "colab_type": "code",
        "colab": {}
      },
      "source": [
        "from tensorflow.keras.layers import Dense,Bidirectional,LSTM,Embedding,Input,concatenate,Dropout\n",
        "from tensorflow.keras.models import Sequential,Model\n",
        "from tensorflow.keras.callbacks import EarlyStopping"
      ],
      "execution_count": 63,
      "outputs": []
    },
    {
      "cell_type": "code",
      "metadata": {
        "id": "Nhg5WUTbD-IQ",
        "colab_type": "code",
        "colab": {}
      },
      "source": [
        "input_tensor0=Input(shape=(23,))\n",
        "input_tensor1=Input(shape=(217,))"
      ],
      "execution_count": 60,
      "outputs": []
    },
    {
      "cell_type": "markdown",
      "metadata": {
        "id": "3cJAwiAuCEE9",
        "colab_type": "text"
      },
      "source": [
        "Now we create an embedding layer for both abstract and title"
      ]
    },
    {
      "cell_type": "code",
      "metadata": {
        "id": "M2M9whNECzZn",
        "colab_type": "code",
        "colab": {}
      },
      "source": [
        "callbacks=EarlyStopping(monitor=\"val_accuracy\",patience=3)"
      ],
      "execution_count": 69,
      "outputs": []
    },
    {
      "cell_type": "code",
      "metadata": {
        "id": "Wjpx9XMR2B-D",
        "colab_type": "code",
        "colab": {}
      },
      "source": [
        "model=Sequential()\n",
        "model.add(Embedding(input_dim=vocab_size0+2,output_dim=260,input_length=23))\n",
        "model.add(Bidirectional(LSTM(180)))\n",
        "model.add(Dense(6,activation=\"softmax\"))\n"
      ],
      "execution_count": 94,
      "outputs": []
    },
    {
      "cell_type": "markdown",
      "metadata": {
        "id": "v0irgX3rJX12",
        "colab_type": "text"
      },
      "source": [
        "We will predict only using title here"
      ]
    },
    {
      "cell_type": "code",
      "metadata": {
        "id": "oju4cahB72ET",
        "colab_type": "code",
        "colab": {}
      },
      "source": [
        "model.compile(optimizer=\"adam\",loss=\"categorical_crossentropy\",metrics=[\"accuracy\"])"
      ],
      "execution_count": 95,
      "outputs": []
    },
    {
      "cell_type": "code",
      "metadata": {
        "id": "8VFg43-o8n-W",
        "colab_type": "code",
        "colab": {
          "base_uri": "https://localhost:8080/",
          "height": 269
        },
        "outputId": "51e23fd3-f5f8-46bc-ff8a-723a3a8c96d2"
      },
      "source": [
        "model.fit(pad_sequences0,d_tok[[\"Computer Science\",\"Physics\",\"Mathematics\",\"Statistics\"\t,\"Quantitative Biology\",\t\"Quantitative Finance\"\t]],validation_split=0.1,epochs=10,verbose=1,callbacks=[callbacks])"
      ],
      "execution_count": 98,
      "outputs": [
        {
          "output_type": "stream",
          "text": [
            "Epoch 1/10\n",
            "590/590 [==============================] - 103s 174ms/step - loss: 1.7679 - accuracy: 0.5304 - val_loss: 1.5216 - val_accuracy: 0.4247\n",
            "Epoch 2/10\n",
            "590/590 [==============================] - 102s 173ms/step - loss: 1.4365 - accuracy: 0.7199 - val_loss: 1.6578 - val_accuracy: 0.7059\n",
            "Epoch 3/10\n",
            "590/590 [==============================] - 102s 173ms/step - loss: 1.5101 - accuracy: 0.7542 - val_loss: 1.8229 - val_accuracy: 0.7126\n",
            "Epoch 4/10\n",
            "590/590 [==============================] - 102s 173ms/step - loss: 1.6770 - accuracy: 0.7669 - val_loss: 2.0875 - val_accuracy: 0.7183\n",
            "Epoch 5/10\n",
            "590/590 [==============================] - 102s 173ms/step - loss: 1.8553 - accuracy: 0.7721 - val_loss: 2.5084 - val_accuracy: 0.7059\n",
            "Epoch 6/10\n",
            "590/590 [==============================] - 102s 173ms/step - loss: 2.2068 - accuracy: 0.7777 - val_loss: 2.9688 - val_accuracy: 0.6988\n",
            "Epoch 7/10\n",
            "590/590 [==============================] - 102s 173ms/step - loss: 2.5405 - accuracy: 0.7797 - val_loss: 3.2315 - val_accuracy: 0.7107\n"
          ],
          "name": "stdout"
        },
        {
          "output_type": "execute_result",
          "data": {
            "text/plain": [
              "<tensorflow.python.keras.callbacks.History at 0x7f10d4b3c518>"
            ]
          },
          "metadata": {
            "tags": []
          },
          "execution_count": 98
        }
      ]
    },
    {
      "cell_type": "code",
      "metadata": {
        "id": "orV89N4pOX5y",
        "colab_type": "code",
        "colab": {
          "base_uri": "https://localhost:8080/",
          "height": 50
        },
        "outputId": "79ca8511-08aa-4c19-b903-6414870beaeb"
      },
      "source": [
        "model.evaluate(pad_sequences0,d_tok[[\"Computer Science\",\"Physics\",\"Mathematics\",\"Statistics\"\t,\"Quantitative Biology\",\"Quantitative Finance\"\t]])"
      ],
      "execution_count": 99,
      "outputs": [
        {
          "output_type": "stream",
          "text": [
            "656/656 [==============================] - 26s 40ms/step - loss: 2.6603 - accuracy: 0.7850\n"
          ],
          "name": "stdout"
        },
        {
          "output_type": "execute_result",
          "data": {
            "text/plain": [
              "[2.660327196121216, 0.784951388835907]"
            ]
          },
          "metadata": {
            "tags": []
          },
          "execution_count": 99
        }
      ]
    },
    {
      "cell_type": "code",
      "metadata": {
        "id": "yh3iyt_6ocaD",
        "colab_type": "code",
        "colab": {}
      },
      "source": [
        "model1=Sequential()\n",
        "model1.add(Embedding(input_dim=vocab_size1+1,output_dim=320,input_length=240))\n",
        "model1.add(Bidirectional(LSTM(210)))\n",
        "model1.add(Dropout(0.1))\n",
        "model1.add(Dense(6,activation=\"softmax\"))"
      ],
      "execution_count": 78,
      "outputs": []
    },
    {
      "cell_type": "code",
      "metadata": {
        "id": "BTkE9dRYpthV",
        "colab_type": "code",
        "colab": {
          "base_uri": "https://localhost:8080/",
          "height": 54
        },
        "outputId": "8e417241-a3d1-4187-d6dc-fe1a429c6978"
      },
      "source": [
        "embed_layer=model1([input_tensor0,input_tensor1])"
      ],
      "execution_count": 79,
      "outputs": [
        {
          "output_type": "stream",
          "text": [
            "WARNING:tensorflow:Model was constructed with shape (None, 240) for input Tensor(\"embedding_5_input:0\", shape=(None, 240), dtype=float32), but it was called on an input with incompatible shape (None, 23).\n"
          ],
          "name": "stdout"
        }
      ]
    },
    {
      "cell_type": "code",
      "metadata": {
        "id": "f6Q8t-6SqaJS",
        "colab_type": "code",
        "colab": {}
      },
      "source": [
        "model2=Model([input_tensor0,input_tensor1],embed_layer)"
      ],
      "execution_count": 80,
      "outputs": []
    },
    {
      "cell_type": "code",
      "metadata": {
        "id": "c41J2WqQql7c",
        "colab_type": "code",
        "colab": {}
      },
      "source": [
        "model2.compile(optimizer=\"adam\",loss=\"categorical_crossentropy\",metrics=[\"accuracy\"])"
      ],
      "execution_count": 81,
      "outputs": []
    },
    {
      "cell_type": "code",
      "metadata": {
        "id": "_rBo-Wkbo0Xj",
        "colab_type": "code",
        "colab": {
          "base_uri": "https://localhost:8080/",
          "height": 306
        },
        "outputId": "1e8c30cd-dce9-4e23-d3cc-2be5c2104a7a"
      },
      "source": [
        "model2.fit([pad_sequences0,pad_sequences1],d_tok[[\"Computer Science\",\"Physics\",\"Mathematics\",\"Statistics\"\t,\"Quantitative Biology\",\t\"Quantitative Finance\"\t]],validation_split=0.1,epochs=10,verbose=1,callbacks=[callbacks])"
      ],
      "execution_count": 82,
      "outputs": [
        {
          "output_type": "stream",
          "text": [
            "Epoch 1/10\n",
            "WARNING:tensorflow:Model was constructed with shape (None, 240) for input Tensor(\"embedding_5_input:0\", shape=(None, 240), dtype=float32), but it was called on an input with incompatible shape (None, 23).\n",
            "WARNING:tensorflow:Model was constructed with shape (None, 240) for input Tensor(\"embedding_5_input:0\", shape=(None, 240), dtype=float32), but it was called on an input with incompatible shape (None, 23).\n",
            "590/590 [==============================] - ETA: 0s - loss: 1.8865 - accuracy: 0.4486WARNING:tensorflow:Model was constructed with shape (None, 240) for input Tensor(\"embedding_5_input:0\", shape=(None, 240), dtype=float32), but it was called on an input with incompatible shape (None, 23).\n",
            "590/590 [==============================] - 184s 312ms/step - loss: 1.8865 - accuracy: 0.4486 - val_loss: 1.6074 - val_accuracy: 0.6473\n",
            "Epoch 2/10\n",
            "590/590 [==============================] - 184s 311ms/step - loss: 1.5595 - accuracy: 0.6424 - val_loss: 1.6814 - val_accuracy: 0.7002\n",
            "Epoch 3/10\n",
            "590/590 [==============================] - 184s 312ms/step - loss: 1.6787 - accuracy: 0.6927 - val_loss: 1.8730 - val_accuracy: 0.7083\n",
            "Epoch 4/10\n",
            "590/590 [==============================] - 182s 309ms/step - loss: 1.7614 - accuracy: 0.7197 - val_loss: 2.1796 - val_accuracy: 0.7016\n",
            "Epoch 5/10\n",
            "590/590 [==============================] - 181s 308ms/step - loss: 2.0181 - accuracy: 0.7298 - val_loss: 2.4638 - val_accuracy: 0.6911\n",
            "Epoch 6/10\n",
            "590/590 [==============================] - 182s 309ms/step - loss: 2.3389 - accuracy: 0.7347 - val_loss: 2.8370 - val_accuracy: 0.6916\n"
          ],
          "name": "stdout"
        },
        {
          "output_type": "execute_result",
          "data": {
            "text/plain": [
              "<tensorflow.python.keras.callbacks.History at 0x7f10d7bf4198>"
            ]
          },
          "metadata": {
            "tags": []
          },
          "execution_count": 82
        }
      ]
    },
    {
      "cell_type": "code",
      "metadata": {
        "id": "swX1DbEDymSL",
        "colab_type": "code",
        "colab": {
          "base_uri": "https://localhost:8080/",
          "height": 50
        },
        "outputId": "a738aef4-7159-4a91-d26b-37e10c9c08b1"
      },
      "source": [
        "model2.evaluate([pad_sequences0,pad_sequences1],d_tok[[\"Computer Science\",\"Physics\",\"Mathematics\",\"Statistics\"\t,\"Quantitative Biology\",\t\"Quantitative Finance\"\t]])"
      ],
      "execution_count": 83,
      "outputs": [
        {
          "output_type": "stream",
          "text": [
            "656/656 [==============================] - 31s 47ms/step - loss: 2.3626 - accuracy: 0.7768\n"
          ],
          "name": "stdout"
        },
        {
          "output_type": "execute_result",
          "data": {
            "text/plain": [
              "[2.3626229763031006, 0.7767976522445679]"
            ]
          },
          "metadata": {
            "tags": []
          },
          "execution_count": 83
        }
      ]
    },
    {
      "cell_type": "code",
      "metadata": {
        "id": "aFWSTZtlRkon",
        "colab_type": "code",
        "colab": {}
      },
      "source": [
        "elements=[\"Computer Science\",\"Physics\",\"Mathematics\",\"Statistics\"\t,\"Quantitative Biology\",\"Quantitative Finance\"]"
      ],
      "execution_count": 100,
      "outputs": []
    },
    {
      "cell_type": "code",
      "metadata": {
        "id": "sS1i6yR69ljj",
        "colab_type": "code",
        "colab": {
          "base_uri": "https://localhost:8080/",
          "height": 195
        },
        "outputId": "5e45cddb-67af-4584-d95d-5010bda8a980"
      },
      "source": [
        "test=pd.read_csv(\"test.csv\")\n",
        "test.head()"
      ],
      "execution_count": 102,
      "outputs": [
        {
          "output_type": "execute_result",
          "data": {
            "text/html": [
              "<div>\n",
              "<style scoped>\n",
              "    .dataframe tbody tr th:only-of-type {\n",
              "        vertical-align: middle;\n",
              "    }\n",
              "\n",
              "    .dataframe tbody tr th {\n",
              "        vertical-align: top;\n",
              "    }\n",
              "\n",
              "    .dataframe thead th {\n",
              "        text-align: right;\n",
              "    }\n",
              "</style>\n",
              "<table border=\"1\" class=\"dataframe\">\n",
              "  <thead>\n",
              "    <tr style=\"text-align: right;\">\n",
              "      <th></th>\n",
              "      <th>ID</th>\n",
              "      <th>TITLE</th>\n",
              "      <th>ABSTRACT</th>\n",
              "    </tr>\n",
              "  </thead>\n",
              "  <tbody>\n",
              "    <tr>\n",
              "      <th>0</th>\n",
              "      <td>20973</td>\n",
              "      <td>Closed-form Marginal Likelihood in Gamma-Poiss...</td>\n",
              "      <td>We present novel understandings of the Gamma...</td>\n",
              "    </tr>\n",
              "    <tr>\n",
              "      <th>1</th>\n",
              "      <td>20974</td>\n",
              "      <td>Laboratory mid-IR spectra of equilibrated and ...</td>\n",
              "      <td>Meteorites contain minerals from Solar Syste...</td>\n",
              "    </tr>\n",
              "    <tr>\n",
              "      <th>2</th>\n",
              "      <td>20975</td>\n",
              "      <td>Case For Static AMSDU Aggregation in WLANs</td>\n",
              "      <td>Frame aggregation is a mechanism by which mu...</td>\n",
              "    </tr>\n",
              "    <tr>\n",
              "      <th>3</th>\n",
              "      <td>20976</td>\n",
              "      <td>The $Gaia$-ESO Survey: the inner disk intermed...</td>\n",
              "      <td>Milky Way open clusters are very diverse in ...</td>\n",
              "    </tr>\n",
              "    <tr>\n",
              "      <th>4</th>\n",
              "      <td>20977</td>\n",
              "      <td>Witness-Functions versus Interpretation-Functi...</td>\n",
              "      <td>Proving that a cryptographic protocol is cor...</td>\n",
              "    </tr>\n",
              "  </tbody>\n",
              "</table>\n",
              "</div>"
            ],
            "text/plain": [
              "      ID  ...                                           ABSTRACT\n",
              "0  20973  ...    We present novel understandings of the Gamma...\n",
              "1  20974  ...    Meteorites contain minerals from Solar Syste...\n",
              "2  20975  ...    Frame aggregation is a mechanism by which mu...\n",
              "3  20976  ...    Milky Way open clusters are very diverse in ...\n",
              "4  20977  ...    Proving that a cryptographic protocol is cor...\n",
              "\n",
              "[5 rows x 3 columns]"
            ]
          },
          "metadata": {
            "tags": []
          },
          "execution_count": 102
        }
      ]
    },
    {
      "cell_type": "code",
      "metadata": {
        "id": "k68h4n6N951I",
        "colab_type": "code",
        "colab": {}
      },
      "source": [
        "test[\"TITLE\"]=test[\"TITLE\"].str.lower()\n",
        "test[\"ABSTRACT\"]=test[\"ABSTRACT\"].str.lower()"
      ],
      "execution_count": 103,
      "outputs": []
    },
    {
      "cell_type": "code",
      "metadata": {
        "id": "cwRccApd-lQ4",
        "colab_type": "code",
        "colab": {
          "base_uri": "https://localhost:8080/",
          "height": 195
        },
        "outputId": "e0b7c9f6-c47e-44cd-f8ea-e7f8331573a5"
      },
      "source": [
        "test.head()"
      ],
      "execution_count": 104,
      "outputs": [
        {
          "output_type": "execute_result",
          "data": {
            "text/html": [
              "<div>\n",
              "<style scoped>\n",
              "    .dataframe tbody tr th:only-of-type {\n",
              "        vertical-align: middle;\n",
              "    }\n",
              "\n",
              "    .dataframe tbody tr th {\n",
              "        vertical-align: top;\n",
              "    }\n",
              "\n",
              "    .dataframe thead th {\n",
              "        text-align: right;\n",
              "    }\n",
              "</style>\n",
              "<table border=\"1\" class=\"dataframe\">\n",
              "  <thead>\n",
              "    <tr style=\"text-align: right;\">\n",
              "      <th></th>\n",
              "      <th>ID</th>\n",
              "      <th>TITLE</th>\n",
              "      <th>ABSTRACT</th>\n",
              "    </tr>\n",
              "  </thead>\n",
              "  <tbody>\n",
              "    <tr>\n",
              "      <th>0</th>\n",
              "      <td>20973</td>\n",
              "      <td>closed-form marginal likelihood in gamma-poiss...</td>\n",
              "      <td>we present novel understandings of the gamma...</td>\n",
              "    </tr>\n",
              "    <tr>\n",
              "      <th>1</th>\n",
              "      <td>20974</td>\n",
              "      <td>laboratory mid-ir spectra of equilibrated and ...</td>\n",
              "      <td>meteorites contain minerals from solar syste...</td>\n",
              "    </tr>\n",
              "    <tr>\n",
              "      <th>2</th>\n",
              "      <td>20975</td>\n",
              "      <td>case for static amsdu aggregation in wlans</td>\n",
              "      <td>frame aggregation is a mechanism by which mu...</td>\n",
              "    </tr>\n",
              "    <tr>\n",
              "      <th>3</th>\n",
              "      <td>20976</td>\n",
              "      <td>the $gaia$-eso survey: the inner disk intermed...</td>\n",
              "      <td>milky way open clusters are very diverse in ...</td>\n",
              "    </tr>\n",
              "    <tr>\n",
              "      <th>4</th>\n",
              "      <td>20977</td>\n",
              "      <td>witness-functions versus interpretation-functi...</td>\n",
              "      <td>proving that a cryptographic protocol is cor...</td>\n",
              "    </tr>\n",
              "  </tbody>\n",
              "</table>\n",
              "</div>"
            ],
            "text/plain": [
              "      ID  ...                                           ABSTRACT\n",
              "0  20973  ...    we present novel understandings of the gamma...\n",
              "1  20974  ...    meteorites contain minerals from solar syste...\n",
              "2  20975  ...    frame aggregation is a mechanism by which mu...\n",
              "3  20976  ...    milky way open clusters are very diverse in ...\n",
              "4  20977  ...    proving that a cryptographic protocol is cor...\n",
              "\n",
              "[5 rows x 3 columns]"
            ]
          },
          "metadata": {
            "tags": []
          },
          "execution_count": 104
        }
      ]
    },
    {
      "cell_type": "code",
      "metadata": {
        "id": "uWgGCH13_PyG",
        "colab_type": "code",
        "colab": {}
      },
      "source": [
        "test[\"ABSTRACT\"]=test[\"ABSTRACT\"].apply(lambda x: \" \".join([info for info in x.split() if (info.isalpha()) ]))"
      ],
      "execution_count": 105,
      "outputs": []
    },
    {
      "cell_type": "code",
      "metadata": {
        "id": "iYGDnpUn_iYm",
        "colab_type": "code",
        "colab": {}
      },
      "source": [
        "test[\"TITLE\"]=test[\"TITLE\"].apply(lambda x: \" \".join([info for info in x.split() if (info.isalpha()) ]))"
      ],
      "execution_count": 106,
      "outputs": []
    },
    {
      "cell_type": "code",
      "metadata": {
        "id": "yeVcGnAG_sF8",
        "colab_type": "code",
        "colab": {}
      },
      "source": [
        "test[\"ABSTRACT\"]=test[\"ABSTRACT\"].apply(lambda x: \" \".join([info for info in x.split() if (info not in stopwords.words(\"english\")) ]))"
      ],
      "execution_count": 107,
      "outputs": []
    },
    {
      "cell_type": "code",
      "metadata": {
        "id": "hyXaTSaeAvP9",
        "colab_type": "code",
        "colab": {}
      },
      "source": [
        "test[\"TITLE\"]=test[\"TITLE\"].apply(lambda x: \" \".join([info for info in x.split() if (info not in stopwords.words(\"english\")) ]))"
      ],
      "execution_count": 108,
      "outputs": []
    },
    {
      "cell_type": "code",
      "metadata": {
        "id": "TWrSVuS-BV25",
        "colab_type": "code",
        "colab": {
          "base_uri": "https://localhost:8080/",
          "height": 195
        },
        "outputId": "95d6b2ca-b470-4d9d-c4c7-fb6bdf904bca"
      },
      "source": [
        "test.head()"
      ],
      "execution_count": 109,
      "outputs": [
        {
          "output_type": "execute_result",
          "data": {
            "text/html": [
              "<div>\n",
              "<style scoped>\n",
              "    .dataframe tbody tr th:only-of-type {\n",
              "        vertical-align: middle;\n",
              "    }\n",
              "\n",
              "    .dataframe tbody tr th {\n",
              "        vertical-align: top;\n",
              "    }\n",
              "\n",
              "    .dataframe thead th {\n",
              "        text-align: right;\n",
              "    }\n",
              "</style>\n",
              "<table border=\"1\" class=\"dataframe\">\n",
              "  <thead>\n",
              "    <tr style=\"text-align: right;\">\n",
              "      <th></th>\n",
              "      <th>ID</th>\n",
              "      <th>TITLE</th>\n",
              "      <th>ABSTRACT</th>\n",
              "    </tr>\n",
              "  </thead>\n",
              "  <tbody>\n",
              "    <tr>\n",
              "      <th>0</th>\n",
              "      <td>20973</td>\n",
              "      <td>marginal likelihood matrix factorization</td>\n",
              "      <td>present novel understandings probabilistic mat...</td>\n",
              "    </tr>\n",
              "    <tr>\n",
              "      <th>1</th>\n",
              "      <td>20974</td>\n",
              "      <td>laboratory spectra equilibrated igneous search...</td>\n",
              "      <td>meteorites contain minerals solar system aster...</td>\n",
              "    </tr>\n",
              "    <tr>\n",
              "      <th>2</th>\n",
              "      <td>20975</td>\n",
              "      <td>case static amsdu aggregation wlans</td>\n",
              "      <td>frame aggregation mechanism multiple frames co...</td>\n",
              "    </tr>\n",
              "    <tr>\n",
              "      <th>3</th>\n",
              "      <td>20976</td>\n",
              "      <td>inner disk open cluster ngc</td>\n",
              "      <td>milky way open clusters diverse terms chemical...</td>\n",
              "    </tr>\n",
              "    <tr>\n",
              "      <th>4</th>\n",
              "      <td>20977</td>\n",
              "      <td>versus secrecy cryptographic</td>\n",
              "      <td>proving cryptographic protocol correct secrecy...</td>\n",
              "    </tr>\n",
              "  </tbody>\n",
              "</table>\n",
              "</div>"
            ],
            "text/plain": [
              "      ID  ...                                           ABSTRACT\n",
              "0  20973  ...  present novel understandings probabilistic mat...\n",
              "1  20974  ...  meteorites contain minerals solar system aster...\n",
              "2  20975  ...  frame aggregation mechanism multiple frames co...\n",
              "3  20976  ...  milky way open clusters diverse terms chemical...\n",
              "4  20977  ...  proving cryptographic protocol correct secrecy...\n",
              "\n",
              "[5 rows x 3 columns]"
            ]
          },
          "metadata": {
            "tags": []
          },
          "execution_count": 109
        }
      ]
    },
    {
      "cell_type": "code",
      "metadata": {
        "id": "1OFvV-Az1wHC",
        "colab_type": "code",
        "colab": {
          "base_uri": "https://localhost:8080/",
          "height": 34
        },
        "outputId": "6a7c17bf-d472-4a97-d4f2-fd6ef53fb2d5"
      },
      "source": [
        "test.shape"
      ],
      "execution_count": 110,
      "outputs": [
        {
          "output_type": "execute_result",
          "data": {
            "text/plain": [
              "(8989, 3)"
            ]
          },
          "metadata": {
            "tags": []
          },
          "execution_count": 110
        }
      ]
    },
    {
      "cell_type": "code",
      "metadata": {
        "id": "p29dbSy4D5bg",
        "colab_type": "code",
        "colab": {
          "base_uri": "https://localhost:8080/",
          "height": 102
        },
        "outputId": "4a3a6424-7717-4e66-d442-3e218b8bbe1d"
      },
      "source": [
        "test[\"ABSTRACT\"][1]"
      ],
      "execution_count": 111,
      "outputs": [
        {
          "output_type": "execute_result",
          "data": {
            "application/vnd.google.colaboratory.intrinsic+json": {
              "type": "string"
            },
            "text/plain": [
              "'meteorites contain minerals solar system asteroids different properties presence core provide new transmission spectra powdered meteorites obtain templates spectra asteroidal debris would look essential interpreting spectra past future space like james webb space show transmission spectra wet dry carbonaceous ordinary chondrites achondrite chondrite meteorites distinctly different way one distinguish astronomical two observables spectroscopically separate different meteorites groups thus different types parent feature strength ratio peak shift olivine spectral features due increase iron concentration'"
            ]
          },
          "metadata": {
            "tags": []
          },
          "execution_count": 111
        }
      ]
    },
    {
      "cell_type": "code",
      "metadata": {
        "id": "V8DEfshICvGy",
        "colab_type": "code",
        "colab": {}
      },
      "source": [
        "test1=test.copy()"
      ],
      "execution_count": 112,
      "outputs": []
    },
    {
      "cell_type": "code",
      "metadata": {
        "id": "lyUkRwgECkX4",
        "colab_type": "code",
        "colab": {}
      },
      "source": [
        "ar11=list(test1[\"ABSTRACT\"].astype(\"str\"))"
      ],
      "execution_count": 113,
      "outputs": []
    },
    {
      "cell_type": "code",
      "metadata": {
        "id": "Z-WMf7JjCaVi",
        "colab_type": "code",
        "colab": {
          "base_uri": "https://localhost:8080/",
          "height": 34
        },
        "outputId": "ee1033df-6de9-42f6-8de9-644708e08070"
      },
      "source": [
        "tokens1.fit_on_texts(ar11)\n",
        "word_index11=tokens1.word_index\n",
        "print(len(word_index11))"
      ],
      "execution_count": 115,
      "outputs": [
        {
          "output_type": "stream",
          "text": [
            "46827\n"
          ],
          "name": "stdout"
        }
      ]
    },
    {
      "cell_type": "code",
      "metadata": {
        "id": "Lk7XGS_QQBWU",
        "colab_type": "code",
        "colab": {}
      },
      "source": [
        "tokens1.num_words=20972"
      ],
      "execution_count": 116,
      "outputs": []
    },
    {
      "cell_type": "code",
      "metadata": {
        "id": "Soc6ICE_NnP2",
        "colab_type": "code",
        "colab": {}
      },
      "source": [
        "seqq1=tokens1.texts_to_sequences(ar11)\n",
        "padd1=pad_sequences(seqq1,padding=\"post\")"
      ],
      "execution_count": 117,
      "outputs": []
    },
    {
      "cell_type": "code",
      "metadata": {
        "id": "kugPy5MARgCh",
        "colab_type": "code",
        "colab": {}
      },
      "source": [
        "ar111=list(test1[\"TITLE\"].astype(\"str\"))"
      ],
      "execution_count": 119,
      "outputs": []
    },
    {
      "cell_type": "code",
      "metadata": {
        "id": "RBbAYWbbR1Hj",
        "colab_type": "code",
        "colab": {
          "base_uri": "https://localhost:8080/",
          "height": 34
        },
        "outputId": "516a1787-3d3a-4ebb-9d93-cb27f03250f8"
      },
      "source": [
        "tokens.fit_on_texts(ar111)\n",
        "word_index111=tokens.word_index\n",
        "print(len(word_index111))"
      ],
      "execution_count": 120,
      "outputs": [
        {
          "output_type": "stream",
          "text": [
            "18049\n"
          ],
          "name": "stdout"
        }
      ]
    },
    {
      "cell_type": "code",
      "metadata": {
        "id": "aou2T5B9UCvy",
        "colab_type": "code",
        "colab": {}
      },
      "source": [
        "seqq=tokens.texts_to_sequences(ar111)\n",
        "padd=pad_sequences(seqq,padding=\"post\")"
      ],
      "execution_count": 121,
      "outputs": []
    },
    {
      "cell_type": "code",
      "metadata": {
        "id": "skJrM-o3W1W0",
        "colab_type": "code",
        "colab": {}
      },
      "source": [
        "y_pred2=model2.predict([padd,padd1])"
      ],
      "execution_count": 123,
      "outputs": []
    },
    {
      "cell_type": "code",
      "metadata": {
        "id": "cxYshqwi1pCt",
        "colab_type": "code",
        "colab": {
          "base_uri": "https://localhost:8080/",
          "height": 34
        },
        "outputId": "162e784f-455b-4c2b-e24d-5f98d457b20c"
      },
      "source": [
        "y_pred2.shape"
      ],
      "execution_count": 127,
      "outputs": [
        {
          "output_type": "execute_result",
          "data": {
            "text/plain": [
              "(8989, 6)"
            ]
          },
          "metadata": {
            "tags": []
          },
          "execution_count": 127
        }
      ]
    },
    {
      "cell_type": "code",
      "metadata": {
        "id": "fTXzMGaqYJkT",
        "colab_type": "code",
        "colab": {
          "base_uri": "https://localhost:8080/",
          "height": 353
        },
        "outputId": "ba7c0430-be0e-4db0-9e75-b965d0a0e99b"
      },
      "source": [
        "y_pred2[:10]"
      ],
      "execution_count": 128,
      "outputs": [
        {
          "output_type": "execute_result",
          "data": {
            "text/plain": [
              "array([[3.4377098e-04, 9.9190533e-01, 5.1538292e-03, 1.4139367e-04,\n",
              "        2.4556881e-03, 0.0000000e+00],\n",
              "       [5.4516590e-01, 3.1593315e-02, 2.0262238e-01, 2.0997502e-01,\n",
              "        1.0643325e-02, 0.0000000e+00],\n",
              "       [1.3370982e-01, 1.8211381e-01, 6.0987258e-01, 5.3498644e-02,\n",
              "        2.0805104e-02, 0.0000000e+00],\n",
              "       [3.6712367e-02, 2.4935690e-01, 6.8093228e-01, 1.6558675e-02,\n",
              "        1.6439846e-02, 0.0000000e+00],\n",
              "       [5.7545517e-02, 2.5094467e-01, 6.4852166e-01, 2.4736427e-02,\n",
              "        1.8251747e-02, 0.0000000e+00],\n",
              "       [6.6945291e-01, 8.5013302e-04, 4.9635939e-02, 2.7869502e-01,\n",
              "        1.3659085e-03, 0.0000000e+00],\n",
              "       [5.5981833e-01, 4.8682732e-03, 1.8087219e-01, 2.5051910e-01,\n",
              "        3.9220476e-03, 0.0000000e+00],\n",
              "       [6.6803539e-01, 8.9585409e-04, 5.1551100e-02, 2.7810490e-01,\n",
              "        1.4127353e-03, 0.0000000e+00],\n",
              "       [5.3696162e-01, 2.2751037e-02, 2.1466024e-01, 2.1695210e-01,\n",
              "        8.6749392e-03, 0.0000000e+00],\n",
              "       [1.7104314e-01, 5.1762421e-02, 6.9346178e-01, 7.1084127e-02,\n",
              "        1.2648590e-02, 0.0000000e+00]], dtype=float32)"
            ]
          },
          "metadata": {
            "tags": []
          },
          "execution_count": 128
        }
      ]
    },
    {
      "cell_type": "code",
      "metadata": {
        "id": "wPi1FOW3bX8E",
        "colab_type": "code",
        "colab": {
          "base_uri": "https://localhost:8080/",
          "height": 35
        },
        "outputId": "dd0069e9-af2a-4041-bec3-e6dfa03d3ffc"
      },
      "source": [
        "elements[np.argmax(y_pred2[0])]"
      ],
      "execution_count": 130,
      "outputs": [
        {
          "output_type": "execute_result",
          "data": {
            "application/vnd.google.colaboratory.intrinsic+json": {
              "type": "string"
            },
            "text/plain": [
              "'Physics'"
            ]
          },
          "metadata": {
            "tags": []
          },
          "execution_count": 130
        }
      ]
    },
    {
      "cell_type": "code",
      "metadata": {
        "id": "r6hVxEaHZB3i",
        "colab_type": "code",
        "colab": {}
      },
      "source": [
        "etoo=[]\n",
        "\n",
        "for i in range(y_pred2.shape[0]):\n",
        "   etoo.append(elements[np.argmax(y_pred2[i])])\n",
        "   \n"
      ],
      "execution_count": 131,
      "outputs": []
    },
    {
      "cell_type": "code",
      "metadata": {
        "id": "_NsptLUobytr",
        "colab_type": "code",
        "colab": {}
      },
      "source": [
        "id=test[\"ID\"]"
      ],
      "execution_count": 132,
      "outputs": []
    },
    {
      "cell_type": "code",
      "metadata": {
        "id": "Ik_jkC6vcGUT",
        "colab_type": "code",
        "colab": {
          "base_uri": "https://localhost:8080/",
          "height": 402
        },
        "outputId": "c272ff16-eb90-45f1-9145-7ec2ed695dbd"
      },
      "source": [
        "args=pd.DataFrame(etoo)\n",
        "args"
      ],
      "execution_count": 133,
      "outputs": [
        {
          "output_type": "execute_result",
          "data": {
            "text/html": [
              "<div>\n",
              "<style scoped>\n",
              "    .dataframe tbody tr th:only-of-type {\n",
              "        vertical-align: middle;\n",
              "    }\n",
              "\n",
              "    .dataframe tbody tr th {\n",
              "        vertical-align: top;\n",
              "    }\n",
              "\n",
              "    .dataframe thead th {\n",
              "        text-align: right;\n",
              "    }\n",
              "</style>\n",
              "<table border=\"1\" class=\"dataframe\">\n",
              "  <thead>\n",
              "    <tr style=\"text-align: right;\">\n",
              "      <th></th>\n",
              "      <th>0</th>\n",
              "    </tr>\n",
              "  </thead>\n",
              "  <tbody>\n",
              "    <tr>\n",
              "      <th>0</th>\n",
              "      <td>Physics</td>\n",
              "    </tr>\n",
              "    <tr>\n",
              "      <th>1</th>\n",
              "      <td>Computer Science</td>\n",
              "    </tr>\n",
              "    <tr>\n",
              "      <th>2</th>\n",
              "      <td>Mathematics</td>\n",
              "    </tr>\n",
              "    <tr>\n",
              "      <th>3</th>\n",
              "      <td>Mathematics</td>\n",
              "    </tr>\n",
              "    <tr>\n",
              "      <th>4</th>\n",
              "      <td>Mathematics</td>\n",
              "    </tr>\n",
              "    <tr>\n",
              "      <th>...</th>\n",
              "      <td>...</td>\n",
              "    </tr>\n",
              "    <tr>\n",
              "      <th>8984</th>\n",
              "      <td>Mathematics</td>\n",
              "    </tr>\n",
              "    <tr>\n",
              "      <th>8985</th>\n",
              "      <td>Computer Science</td>\n",
              "    </tr>\n",
              "    <tr>\n",
              "      <th>8986</th>\n",
              "      <td>Computer Science</td>\n",
              "    </tr>\n",
              "    <tr>\n",
              "      <th>8987</th>\n",
              "      <td>Computer Science</td>\n",
              "    </tr>\n",
              "    <tr>\n",
              "      <th>8988</th>\n",
              "      <td>Physics</td>\n",
              "    </tr>\n",
              "  </tbody>\n",
              "</table>\n",
              "<p>8989 rows × 1 columns</p>\n",
              "</div>"
            ],
            "text/plain": [
              "                     0\n",
              "0              Physics\n",
              "1     Computer Science\n",
              "2          Mathematics\n",
              "3          Mathematics\n",
              "4          Mathematics\n",
              "...                ...\n",
              "8984       Mathematics\n",
              "8985  Computer Science\n",
              "8986  Computer Science\n",
              "8987  Computer Science\n",
              "8988           Physics\n",
              "\n",
              "[8989 rows x 1 columns]"
            ]
          },
          "metadata": {
            "tags": []
          },
          "execution_count": 133
        }
      ]
    },
    {
      "cell_type": "code",
      "metadata": {
        "id": "vJd2YbAEdCfh",
        "colab_type": "code",
        "colab": {
          "base_uri": "https://localhost:8080/",
          "height": 34
        },
        "outputId": "d0449d21-99ea-4ce7-c288-602e3b824667"
      },
      "source": [
        "args[0].unique()"
      ],
      "execution_count": 134,
      "outputs": [
        {
          "output_type": "execute_result",
          "data": {
            "text/plain": [
              "array(['Physics', 'Computer Science', 'Mathematics'], dtype=object)"
            ]
          },
          "metadata": {
            "tags": []
          },
          "execution_count": 134
        }
      ]
    },
    {
      "cell_type": "code",
      "metadata": {
        "id": "GlcRfbgKcZsb",
        "colab_type": "code",
        "colab": {}
      },
      "source": [
        "joinn=pd.get_dummies(args)"
      ],
      "execution_count": 135,
      "outputs": []
    },
    {
      "cell_type": "code",
      "metadata": {
        "id": "8R2evv58tmII",
        "colab_type": "code",
        "colab": {}
      },
      "source": [
        "zero1=np.zeros((8989,1))"
      ],
      "execution_count": 136,
      "outputs": []
    },
    {
      "cell_type": "code",
      "metadata": {
        "id": "fmfjMtpMukCU",
        "colab_type": "code",
        "colab": {}
      },
      "source": [
        "joinn[\"Statistics\"]=zero1\n",
        "joinn[\"Quantitative Biology\"]=zero1\n",
        "joinn[\"Quantitative Finance\"]=zero1"
      ],
      "execution_count": 137,
      "outputs": []
    },
    {
      "cell_type": "code",
      "metadata": {
        "id": "I3wdaKwzynRa",
        "colab_type": "code",
        "colab": {}
      },
      "source": [
        "joinn=joinn.rename(columns={\"0_Computer Science\":\"Computer Science\",\"0_Mathematics\":\"Mathematics\",\"0_Physics\":\"Physics\"})"
      ],
      "execution_count": 138,
      "outputs": []
    },
    {
      "cell_type": "code",
      "metadata": {
        "id": "71RFICVnzEvG",
        "colab_type": "code",
        "colab": {
          "base_uri": "https://localhost:8080/",
          "height": 195
        },
        "outputId": "a9036af8-bbf1-4e0d-8094-be5a3c4bd671"
      },
      "source": [
        "joinn.head()"
      ],
      "execution_count": 139,
      "outputs": [
        {
          "output_type": "execute_result",
          "data": {
            "text/html": [
              "<div>\n",
              "<style scoped>\n",
              "    .dataframe tbody tr th:only-of-type {\n",
              "        vertical-align: middle;\n",
              "    }\n",
              "\n",
              "    .dataframe tbody tr th {\n",
              "        vertical-align: top;\n",
              "    }\n",
              "\n",
              "    .dataframe thead th {\n",
              "        text-align: right;\n",
              "    }\n",
              "</style>\n",
              "<table border=\"1\" class=\"dataframe\">\n",
              "  <thead>\n",
              "    <tr style=\"text-align: right;\">\n",
              "      <th></th>\n",
              "      <th>Computer Science</th>\n",
              "      <th>Mathematics</th>\n",
              "      <th>Physics</th>\n",
              "      <th>Statistics</th>\n",
              "      <th>Quantitative Biology</th>\n",
              "      <th>Quantitative Finance</th>\n",
              "    </tr>\n",
              "  </thead>\n",
              "  <tbody>\n",
              "    <tr>\n",
              "      <th>0</th>\n",
              "      <td>0</td>\n",
              "      <td>0</td>\n",
              "      <td>1</td>\n",
              "      <td>0.0</td>\n",
              "      <td>0.0</td>\n",
              "      <td>0.0</td>\n",
              "    </tr>\n",
              "    <tr>\n",
              "      <th>1</th>\n",
              "      <td>1</td>\n",
              "      <td>0</td>\n",
              "      <td>0</td>\n",
              "      <td>0.0</td>\n",
              "      <td>0.0</td>\n",
              "      <td>0.0</td>\n",
              "    </tr>\n",
              "    <tr>\n",
              "      <th>2</th>\n",
              "      <td>0</td>\n",
              "      <td>1</td>\n",
              "      <td>0</td>\n",
              "      <td>0.0</td>\n",
              "      <td>0.0</td>\n",
              "      <td>0.0</td>\n",
              "    </tr>\n",
              "    <tr>\n",
              "      <th>3</th>\n",
              "      <td>0</td>\n",
              "      <td>1</td>\n",
              "      <td>0</td>\n",
              "      <td>0.0</td>\n",
              "      <td>0.0</td>\n",
              "      <td>0.0</td>\n",
              "    </tr>\n",
              "    <tr>\n",
              "      <th>4</th>\n",
              "      <td>0</td>\n",
              "      <td>1</td>\n",
              "      <td>0</td>\n",
              "      <td>0.0</td>\n",
              "      <td>0.0</td>\n",
              "      <td>0.0</td>\n",
              "    </tr>\n",
              "  </tbody>\n",
              "</table>\n",
              "</div>"
            ],
            "text/plain": [
              "   Computer Science  Mathematics  ...  Quantitative Biology  Quantitative Finance\n",
              "0                 0            0  ...                   0.0                   0.0\n",
              "1                 1            0  ...                   0.0                   0.0\n",
              "2                 0            1  ...                   0.0                   0.0\n",
              "3                 0            1  ...                   0.0                   0.0\n",
              "4                 0            1  ...                   0.0                   0.0\n",
              "\n",
              "[5 rows x 6 columns]"
            ]
          },
          "metadata": {
            "tags": []
          },
          "execution_count": 139
        }
      ]
    },
    {
      "cell_type": "code",
      "metadata": {
        "id": "_feTZB5pzZE1",
        "colab_type": "code",
        "colab": {}
      },
      "source": [
        "submission=pd.concat([id,joinn],axis=1)"
      ],
      "execution_count": 140,
      "outputs": []
    },
    {
      "cell_type": "code",
      "metadata": {
        "id": "Fxm7ByeNzh-F",
        "colab_type": "code",
        "colab": {
          "base_uri": "https://localhost:8080/",
          "height": 195
        },
        "outputId": "8cbb9fa3-f3fb-4cb5-9106-c84b0abaf620"
      },
      "source": [
        "submission.head()"
      ],
      "execution_count": 141,
      "outputs": [
        {
          "output_type": "execute_result",
          "data": {
            "text/html": [
              "<div>\n",
              "<style scoped>\n",
              "    .dataframe tbody tr th:only-of-type {\n",
              "        vertical-align: middle;\n",
              "    }\n",
              "\n",
              "    .dataframe tbody tr th {\n",
              "        vertical-align: top;\n",
              "    }\n",
              "\n",
              "    .dataframe thead th {\n",
              "        text-align: right;\n",
              "    }\n",
              "</style>\n",
              "<table border=\"1\" class=\"dataframe\">\n",
              "  <thead>\n",
              "    <tr style=\"text-align: right;\">\n",
              "      <th></th>\n",
              "      <th>ID</th>\n",
              "      <th>Computer Science</th>\n",
              "      <th>Mathematics</th>\n",
              "      <th>Physics</th>\n",
              "      <th>Statistics</th>\n",
              "      <th>Quantitative Biology</th>\n",
              "      <th>Quantitative Finance</th>\n",
              "    </tr>\n",
              "  </thead>\n",
              "  <tbody>\n",
              "    <tr>\n",
              "      <th>0</th>\n",
              "      <td>20973</td>\n",
              "      <td>0</td>\n",
              "      <td>0</td>\n",
              "      <td>1</td>\n",
              "      <td>0.0</td>\n",
              "      <td>0.0</td>\n",
              "      <td>0.0</td>\n",
              "    </tr>\n",
              "    <tr>\n",
              "      <th>1</th>\n",
              "      <td>20974</td>\n",
              "      <td>1</td>\n",
              "      <td>0</td>\n",
              "      <td>0</td>\n",
              "      <td>0.0</td>\n",
              "      <td>0.0</td>\n",
              "      <td>0.0</td>\n",
              "    </tr>\n",
              "    <tr>\n",
              "      <th>2</th>\n",
              "      <td>20975</td>\n",
              "      <td>0</td>\n",
              "      <td>1</td>\n",
              "      <td>0</td>\n",
              "      <td>0.0</td>\n",
              "      <td>0.0</td>\n",
              "      <td>0.0</td>\n",
              "    </tr>\n",
              "    <tr>\n",
              "      <th>3</th>\n",
              "      <td>20976</td>\n",
              "      <td>0</td>\n",
              "      <td>1</td>\n",
              "      <td>0</td>\n",
              "      <td>0.0</td>\n",
              "      <td>0.0</td>\n",
              "      <td>0.0</td>\n",
              "    </tr>\n",
              "    <tr>\n",
              "      <th>4</th>\n",
              "      <td>20977</td>\n",
              "      <td>0</td>\n",
              "      <td>1</td>\n",
              "      <td>0</td>\n",
              "      <td>0.0</td>\n",
              "      <td>0.0</td>\n",
              "      <td>0.0</td>\n",
              "    </tr>\n",
              "  </tbody>\n",
              "</table>\n",
              "</div>"
            ],
            "text/plain": [
              "      ID  Computer Science  ...  Quantitative Biology  Quantitative Finance\n",
              "0  20973                 0  ...                   0.0                   0.0\n",
              "1  20974                 1  ...                   0.0                   0.0\n",
              "2  20975                 0  ...                   0.0                   0.0\n",
              "3  20976                 0  ...                   0.0                   0.0\n",
              "4  20977                 0  ...                   0.0                   0.0\n",
              "\n",
              "[5 rows x 7 columns]"
            ]
          },
          "metadata": {
            "tags": []
          },
          "execution_count": 141
        }
      ]
    },
    {
      "cell_type": "code",
      "metadata": {
        "id": "Hf2MRINTznt-",
        "colab_type": "code",
        "colab": {
          "base_uri": "https://localhost:8080/",
          "height": 151
        },
        "outputId": "ba05086d-c041-4841-dab2-fb6923f04834"
      },
      "source": [
        "submission.isna().sum()"
      ],
      "execution_count": 142,
      "outputs": [
        {
          "output_type": "execute_result",
          "data": {
            "text/plain": [
              "ID                      0\n",
              "Computer Science        0\n",
              "Mathematics             0\n",
              "Physics                 0\n",
              "Statistics              0\n",
              "Quantitative Biology    0\n",
              "Quantitative Finance    0\n",
              "dtype: int64"
            ]
          },
          "metadata": {
            "tags": []
          },
          "execution_count": 142
        }
      ]
    },
    {
      "cell_type": "code",
      "metadata": {
        "id": "ZyUVy4IA1NQE",
        "colab_type": "code",
        "colab": {
          "base_uri": "https://localhost:8080/",
          "height": 34
        },
        "outputId": "3200f4a9-c212-4a2e-901a-1afe800b3dbc"
      },
      "source": [
        "submission.shape"
      ],
      "execution_count": 143,
      "outputs": [
        {
          "output_type": "execute_result",
          "data": {
            "text/plain": [
              "(8989, 7)"
            ]
          },
          "metadata": {
            "tags": []
          },
          "execution_count": 143
        }
      ]
    },
    {
      "cell_type": "code",
      "metadata": {
        "id": "6FNs2w4PzsSp",
        "colab_type": "code",
        "colab": {}
      },
      "source": [
        "submission.to_csv(\"sumbit.csv\")"
      ],
      "execution_count": 144,
      "outputs": []
    }
  ]
}