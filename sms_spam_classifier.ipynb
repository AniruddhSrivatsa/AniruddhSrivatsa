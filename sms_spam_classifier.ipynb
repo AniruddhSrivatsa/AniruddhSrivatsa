{
  "nbformat": 4,
  "nbformat_minor": 0,
  "metadata": {
    "colab": {
      "name": "sms spam classifier.ipynb",
      "provenance": [],
      "collapsed_sections": [],
      "authorship_tag": "ABX9TyPA5hV2Gjp7dx6TsxFYg/UF",
      "include_colab_link": true
    },
    "kernelspec": {
      "name": "python3",
      "display_name": "Python 3"
    }
  },
  "cells": [
    {
      "cell_type": "markdown",
      "metadata": {
        "id": "view-in-github",
        "colab_type": "text"
      },
      "source": [
        "<a href=\"https://colab.research.google.com/github/AniruddhSrivatsa/AniruddhSrivatsa/blob/master/sms_spam_classifier.ipynb\" target=\"_parent\"><img src=\"https://colab.research.google.com/assets/colab-badge.svg\" alt=\"Open In Colab\"/></a>"
      ]
    },
    {
      "cell_type": "code",
      "metadata": {
        "id": "xmm3xU52d-za",
        "colab_type": "code",
        "colab": {}
      },
      "source": [
        "import pandas as pd\n",
        "import numpy as np"
      ],
      "execution_count": null,
      "outputs": []
    },
    {
      "cell_type": "code",
      "metadata": {
        "id": "BTtjhqBReLcP",
        "colab_type": "code",
        "colab": {
          "base_uri": "https://localhost:8080/",
          "height": 195
        },
        "outputId": "a9f47ba6-be04-4f10-8989-5d5cc2748e36"
      },
      "source": [
        "df=pd.read_csv(\"spamm.csv\")\n",
        "df.head()"
      ],
      "execution_count": null,
      "outputs": [
        {
          "output_type": "execute_result",
          "data": {
            "text/html": [
              "<div>\n",
              "<style scoped>\n",
              "    .dataframe tbody tr th:only-of-type {\n",
              "        vertical-align: middle;\n",
              "    }\n",
              "\n",
              "    .dataframe tbody tr th {\n",
              "        vertical-align: top;\n",
              "    }\n",
              "\n",
              "    .dataframe thead th {\n",
              "        text-align: right;\n",
              "    }\n",
              "</style>\n",
              "<table border=\"1\" class=\"dataframe\">\n",
              "  <thead>\n",
              "    <tr style=\"text-align: right;\">\n",
              "      <th></th>\n",
              "      <th>Category</th>\n",
              "      <th>Message</th>\n",
              "    </tr>\n",
              "  </thead>\n",
              "  <tbody>\n",
              "    <tr>\n",
              "      <th>0</th>\n",
              "      <td>ham</td>\n",
              "      <td>Go until jurong point, crazy.. Available only ...</td>\n",
              "    </tr>\n",
              "    <tr>\n",
              "      <th>1</th>\n",
              "      <td>ham</td>\n",
              "      <td>Ok lar... Joking wif u oni...</td>\n",
              "    </tr>\n",
              "    <tr>\n",
              "      <th>2</th>\n",
              "      <td>spam</td>\n",
              "      <td>Free entry in 2 a wkly comp to win FA Cup fina...</td>\n",
              "    </tr>\n",
              "    <tr>\n",
              "      <th>3</th>\n",
              "      <td>ham</td>\n",
              "      <td>U dun say so early hor... U c already then say...</td>\n",
              "    </tr>\n",
              "    <tr>\n",
              "      <th>4</th>\n",
              "      <td>ham</td>\n",
              "      <td>Nah I don't think he goes to usf, he lives aro...</td>\n",
              "    </tr>\n",
              "  </tbody>\n",
              "</table>\n",
              "</div>"
            ],
            "text/plain": [
              "  Category                                            Message\n",
              "0      ham  Go until jurong point, crazy.. Available only ...\n",
              "1      ham                      Ok lar... Joking wif u oni...\n",
              "2     spam  Free entry in 2 a wkly comp to win FA Cup fina...\n",
              "3      ham  U dun say so early hor... U c already then say...\n",
              "4      ham  Nah I don't think he goes to usf, he lives aro..."
            ]
          },
          "metadata": {
            "tags": []
          },
          "execution_count": 2
        }
      ]
    },
    {
      "cell_type": "code",
      "metadata": {
        "id": "LPme_exH2p85",
        "colab_type": "code",
        "colab": {
          "base_uri": "https://localhost:8080/",
          "height": 35
        },
        "outputId": "b5f066c6-b10d-4c88-a8a3-836338c831f9"
      },
      "source": [
        "df[\"Message\"][0]"
      ],
      "execution_count": null,
      "outputs": [
        {
          "output_type": "execute_result",
          "data": {
            "application/vnd.google.colaboratory.intrinsic+json": {
              "type": "string"
            },
            "text/plain": [
              "'Go until jurong point, crazy.. Available only in bugis n great world la e buffet... Cine there got amore wat...'"
            ]
          },
          "metadata": {
            "tags": []
          },
          "execution_count": 3
        }
      ]
    },
    {
      "cell_type": "code",
      "metadata": {
        "id": "pWAbMDrN22je",
        "colab_type": "code",
        "colab": {
          "base_uri": "https://localhost:8080/",
          "height": 34
        },
        "outputId": "7906bf15-b07d-451e-fb76-665f12c2d8cb"
      },
      "source": [
        "df.shape"
      ],
      "execution_count": null,
      "outputs": [
        {
          "output_type": "execute_result",
          "data": {
            "text/plain": [
              "(5572, 2)"
            ]
          },
          "metadata": {
            "tags": []
          },
          "execution_count": 4
        }
      ]
    },
    {
      "cell_type": "code",
      "metadata": {
        "id": "HJHAjArv28pI",
        "colab_type": "code",
        "colab": {
          "base_uri": "https://localhost:8080/",
          "height": 67
        },
        "outputId": "c37d5419-f3b2-44d5-b72b-e0ea1c59a438"
      },
      "source": [
        "df.isna().sum()"
      ],
      "execution_count": null,
      "outputs": [
        {
          "output_type": "execute_result",
          "data": {
            "text/plain": [
              "Category    0\n",
              "Message     0\n",
              "dtype: int64"
            ]
          },
          "metadata": {
            "tags": []
          },
          "execution_count": 5
        }
      ]
    },
    {
      "cell_type": "code",
      "metadata": {
        "id": "raGpuKiW3DCB",
        "colab_type": "code",
        "colab": {}
      },
      "source": [
        "df[\"Message\"]=df[\"Message\"].str.lower()"
      ],
      "execution_count": null,
      "outputs": []
    },
    {
      "cell_type": "code",
      "metadata": {
        "id": "cXdtNvB13GNu",
        "colab_type": "code",
        "colab": {}
      },
      "source": [
        "df[\"Message\"]=df[\"Message\"].apply(lambda x: \" \".join([info for info in x.split() if info.isalpha() ]))"
      ],
      "execution_count": null,
      "outputs": []
    },
    {
      "cell_type": "code",
      "metadata": {
        "id": "zmoV69i63wRt",
        "colab_type": "code",
        "colab": {
          "base_uri": "https://localhost:8080/",
          "height": 35
        },
        "outputId": "3a9ce2a5-7ca1-4079-b8eb-00c57327c24a"
      },
      "source": [
        "df[\"Message\"][0]"
      ],
      "execution_count": null,
      "outputs": [
        {
          "output_type": "execute_result",
          "data": {
            "application/vnd.google.colaboratory.intrinsic+json": {
              "type": "string"
            },
            "text/plain": [
              "'go until jurong available only in bugis n great world la e cine there got amore'"
            ]
          },
          "metadata": {
            "tags": []
          },
          "execution_count": 8
        }
      ]
    },
    {
      "cell_type": "code",
      "metadata": {
        "id": "2S8HAck95Ps6",
        "colab_type": "code",
        "colab": {
          "base_uri": "https://localhost:8080/",
          "height": 67
        },
        "outputId": "515e0f80-4e6b-4eb3-b856-803b737b8553"
      },
      "source": [
        "import nltk\n",
        "nltk.download('stopwords')"
      ],
      "execution_count": null,
      "outputs": [
        {
          "output_type": "stream",
          "text": [
            "[nltk_data] Downloading package stopwords to /root/nltk_data...\n",
            "[nltk_data]   Unzipping corpora/stopwords.zip.\n"
          ],
          "name": "stdout"
        },
        {
          "output_type": "execute_result",
          "data": {
            "text/plain": [
              "True"
            ]
          },
          "metadata": {
            "tags": []
          },
          "execution_count": 5
        }
      ]
    },
    {
      "cell_type": "code",
      "metadata": {
        "id": "CXew6I7Y55FU",
        "colab_type": "code",
        "colab": {}
      },
      "source": [
        "from nltk.corpus import stopwords"
      ],
      "execution_count": null,
      "outputs": []
    },
    {
      "cell_type": "code",
      "metadata": {
        "id": "FZ7IN6fD5mJf",
        "colab_type": "code",
        "colab": {}
      },
      "source": [
        "df[\"Message\"]=df[\"Message\"].apply(lambda x: \" \".join([info for info in x.split() if info not in stopwords.words(\"english\") ]))"
      ],
      "execution_count": null,
      "outputs": []
    },
    {
      "cell_type": "code",
      "metadata": {
        "id": "CGzAOd-T6_gN",
        "colab_type": "code",
        "colab": {
          "base_uri": "https://localhost:8080/",
          "height": 35
        },
        "outputId": "d68cf743-4c15-4376-8a94-36371bb9c399"
      },
      "source": [
        "df[\"Message\"][0]"
      ],
      "execution_count": null,
      "outputs": [
        {
          "output_type": "execute_result",
          "data": {
            "application/vnd.google.colaboratory.intrinsic+json": {
              "type": "string"
            },
            "text/plain": [
              "'go jurong available bugis n great world la e cine got amore'"
            ]
          },
          "metadata": {
            "tags": []
          },
          "execution_count": 21
        }
      ]
    },
    {
      "cell_type": "code",
      "metadata": {
        "id": "jahG2_bY74IC",
        "colab_type": "code",
        "colab": {}
      },
      "source": [
        "df[\"Message\"]=df[\"Message\"].apply(lambda x: \" \".join([info for info in x.split() if (len(info)!=1) ]))"
      ],
      "execution_count": null,
      "outputs": []
    },
    {
      "cell_type": "code",
      "metadata": {
        "id": "PK_LWB9J8HU-",
        "colab_type": "code",
        "colab": {
          "base_uri": "https://localhost:8080/",
          "height": 35
        },
        "outputId": "ec4d3828-f8ef-4dd2-df00-fbd32f146a2a"
      },
      "source": [
        "df[\"Message\"][1]"
      ],
      "execution_count": null,
      "outputs": [
        {
          "output_type": "execute_result",
          "data": {
            "application/vnd.google.colaboratory.intrinsic+json": {
              "type": "string"
            },
            "text/plain": [
              "'ok joking wif'"
            ]
          },
          "metadata": {
            "tags": []
          },
          "execution_count": 9
        }
      ]
    },
    {
      "cell_type": "code",
      "metadata": {
        "id": "qitagxN58QmX",
        "colab_type": "code",
        "colab": {
          "base_uri": "https://localhost:8080/",
          "height": 195
        },
        "outputId": "d6d9b18a-4ab2-42bd-ce21-78d044b4a8f3"
      },
      "source": [
        "df.head()"
      ],
      "execution_count": null,
      "outputs": [
        {
          "output_type": "execute_result",
          "data": {
            "text/html": [
              "<div>\n",
              "<style scoped>\n",
              "    .dataframe tbody tr th:only-of-type {\n",
              "        vertical-align: middle;\n",
              "    }\n",
              "\n",
              "    .dataframe tbody tr th {\n",
              "        vertical-align: top;\n",
              "    }\n",
              "\n",
              "    .dataframe thead th {\n",
              "        text-align: right;\n",
              "    }\n",
              "</style>\n",
              "<table border=\"1\" class=\"dataframe\">\n",
              "  <thead>\n",
              "    <tr style=\"text-align: right;\">\n",
              "      <th></th>\n",
              "      <th>Category</th>\n",
              "      <th>Message</th>\n",
              "    </tr>\n",
              "  </thead>\n",
              "  <tbody>\n",
              "    <tr>\n",
              "      <th>0</th>\n",
              "      <td>ham</td>\n",
              "      <td>go jurong available bugis great world la cine ...</td>\n",
              "    </tr>\n",
              "    <tr>\n",
              "      <th>1</th>\n",
              "      <td>ham</td>\n",
              "      <td>ok joking wif</td>\n",
              "    </tr>\n",
              "    <tr>\n",
              "      <th>2</th>\n",
              "      <td>spam</td>\n",
              "      <td>free entry wkly comp win fa cup final tkts may...</td>\n",
              "    </tr>\n",
              "    <tr>\n",
              "      <th>3</th>\n",
              "      <td>ham</td>\n",
              "      <td>dun say early already</td>\n",
              "    </tr>\n",
              "    <tr>\n",
              "      <th>4</th>\n",
              "      <td>ham</td>\n",
              "      <td>nah think goes lives around though</td>\n",
              "    </tr>\n",
              "  </tbody>\n",
              "</table>\n",
              "</div>"
            ],
            "text/plain": [
              "  Category                                            Message\n",
              "0      ham  go jurong available bugis great world la cine ...\n",
              "1      ham                                      ok joking wif\n",
              "2     spam  free entry wkly comp win fa cup final tkts may...\n",
              "3      ham                              dun say early already\n",
              "4      ham                 nah think goes lives around though"
            ]
          },
          "metadata": {
            "tags": []
          },
          "execution_count": 10
        }
      ]
    },
    {
      "cell_type": "code",
      "metadata": {
        "id": "HAjBentq8zw0",
        "colab_type": "code",
        "colab": {}
      },
      "source": [
        "df[\"Category\"]=df[\"Category\"].map({\"ham\":1,\"spam\":0})"
      ],
      "execution_count": null,
      "outputs": []
    },
    {
      "cell_type": "code",
      "metadata": {
        "id": "Jz7eP5wOCGW2",
        "colab_type": "code",
        "colab": {}
      },
      "source": [
        "df1=pd.get_dummies(df[\"Category\"])"
      ],
      "execution_count": null,
      "outputs": []
    },
    {
      "cell_type": "code",
      "metadata": {
        "id": "aNhjqVE5Cw6P",
        "colab_type": "code",
        "colab": {
          "base_uri": "https://localhost:8080/",
          "height": 343
        },
        "outputId": "1899b801-5fde-45b5-f466-d05a1254dea2"
      },
      "source": [
        "df.head(10)"
      ],
      "execution_count": null,
      "outputs": [
        {
          "output_type": "execute_result",
          "data": {
            "text/html": [
              "<div>\n",
              "<style scoped>\n",
              "    .dataframe tbody tr th:only-of-type {\n",
              "        vertical-align: middle;\n",
              "    }\n",
              "\n",
              "    .dataframe tbody tr th {\n",
              "        vertical-align: top;\n",
              "    }\n",
              "\n",
              "    .dataframe thead th {\n",
              "        text-align: right;\n",
              "    }\n",
              "</style>\n",
              "<table border=\"1\" class=\"dataframe\">\n",
              "  <thead>\n",
              "    <tr style=\"text-align: right;\">\n",
              "      <th></th>\n",
              "      <th>Category</th>\n",
              "      <th>Message</th>\n",
              "      <th>0</th>\n",
              "      <th>1</th>\n",
              "    </tr>\n",
              "  </thead>\n",
              "  <tbody>\n",
              "    <tr>\n",
              "      <th>0</th>\n",
              "      <td>1</td>\n",
              "      <td>go jurong available bugis great world la cine ...</td>\n",
              "      <td>0</td>\n",
              "      <td>1</td>\n",
              "    </tr>\n",
              "    <tr>\n",
              "      <th>1</th>\n",
              "      <td>1</td>\n",
              "      <td>ok joking wif</td>\n",
              "      <td>0</td>\n",
              "      <td>1</td>\n",
              "    </tr>\n",
              "    <tr>\n",
              "      <th>2</th>\n",
              "      <td>0</td>\n",
              "      <td>free entry wkly comp win fa cup final tkts may...</td>\n",
              "      <td>1</td>\n",
              "      <td>0</td>\n",
              "    </tr>\n",
              "    <tr>\n",
              "      <th>3</th>\n",
              "      <td>1</td>\n",
              "      <td>dun say early already</td>\n",
              "      <td>0</td>\n",
              "      <td>1</td>\n",
              "    </tr>\n",
              "    <tr>\n",
              "      <th>4</th>\n",
              "      <td>1</td>\n",
              "      <td>nah think goes lives around though</td>\n",
              "      <td>0</td>\n",
              "      <td>1</td>\n",
              "    </tr>\n",
              "    <tr>\n",
              "      <th>5</th>\n",
              "      <td>0</td>\n",
              "      <td>freemsg hey darling word like fun tb xxx std c...</td>\n",
              "      <td>1</td>\n",
              "      <td>0</td>\n",
              "    </tr>\n",
              "    <tr>\n",
              "      <th>6</th>\n",
              "      <td>1</td>\n",
              "      <td>even brother like speak treat like aids</td>\n",
              "      <td>0</td>\n",
              "      <td>1</td>\n",
              "    </tr>\n",
              "    <tr>\n",
              "      <th>7</th>\n",
              "      <td>1</td>\n",
              "      <td>per request melle minnaminunginte nurungu set ...</td>\n",
              "      <td>0</td>\n",
              "      <td>1</td>\n",
              "    </tr>\n",
              "    <tr>\n",
              "      <th>8</th>\n",
              "      <td>0</td>\n",
              "      <td>valued network customer selected receivea priz...</td>\n",
              "      <td>1</td>\n",
              "      <td>0</td>\n",
              "    </tr>\n",
              "    <tr>\n",
              "      <th>9</th>\n",
              "      <td>0</td>\n",
              "      <td>mobile months entitled update latest colour mo...</td>\n",
              "      <td>1</td>\n",
              "      <td>0</td>\n",
              "    </tr>\n",
              "  </tbody>\n",
              "</table>\n",
              "</div>"
            ],
            "text/plain": [
              "   Category                                            Message  0  1\n",
              "0         1  go jurong available bugis great world la cine ...  0  1\n",
              "1         1                                      ok joking wif  0  1\n",
              "2         0  free entry wkly comp win fa cup final tkts may...  1  0\n",
              "3         1                              dun say early already  0  1\n",
              "4         1                 nah think goes lives around though  0  1\n",
              "5         0  freemsg hey darling word like fun tb xxx std c...  1  0\n",
              "6         1            even brother like speak treat like aids  0  1\n",
              "7         1  per request melle minnaminunginte nurungu set ...  0  1\n",
              "8         0  valued network customer selected receivea priz...  1  0\n",
              "9         0  mobile months entitled update latest colour mo...  1  0"
            ]
          },
          "metadata": {
            "tags": []
          },
          "execution_count": 126
        }
      ]
    },
    {
      "cell_type": "code",
      "metadata": {
        "id": "T1XN8ghvCRve",
        "colab_type": "code",
        "colab": {}
      },
      "source": [
        "df=pd.concat([df,df1],axis=1)"
      ],
      "execution_count": null,
      "outputs": []
    },
    {
      "cell_type": "code",
      "metadata": {
        "id": "NeunbAAICmYr",
        "colab_type": "code",
        "colab": {}
      },
      "source": [
        ""
      ],
      "execution_count": null,
      "outputs": []
    },
    {
      "cell_type": "code",
      "metadata": {
        "id": "DrZcXPfOABZz",
        "colab_type": "code",
        "colab": {}
      },
      "source": [
        "from sklearn.model_selection import train_test_split"
      ],
      "execution_count": null,
      "outputs": []
    },
    {
      "cell_type": "code",
      "metadata": {
        "id": "JCzeiwWmAIG-",
        "colab_type": "code",
        "colab": {}
      },
      "source": [
        "X_train,X_test,y_train,y_test=train_test_split(df[\"Message\"],df[[0,1]],stratify=df[[0,1]],test_size=0.2,random_state=0)"
      ],
      "execution_count": null,
      "outputs": []
    },
    {
      "cell_type": "code",
      "metadata": {
        "id": "98nebO92JCcr",
        "colab_type": "code",
        "colab": {}
      },
      "source": [
        "X1_train,X1_test,y1_train,y1_test=train_test_split(df[\"Message\"],df[\"Category\"],stratify=df[\"Category\"],test_size=0.2,random_state=0)"
      ],
      "execution_count": null,
      "outputs": []
    },
    {
      "cell_type": "code",
      "metadata": {
        "id": "_4RBmC8I9Qnp",
        "colab_type": "code",
        "colab": {}
      },
      "source": [
        "import tensorflow as tf\n",
        "from tensorflow import keras\n",
        "from tensorflow.keras.preprocessing.text import Tokenizer\n",
        "from tensorflow.keras.preprocessing.sequence import pad_sequences\n"
      ],
      "execution_count": null,
      "outputs": []
    },
    {
      "cell_type": "code",
      "metadata": {
        "id": "rcw10GmS9-0x",
        "colab_type": "code",
        "colab": {}
      },
      "source": [
        "ar=list(X_train.astype(\"str\"))\n",
        "ar1=list(X_test.astype(\"str\"))"
      ],
      "execution_count": null,
      "outputs": []
    },
    {
      "cell_type": "code",
      "metadata": {
        "id": "_sRUDvoIJePB",
        "colab_type": "code",
        "colab": {}
      },
      "source": [
        "ar3=list(X1_train.astype(\"str\"))\n",
        "ar4=list(X1_test.astype(\"str\"))"
      ],
      "execution_count": null,
      "outputs": []
    },
    {
      "cell_type": "code",
      "metadata": {
        "id": "cRuRxU09-ksK",
        "colab_type": "code",
        "colab": {}
      },
      "source": [
        "tokens=Tokenizer(oov_token=\"<OOV>\")\n",
        "tokens.fit_on_texts(ar)\n",
        "word_index=tokens.word_index"
      ],
      "execution_count": null,
      "outputs": []
    },
    {
      "cell_type": "code",
      "metadata": {
        "id": "r5iCxJnAJnPx",
        "colab_type": "code",
        "colab": {}
      },
      "source": [
        "tokens1=Tokenizer(oov_token=\"<OOV>\")\n",
        "tokens1.fit_on_texts(ar3)\n",
        "word_index1=tokens.word_index"
      ],
      "execution_count": null,
      "outputs": []
    },
    {
      "cell_type": "code",
      "metadata": {
        "id": "7vI64uos_Lyh",
        "colab_type": "code",
        "colab": {
          "base_uri": "https://localhost:8080/",
          "height": 54
        },
        "outputId": "f85dedf6-dbbc-4f19-e02b-e1841d0f1310"
      },
      "source": [
        "print(word_index)"
      ],
      "execution_count": null,
      "outputs": [
        {
          "output_type": "stream",
          "text": [
            "{'<OOV>': 1, 'call': 2, 'ur': 3, 'get': 4, 'go': 5, 'know': 6, 'like': 7, 'come': 8, 'got': 9, 'free': 10, 'send': 11, 'good': 12, 'want': 13, 'ok': 14, 'text': 15, 'going': 16, 'time': 17, 'need': 18, 'love': 19, 'txt': 20, 'still': 21, 'one': 22, 'see': 23, 'dont': 24, 'new': 25, 'think': 26, 'tell': 27, 'back': 28, 'reply': 29, 'mobile': 30, 'stop': 31, 'take': 32, 'home': 33, 'please': 34, 'hope': 35, 'make': 36, 'pls': 37, 'hi': 38, 'day': 39, 'claim': 40, 'phone': 41, 'hey': 42, 'give': 43, 'later': 44, 'much': 45, 'sorry': 46, 'ask': 47, 'da': 48, 'great': 49, 'night': 50, 'meet': 51, 'every': 52, 'happy': 53, 'im': 54, 'dear': 55, 'say': 56, 'well': 57, 'today': 58, 'number': 59, 'would': 60, 'last': 61, 'way': 62, 'oh': 63, 'cos': 64, 'really': 65, 'said': 66, 'find': 67, 'pick': 68, 'miss': 69, 'cash': 70, 'thanks': 71, 'sent': 72, 'even': 73, 'let': 74, 'next': 75, 'right': 76, 'win': 77, 'nokia': 78, 'could': 79, 'work': 80, 'wat': 81, 'also': 82, 'keep': 83, 'contact': 84, 'cant': 85, 'per': 86, 'yeah': 87, 'week': 88, 'always': 89, 'buy': 90, 'message': 91, 'prize': 92, 'tomorrow': 93, 'went': 94, 'anything': 95, 'gud': 96, 'many': 97, 'us': 98, 'dun': 99, 'feel': 100, 'someone': 101, 'msg': 102, 'wan': 103, 'wait': 104, 'lol': 105, 'sure': 106, 'yes': 107, 'chat': 108, 'told': 109, 'leave': 110, 'waiting': 111, 'already': 112, 'first': 113, 'thk': 114, 'gonna': 115, 'care': 116, 'service': 117, 'something': 118, 'coming': 119, 'morning': 120, 'things': 121, 'thing': 122, 'try': 123, 'getting': 124, 'around': 125, 'use': 126, 'life': 127, 'late': 128, 'sleep': 129, 'thats': 130, 'box': 131, 'may': 132, 'nice': 133, 'tone': 134, 'people': 135, 'thought': 136, 'ill': 137, 'place': 138, 'money': 139, 'customer': 140, 'awarded': 141, 'never': 142, 'live': 143, 'wanna': 144, 'half': 145, 'finish': 146, 'guess': 147, 'bit': 148, 'mins': 149, 'friends': 150, 'ready': 151, 'po': 152, 'latest': 153, 'account': 154, 'trying': 155, 'wish': 156, 'holiday': 157, 'best': 158, 'eat': 159, 'receive': 160, 'big': 161, 'jus': 162, 'check': 163, 'babe': 164, 'person': 165, 'made': 166, 'might': 167, 'soon': 168, 'guys': 169, 'friend': 170, 'name': 171, 'stuff': 172, 'better': 173, 'smile': 174, 'enjoy': 175, 'end': 176, 'play': 177, 'car': 178, 'ever': 179, 'ya': 180, 'meeting': 181, 'draw': 182, 'lunch': 183, 'actually': 184, 'watching': 185, 'help': 186, 'dat': 187, 'wont': 188, 'talk': 189, 'maybe': 190, 'shit': 191, 'called': 192, 'probably': 193, 'reach': 194, 'quite': 195, 'another': 196, 'man': 197, 'put': 198, 'hour': 199, 'remember': 200, 'entry': 201, 'chance': 202, 'year': 203, 'video': 204, 'yup': 205, 'shows': 206, 'lot': 207, 'look': 208, 'two': 209, 'camera': 210, 'den': 211, 'done': 212, 'real': 213, 'abt': 214, 'watch': 215, 'xxx': 216, 'didnt': 217, 'tonight': 218, 'mind': 219, 'pay': 220, 'minutes': 221, 'heart': 222, 'yo': 223, 'start': 224, 'shall': 225, 'looking': 226, 'special': 227, 'dis': 228, 'bring': 229, 'god': 230, 'days': 231, 'luv': 232, 'says': 233, 'forgot': 234, 'little': 235, 'hear': 236, 'selected': 237, 'long': 238, 'hav': 239, 'fuck': 240, 'join': 241, 'guaranteed': 242, 'asked': 243, 'class': 244, 'making': 245, 'collect': 246, 'wif': 247, 'attempt': 248, 'left': 249, 'important': 250, 'plan': 251, 'ringtone': 252, 'tones': 253, 'able': 254, 'girl': 255, 'line': 256, 'makes': 257, 'bad': 258, 'room': 259, 'shopping': 260, 'min': 261, 'job': 262, 'show': 263, 'cost': 264, 'since': 265, 'orange': 266, 'plz': 267, 'enough': 268, 'sms': 269, 'word': 270, 'dunno': 271, 'sweet': 272, 'wake': 273, 'thank': 274, 'goes': 275, 'till': 276, 'must': 277, 'bus': 278, 'bonus': 279, 'driving': 280, 'network': 281, 'working': 282, 'early': 283, 'tv': 284, 'saying': 285, 'sexy': 286, 'valid': 287, 'double': 288, 'fun': 289, 'juz': 290, 'boy': 291, 'missed': 292, 'bt': 293, 'years': 294, 'came': 295, 'dinner': 296, 'texts': 297, 'saw': 298, 'without': 299, 'speak': 300, 'nothing': 301, 'wot': 302, 'set': 303, 'weekly': 304, 'face': 305, 'yet': 306, 'update': 307, 'wid': 308, 'guy': 309, 'haha': 310, 'world': 311, 'either': 312, 'lor': 313, 'part': 314, 'town': 315, 'til': 316, 'birthday': 317, 'missing': 318, 'await': 319, 'times': 320, 'xmas': 321, 'haf': 322, 'wants': 323, 'price': 324, 'plus': 325, 'ard': 326, 'hurt': 327, 'away': 328, 'pain': 329, 'means': 330, 'stay': 331, 'tried': 332, 'havent': 333, 'wil': 334, 'wanted': 335, 'calling': 336, 'todays': 337, 'hair': 338, 'mean': 339, 'colour': 340, 'hot': 341, 'pounds': 342, 'old': 343, 'angry': 344, 'dad': 345, 'coz': 346, 'calls': 347, 'found': 348, 'top': 349, 'hello': 350, 'happen': 351, 'tot': 352, 'beautiful': 353, 'lose': 354, 'took': 355, 'change': 356, 'music': 357, 'run': 358, 'hours': 359, 'answer': 360, 'mob': 361, 'family': 362, 'anyway': 363, 'dude': 364, 'neva': 365, 'final': 366, 'id': 367, 'thinking': 368, 'gift': 369, 'house': 370, 'taking': 371, 'wen': 372, 'school': 373, 'test': 374, 'bored': 375, 'easy': 376, 'drink': 377, 'bed': 378, 'sat': 379, 'month': 380, 'pretty': 381, 'lucky': 382, 'poly': 383, 'office': 384, 'goin': 385, 'walk': 386, 'smoke': 387, 'aft': 388, 'thanx': 389, 'forget': 390, 'land': 391, 'mail': 392, 'together': 393, 'details': 394, 'pobox': 395, 'hows': 396, 'offer': 397, 'though': 398, 'unsubscribe': 399, 'search': 400, 'believe': 401, 'food': 402, 'expires': 403, 'darlin': 404, 'finished': 405, 'aight': 406, 'everything': 407, 'worth': 408, 'close': 409, 'post': 410, 'baby': 411, 'telling': 412, 'shop': 413, 'order': 414, 'wk': 415, 'words': 416, 'comes': 417, 'feeling': 418, 'code': 419, 'drop': 420, 'question': 421, 'sch': 422, 'sis': 423, 'nite': 424, 'yr': 425, 'visit': 426, 'started': 427, 'apply': 428, 'bslvyl': 429, 'wonderful': 430, 'drive': 431, 'ten': 432, 'vouchers': 433, 'date': 434, 'oso': 435, 'tmr': 436, 'decided': 437, 'dating': 438, 'hold': 439, 'secret': 440, 'problem': 441, 'statement': 442, 'caller': 443, 'mom': 444, 'identifier': 445, 'sister': 446, 'wkly': 447, 'leaving': 448, 'award': 449, 'alone': 450, 'weekend': 451, 'head': 452, 'girls': 453, 'frnd': 454, 'lets': 455, 'seeing': 456, 'full': 457, 'whole': 458, 'game': 459, 'opt': 460, 'everyone': 461, 'eve': 462, 'sae': 463, 'card': 464, 'case': 465, 'pic': 466, 'available': 467, 'sounds': 468, 'open': 469, 'true': 470, 'book': 471, 'touch': 472, 'almost': 473, 'mum': 474, 'wit': 475, 'carlos': 476, 'direct': 477, 'voucher': 478, 'lesson': 479, 'delivery': 480, 'currently': 481, 'cool': 482, 'online': 483, 'break': 484, 'phones': 485, 'sun': 486, 'knw': 487, 'noe': 488, 'rate': 489, 'cause': 490, 'busy': 491, 'gotta': 492, 'needs': 493, 'ring': 494, 'address': 495, 'sea': 496, 'landline': 497, 'thinks': 498, 'pub': 499, 'trip': 500, 'sad': 501, 'weeks': 502, 'log': 503, 'pics': 504, 'fancy': 505, 'lovely': 506, 'gas': 507, 'cut': 508, 'jay': 509, 'outside': 510, 'download': 511, 'kind': 512, 'eg': 513, 'talking': 514, 'dogging': 515, 'story': 516, 'ha': 517, 'second': 518, 'supposed': 519, 'dnt': 520, 'alright': 521, 'lots': 522, 'wine': 523, 'national': 524, 'meant': 525, 'used': 526, 'anytime': 527, 'evening': 528, 'th': 529, 'player': 530, 'worry': 531, 'bout': 532, 'complimentary': 533, 'urgent': 534, 'fine': 535, 'heard': 536, 'yar': 537, 'xx': 538, 'charged': 539, 'services': 540, 'collection': 541, 'anyone': 542, 'wife': 543, 'picking': 544, 'gone': 545, 'frm': 546, 'numbers': 547, 'fantastic': 548, 'surprise': 549, 'blue': 550, 'takes': 551, 'wrong': 552, 'poor': 553, 'treat': 554, 'messages': 555, 'kiss': 556, 'comp': 557, 'hit': 558, 'txting': 559, 'brother': 560, 'couple': 561, 'ntt': 562, 'pass': 563, 'gd': 564, 'bank': 565, 'fucking': 566, 'hmv': 567, 'seen': 568, 'finally': 569, 'lost': 570, 'least': 571, 'operator': 572, 'auction': 573, 'somebody': 574, 'afternoon': 575, 'smth': 576, 'callertune': 577, 'extra': 578, 'choose': 579, 'booked': 580, 'type': 581, 'sleeping': 582, 'near': 583, 'yesterday': 584, 'college': 585, 'kate': 586, 'askd': 587, 'fr': 588, 'wana': 589, 'em': 590, 'crazy': 591, 'company': 592, 'catch': 593, 'smiling': 594, 'tired': 595, 'lovable': 596, 'movie': 597, 'whatever': 598, 'muz': 599, 'using': 600, 'light': 601, 'bcoz': 602, 'st': 603, 'congratulations': 604, 'valued': 605, 'mm': 606, 'congrats': 607, 'woke': 608, 'hard': 609, 'march': 610, 'age': 611, 'prob': 612, 'checking': 613, 'unlimited': 614, 'del': 615, 'rply': 616, 'minute': 617, 'flag': 618, 'parents': 619, 'invited': 620, 'sex': 621, 'press': 622, 'cup': 623, 'felt': 624, 'de': 625, 'loving': 626, 'gets': 627, 'loved': 628, 'enter': 629, 'news': 630, 'wishing': 631, 'within': 632, 'bath': 633, 'point': 634, 'across': 635, 'offers': 636, 'safe': 637, 'club': 638, 'small': 639, 'sending': 640, 'asking': 641, 'kick': 642, 'usf': 643, 'ive': 644, 'loads': 645, 'loves': 646, 'tht': 647, 'ass': 648, 'tampa': 649, 'mine': 650, 'ugh': 651, 'computer': 652, 'friendship': 653, 'reading': 654, 'ave': 655, 'mobiles': 656, 'abiola': 657, 'confirm': 658, 'wishes': 659, 'party': 660, 'cheap': 661, 'lar': 662, 'sir': 663, 'pm': 664, 'ending': 665, 'awaiting': 666, 'txts': 667, 'support': 668, 'orchard': 669, 'exam': 670, 'brings': 671, 'chennai': 672, 'mr': 673, 'eh': 674, 'mayb': 675, 'happened': 676, 'figure': 677, 'far': 678, 'fone': 679, 'entered': 680, 'via': 681, 'summer': 682, 'cum': 683, 'oops': 684, 'read': 685, 'merry': 686, 'study': 687, 'unless': 688, 'camcorder': 689, 'somewhere': 690, 'nt': 691, 'normal': 692, 'medical': 693, 'okie': 694, 'train': 695, 'winner': 696, 'disturb': 697, 'doin': 698, 'knows': 699, 'rates': 700, 'reason': 701, 'hoping': 702, 'okay': 703, 'tel': 704, 'area': 705, 'swing': 706, 'copy': 707, 'friday': 708, 'course': 709, 'loan': 710, 'happiness': 711, 'accept': 712, 'stupid': 713, 'coffee': 714, 'link': 715, 'sell': 716, 'sony': 717, 'dvd': 718, 'add': 719, 'south': 720, 'song': 721, 'charity': 722, 'following': 723, 'staying': 724, 'others': 725, 'darren': 726, 'uncle': 727, 'replying': 728, 'slow': 729, 'convey': 730, 'motorola': 731, 'content': 732, 'simple': 733, 'charge': 734, 'cd': 735, 'starts': 736, 'din': 737, 'information': 738, 'onto': 739, 'less': 740, 'possible': 741, 'kept': 742, 'save': 743, 'wap': 744, 'christmas': 745, 'msgs': 746, 'whats': 747, 'players': 748, 'terms': 749, 'england': 750, 'email': 751, 'remove': 752, 'info': 753, 'wondering': 754, 'john': 755, 'feels': 756, 'tc': 757, 'excuse': 758, 'mu': 759, 'boytoy': 760, 'discount': 761, 'croydon': 762, 'workin': 763, 'comin': 764, 'representative': 765, 'fri': 766, 'store': 767, 'rest': 768, 'truth': 769, 'leaves': 770, 'ends': 771, 'nope': 772, 'ans': 773, 'rose': 774, 'saturday': 775, 'digital': 776, 'wun': 777, 'hop': 778, 'kb': 779, 'imma': 780, 'mid': 781, 'hungry': 782, 'else': 783, 'rental': 784, 'trust': 785, 'gave': 786, 'write': 787, 'listen': 788, 'met': 789, 'frnds': 790, 'bathe': 791, 'rock': 792, 'none': 793, 'opinion': 794, 'silent': 795, 'especially': 796, 'deal': 797, 'keeping': 798, 'moment': 799, 'correct': 800, 'awesome': 801, 'click': 802, 'pc': 803, 'wiv': 804, 'sunshine': 805, 'quiz': 806, 'frens': 807, 'nyt': 808, 'wer': 809, 'sit': 810, 'aftr': 811, 'completely': 812, 'bill': 813, 'group': 814, 'walking': 815, 'willing': 816, 'ldn': 817, 'sitting': 818, 'match': 819, 'reference': 820, 'london': 821, 'checked': 822, 'project': 823, 'sim': 824, 'monday': 825, 'bak': 826, 'stand': 827, 'crave': 828, 'slowly': 829, 'glad': 830, 'dream': 831, 'gym': 832, 'plans': 833, 'user': 834, 'pleased': 835, 'photo': 836, 'marry': 837, 'games': 838, 'battery': 839, 'power': 840, 'pound': 841, 'buying': 842, 'vl': 843, 'tickets': 844, 'official': 845, 'credit': 846, 'kinda': 847, 'hl': 848, 'thinkin': 849, 'doesnt': 850, 'learn': 851, 'inside': 852, 'mate': 853, 'urself': 854, 'otherwise': 855, 'starting': 856, 'lazy': 857, 'wow': 858, 'sometimes': 859, 'pa': 860, 'boss': 861, 'fixed': 862, 'months': 863, 'sick': 864, 'hmm': 865, 'xy': 866, 'holding': 867, 'longer': 868, 'picked': 869, 'questions': 870, 'putting': 871, 'knew': 872, 'depends': 873, 'thru': 874, 'goto': 875, 'huh': 876, 'tho': 877, 'die': 878, 'cs': 879, 'thnk': 880, 'shd': 881, 'costa': 882, 'sol': 883, 'mark': 884, 'noon': 885, 'maximize': 886, 'space': 887, 'men': 888, 'il': 889, 'rather': 890, 'decide': 891, 'hurry': 892, 'lover': 893, 'tough': 894, 'shower': 895, 'black': 896, 'fact': 897, 'holla': 898, 'valentine': 899, 'rain': 900, 'balance': 901, 'etc': 902, 'mode': 903, 'however': 904, 'standard': 905, 'forward': 906, 'gettin': 907, 'joined': 908, 'deep': 909, 'ex': 910, 'giving': 911, 'omg': 912, 'understand': 913, 'whenever': 914, 'showing': 915, 'nobody': 916, 'freemsg': 917, 'difficult': 918, 'bid': 919, 'request': 920, 'reached': 921, 'warm': 922, 'inviting': 923, 'admirer': 924, 'appreciate': 925, 'videophones': 926, 'videochat': 927, 'java': 928, 'dload': 929, 'noline': 930, 'quick': 931, 'dog': 932, 'fast': 933, 'seems': 934, 'luck': 935, 'vry': 936, 'mite': 937, 'dey': 938, 'valentines': 939, 'round': 940, 'iam': 941, 'behind': 942, 'children': 943, 'zed': 944, 'looks': 945, 'running': 946, 'babes': 947, 'aint': 948, 'yest': 949, 'nah': 950, 'turns': 951, 'vary': 952, 'charges': 953, 'uk': 954, 'waking': 955, 'sup': 956, 'arrive': 957, 'ge': 958, 'polyphonic': 959, 'spend': 960, 'listening': 961, 'tenerife': 962, 'ones': 963, 'cover': 964, 'wonder': 965, 'tat': 966, 'murdered': 967, 'murder': 968, 'police': 969, 'arrested': 970, 'fantasy': 971, 'sky': 972, 'arrange': 973, 'vodafone': 974, 'hai': 975, 'laptop': 976, 'ym': 977, 'worries': 978, 'pray': 979, 'bluetooth': 980, 'style': 981, 'daddy': 982, 'gay': 983, 'instead': 984, 'spoke': 985, 'park': 986, 'self': 987, 'drugs': 988, 'password': 989, 'eerie': 990, 'bedroom': 991, 'sed': 992, 'freephone': 993, 'idea': 994, 'short': 995, 'promise': 996, 'sort': 997, 'father': 998, 'hotel': 999, 'english': 1000, 'pete': 1001, 'role': 1002, 'weekends': 1003, 'sound': 1004, 'side': 1005, 'rs': 1006, 'exciting': 1007, 'pleasure': 1008, 'ago': 1009, 'lookin': 1010, 'mah': 1011, 'towards': 1012, 'net': 1013, 'spook': 1014, 'due': 1015, 'except': 1016, 'liked': 1017, 'kids': 1018, 'tncs': 1019, 'tyler': 1020, 'yan': 1021, 'jiu': 1022, 'locations': 1023, 'complete': 1024, 'cute': 1025, 'alrite': 1026, 'training': 1027, 'created': 1028, 'gap': 1029, 'fingers': 1030, 'surely': 1031, 'leh': 1032, 'registered': 1033, 'tomo': 1034, 'honey': 1035, 'hand': 1036, 'goodmorning': 1037, 'definitely': 1038, 'tis': 1039, 'isnt': 1040, 'cuz': 1041, 'oredi': 1042, 'situation': 1043, 'fantasies': 1044, 'horny': 1045, 'sunday': 1046, 'sipix': 1047, 'buzz': 1048, 'ahmad': 1049, 'dreams': 1050, 'spent': 1051, 'usually': 1052, 'ticket': 1053, 'totally': 1054, 'happens': 1055, 'custcare': 1056, 'cell': 1057, 'jazz': 1058, 'yoga': 1059, 'forever': 1060, 'wherever': 1061, 'mrt': 1062, 'budget': 1063, 'nxt': 1064, 'texting': 1065, 'kallis': 1066, 'specially': 1067, 'al': 1068, 'fyi': 1069, 'rem': 1070, 'ipod': 1071, 'weed': 1072, 'reaching': 1073, 'guide': 1074, 'paying': 1075, 'planning': 1076, 'horrible': 1077, 'howz': 1078, 'miracle': 1079, 'lect': 1080, 'voda': 1081, 'quoting': 1082, 'barely': 1083, 'eatin': 1084, 'yrs': 1085, 'india': 1086, 'deliver': 1087, 'whether': 1088, 'earlier': 1089, 'red': 1090, 'hook': 1091, 'contacted': 1092, 'mrng': 1093, 'lik': 1094, 'hrs': 1095, 'darling': 1096, 'street': 1097, 'cancel': 1098, 'rent': 1099, 'replied': 1100, 'sunny': 1101, 'hmmm': 1102, 'trouble': 1103, 'character': 1104, 'personal': 1105, 'umma': 1106, 'hate': 1107, 'living': 1108, 'past': 1109, 'entitled': 1110, 'imagine': 1111, 'worried': 1112, 'weak': 1113, 'works': 1114, 'welcome': 1115, 'credits': 1116, 'bb': 1117, 'sale': 1118, 'bf': 1119, 'infernal': 1120, 'shuhui': 1121, 'fren': 1122, 'meds': 1123, 'sing': 1124, 'inclusive': 1125, 'airport': 1126, 'country': 1127, 'ansr': 1128, 'yahoo': 1129, 'quote': 1130, 'uncles': 1131, 'qatar': 1132, 'current': 1133, 'water': 1134, 'film': 1135, 'six': 1136, 'pizza': 1137, 'ibiza': 1138, 'forwarded': 1139, 'evng': 1140, 'biggest': 1141, 'super': 1142, 'usual': 1143, 'throw': 1144, 'ahead': 1145, 'ride': 1146, 'gt': 1147, 'bag': 1148, 'jess': 1149, 'subscription': 1150, 'reveal': 1151, 'cust': 1152, 'stock': 1153, 'omw': 1154, 'simply': 1155, 'shoot': 1156, 'fat': 1157, 'village': 1158, 'brand': 1159, 'temple': 1160, 'ppm': 1161, 'asks': 1162, 'iz': 1163, 'hurts': 1164, 'answering': 1165, 'takin': 1166, 'asleep': 1167, 'upto': 1168, 'lemme': 1169, 'tear': 1170, 'solve': 1171, 'lab': 1172, 'matches': 1173, 'happening': 1174, 'assume': 1175, 'review': 1176, 'earth': 1177, 'scream': 1178, 'hell': 1179, 'studying': 1180, 'step': 1181, 'fall': 1182, 'midnight': 1183, 'hv': 1184, 'birds': 1185, 'cheers': 1186, 'wed': 1187, 'activate': 1188, 'expecting': 1189, 'doctor': 1190, 'eyes': 1191, 'uni': 1192, 'minuts': 1193, 'latr': 1194, 'yer': 1195, 'optout': 1196, 'eng': 1197, 'track': 1198, 'ad': 1199, 'added': 1200, 'bold': 1201, 'sign': 1202, 'cannot': 1203, 'amazing': 1204, 'naughty': 1205, 'dint': 1206, 'internet': 1207, 'different': 1208, 'dates': 1209, 'aiyo': 1210, 'clean': 1211, 'tkts': 1212, 'flower': 1213, 'tea': 1214, 'logo': 1215, 'hr': 1216, 'colleagues': 1217, 'mates': 1218, 'access': 1219, 'lift': 1220, 'hanging': 1221, 'armand': 1222, 'derek': 1223, 'jst': 1224, 'bin': 1225, 'quality': 1226, 'bugis': 1227, 'pin': 1228, 'connect': 1229, 'fa': 1230, 'laid': 1231, 'largest': 1232, 'faster': 1233, 'local': 1234, 'sonyericsson': 1235, 'freefone': 1236, 'paper': 1237, 'page': 1238, 'cds': 1239, 'fool': 1240, 'king': 1241, 'wins': 1242, 'aiyah': 1243, 'waste': 1244, 'slept': 1245, 'exact': 1246, 'ran': 1247, 'wats': 1248, 'meanwhile': 1249, 'semester': 1250, 'begin': 1251, 'road': 1252, 'files': 1253, 'fifteen': 1254, 'respond': 1255, 'pictures': 1256, 'bright': 1257, 'pix': 1258, 'hip': 1259, 'def': 1260, 'num': 1261, 'polys': 1262, 'exactly': 1263, 'losing': 1264, 'five': 1265, 'liao': 1266, 'twice': 1267, 'bloody': 1268, 'eating': 1269, 'three': 1270, 'cross': 1271, 'ntwk': 1272, 'spree': 1273, 'lmao': 1274, 'santa': 1275, 'rooms': 1276, 'inc': 1277, 'ladies': 1278, 'savamob': 1279, 'sn': 1280, 'teach': 1281, 'body': 1282, 'hiya': 1283, 'pig': 1284, 'txtin': 1285, 'unredeemed': 1286, 'gives': 1287, 'app': 1288, 'facebook': 1289, 'bought': 1290, 'playing': 1291, 'move': 1292, 'alex': 1293, 'planned': 1294, 'site': 1295, 'results': 1296, 'pod': 1297, 'hopefully': 1298, 'basically': 1299, 'file': 1300, 'basic': 1301, 'ice': 1302, 'scared': 1303, 'become': 1304, 'mmm': 1305, 'door': 1306, 'library': 1307, 'future': 1308, 'askin': 1309, 'ltd': 1310, 'meetin': 1311, 'return': 1312, 'accidentally': 1313, 'posted': 1314, 'moan': 1315, 'ended': 1316, 'mistake': 1317, 'belly': 1318, 'loverboy': 1319, 'drinks': 1320, 'indian': 1321, 'empty': 1322, 'amount': 1323, 'bcums': 1324, 'childish': 1325, 'kettoda': 1326, 'beer': 1327, 'italian': 1328, 'ignore': 1329, 'google': 1330, 'hella': 1331, 'straight': 1332, 'sam': 1333, 'thursday': 1334, 'high': 1335, 'single': 1336, 'jada': 1337, 'kusruthi': 1338, 'spl': 1339, 'matured': 1340, 'stylish': 1341, 'argue': 1342, 'list': 1343, 'ac': 1344, 'mo': 1345, 'co': 1346, 'fight': 1347, 'boo': 1348, 'cine': 1349, 'purchase': 1350, 'notice': 1351, 'informed': 1352, 'chinese': 1353, 'attend': 1354, 'bother': 1355, 'raise': 1356, 'hw': 1357, 'arcade': 1358, 'directly': 1359, 'addicted': 1360, 'purpose': 1361, 'tenants': 1362, 'paid': 1363, 'wednesday': 1364, 'lessons': 1365, 'boost': 1366, 'izzit': 1367, 'pple': 1368, 'affairs': 1369, 'doc': 1370, 'campus': 1371, 'exams': 1372, 'outta': 1373, 'stars': 1374, 'karaoke': 1375, 'dare': 1376, 'woman': 1377, 'photos': 1378, 'dry': 1379, 'shot': 1380, 'green': 1381, 'express': 1382, 'carry': 1383, 'plane': 1384, 'ws': 1385, 'tonite': 1386, 'fill': 1387, 'throat': 1388, 'connection': 1389, 'gimme': 1390, 'ate': 1391, 'female': 1392, 'citizen': 1393, 'smart': 1394, 'alfie': 1395, 'nokias': 1396, 'profit': 1397, 'toa': 1398, 'payoh': 1399, 'score': 1400, 'cleared': 1401, 'birla': 1402, 'soft': 1403, 'purity': 1404, 'arsenal': 1405, 'passed': 1406, 'anybody': 1407, 'aiya': 1408, 'doors': 1409, 'missin': 1410, 'brought': 1411, 'apps': 1412, 'unsub': 1413, 'finishing': 1414, 'abta': 1415, 'nvm': 1416, 'grand': 1417, 'cafe': 1418, 'fell': 1419, 'ache': 1420, 'questioned': 1421, 'murderer': 1422, 'football': 1423, 'bday': 1424, 'tomarrow': 1425, 'slave': 1426, 'cat': 1427, 'mother': 1428, 'advise': 1429, 'recent': 1430, 'chosen': 1431, 'nature': 1432, 'slap': 1433, 'aiyar': 1434, 'married': 1435, 'gang': 1436, 'lotr': 1437, 'hardcore': 1438, 'wnt': 1439, 'explain': 1440, 'inches': 1441, 'smoking': 1442, 'intelligent': 1443, 'havin': 1444, 'immediately': 1445, 'ppl': 1446, 'ne': 1447, 'title': 1448, 'nan': 1449, 'january': 1450, 'fighting': 1451, 'bowl': 1452, 'quickly': 1453, 'system': 1454, 'row': 1455, 'walked': 1456, 'blackberry': 1457, 'handle': 1458, 'worse': 1459, 'understanding': 1460, 'mummy': 1461, 'market': 1462, 'plenty': 1463, 'truly': 1464, 'blow': 1465, 'cruise': 1466, 'follow': 1467, 'enjoyed': 1468, 'likes': 1469, 'eye': 1470, 'given': 1471, 'considering': 1472, 'deleted': 1473, 'halloween': 1474, 'bet': 1475, 'chasing': 1476, 'bathing': 1477, 'fetch': 1478, 'remembered': 1479, 'cabin': 1480, 'sen': 1481, 'advice': 1482, 'germany': 1483, 'pence': 1484, 'nearly': 1485, 'rang': 1486, 'joking': 1487, 'booking': 1488, 'selection': 1489, 'spending': 1490, 'management': 1491, 'beyond': 1492, 'appointment': 1493, 'regards': 1494, 'pieces': 1495, 'interview': 1496, 'gram': 1497, 'gaps': 1498, 'legs': 1499, 'supply': 1500, 'receiving': 1501, 'heavy': 1502, 'genuine': 1503, 'often': 1504, 'receipt': 1505, 'reward': 1506, 'tree': 1507, 'mas': 1508, 'dirty': 1509, 'knowing': 1510, 'wise': 1511, 'na': 1512, 'stomach': 1513, 'including': 1514, 'stopped': 1515, 'netcollex': 1516, 'bein': 1517, 'sense': 1518, 'shijas': 1519, 'picture': 1520, 'death': 1521, 'yogasana': 1522, 'juicy': 1523, 'thts': 1524, 'anythin': 1525, 'pilates': 1526, 'se': 1527, 'cam': 1528, 'dresser': 1529, 'belovd': 1530, 'liverpool': 1531, 'linerental': 1532, 'taunton': 1533, 'city': 1534, 'shirt': 1535, 'adult': 1536, 'cleaning': 1537, 'afraid': 1538, 'fees': 1539, 'university': 1540, 'seem': 1541, 'mad': 1542, 'middle': 1543, 'turn': 1544, 'activities': 1545, 'pissed': 1546, 'fromm': 1547, 'avent': 1548, 'spoken': 1549, 'mobilesdirect': 1550, 'buzy': 1551, 'ure': 1552, 'unable': 1553, 'cal': 1554, 'avatar': 1555, 'acc': 1556, 'boston': 1557, 'changed': 1558, 'ordered': 1559, 'popped': 1560, 'login': 1561, 'fancies': 1562, 'changes': 1563, 'report': 1564, 'persons': 1565, 'bell': 1566, 'understood': 1567, 'upgrade': 1568, 'constantly': 1569, 'proof': 1570, 'wkend': 1571, 'xavier': 1572, 'ths': 1573, 'honeybee': 1574, 'sweetest': 1575, 'laughed': 1576, 'havnt': 1577, 'crack': 1578, 'display': 1579, 'subs': 1580, 'key': 1581, 'jan': 1582, 'gal': 1583, 'stuck': 1584, 'share': 1585, 'records': 1586, 'among': 1587, 'yun': 1588, 'series': 1589, 'played': 1590, 'original': 1591, 'air': 1592, 'tells': 1593, 'apparently': 1594, 'software': 1595, 'gentle': 1596, 'exe': 1597, 'cinema': 1598, 'station': 1599, 'chikku': 1600, 'flat': 1601, 'dollars': 1602, 'expect': 1603, 'child': 1604, 'returns': 1605, 'response': 1606, 'cares': 1607, 'hint': 1608, 'model': 1609, 'suite': 1610, 'tour': 1611, 'cha': 1612, 'buns': 1613, 'adore': 1614, 'vikky': 1615, 'behave': 1616, 'weird': 1617, 'fills': 1618, 'cud': 1619, 'newest': 1620, 'porn': 1621, 'radio': 1622, 'contract': 1623, 'captain': 1624, 'mths': 1625, 'building': 1626, 'surfing': 1627, 'pussy': 1628, 'meal': 1629, 'shouted': 1630, 'lonely': 1631, 'celebrate': 1632, 'bringing': 1633, 'wn': 1634, 'saved': 1635, 'cn': 1636, 'drinking': 1637, 'blood': 1638, 'sugar': 1639, 'fit': 1640, 'damn': 1641, 'rays': 1642, 'suggest': 1643, 'strike': 1644, 'fb': 1645, 'lady': 1646, 'mon': 1647, 'member': 1648, 'postcode': 1649, 'likely': 1650, 'becoz': 1651, 'chicken': 1652, 'interested': 1653, 'generally': 1654, 'pack': 1655, 'torch': 1656, 'lei': 1657, 'dropped': 1658, 'violence': 1659, 'rude': 1660, 'sports': 1661, 'menu': 1662, 'insurance': 1663, 'major': 1664, 'feb': 1665, 'argument': 1666, 'loses': 1667, 'anti': 1668, 'social': 1669, 'somethin': 1670, 'ben': 1671, 'tb': 1672, 'wear': 1673, 'polyph': 1674, 'transaction': 1675, 'successful': 1676, 'seat': 1677, 'looked': 1678, 'addie': 1679, 'released': 1680, 'outstanding': 1681, 'easier': 1682, 'sorting': 1683, 'excellent': 1684, 'essential': 1685, 'awake': 1686, 'realy': 1687, 'seriously': 1688, 'arun': 1689, 'doggy': 1690, 'raining': 1691, 'jen': 1692, 'xuhui': 1693, 'dubsack': 1694, 'euro': 1695, 'drug': 1696, 'gentleman': 1697, 'dignity': 1698, 'valuable': 1699, 'history': 1700, 'realize': 1701, 'settled': 1702, 'laughing': 1703, 'foreign': 1704, 'stamps': 1705, 'lecture': 1706, 'names': 1707, 'homeowners': 1708, 'previously': 1709, 'ho': 1710, 'discuss': 1711, 'contents': 1712, 'competition': 1713, 'melle': 1714, 'minnaminunginte': 1715, 'nurungu': 1716, 'frying': 1717, 'team': 1718, 'snow': 1719, 'vomit': 1720, 'bloo': 1721, 'problems': 1722, 'laugh': 1723, 'flirt': 1724, 'movies': 1725, 'appt': 1726, 'fault': 1727, 'tease': 1728, 'monthly': 1729, 'banks': 1730, 'walls': 1731, 'catching': 1732, 'yummy': 1733, 'tt': 1734, 'inform': 1735, 'indians': 1736, 'failed': 1737, 'moms': 1738, 'regular': 1739, 'aka': 1740, 'pap': 1741, 'mahal': 1742, 'polyh': 1743, 'main': 1744, 'tuesday': 1745, 'med': 1746, 'realise': 1747, 'brain': 1748, 'delete': 1749, 'along': 1750, 'downloads': 1751, 'algarve': 1752, 'nasty': 1753, 'jerry': 1754, 'cartoon': 1755, 'irritates': 1756, 'fails': 1757, 'sac': 1758, 'mt': 1759, 'suntec': 1760, 'height': 1761, 'aeronautics': 1762, 'professors': 1763, 'calld': 1764, 'hurried': 1765, 'datz': 1766, 'china': 1767, 'wkg': 1768, 'rd': 1769, 'preferably': 1770, 'doubt': 1771, 'premium': 1772, 'pink': 1773, 'animation': 1774, 'plm': 1775, 'desperate': 1776, 'crab': 1777, 'waves': 1778, 'footprints': 1779, 'star': 1780, 'musthu': 1781, 'occupy': 1782, 'scary': 1783, 'leona': 1784, 'racing': 1785, 'transfer': 1786, 'wanting': 1787, 'piss': 1788, 'west': 1789, 'docs': 1790, 'smashed': 1791, 'wet': 1792, 'subpoly': 1793, 'diff': 1794, 'disconnect': 1795, 'itz': 1796, 'confirmd': 1797, 'verified': 1798, 'cnn': 1799, 'arts': 1800, 'nydc': 1801, 'rite': 1802, 'teeth': 1803, 'painful': 1804, 'kills': 1805, 'gamestar': 1806, 'active': 1807, 'scoring': 1808, 'register': 1809, 'april': 1810, 'saucy': 1811, 'ebay': 1812, 'goodnight': 1813, 'nothin': 1814, 'ned': 1815, 'hurting': 1816, 'lousy': 1817, 'cold': 1818, 'receivea': 1819, 'river': 1820, 'wonders': 1821, 'personality': 1822, 'oreo': 1823, 'upload': 1824, 'confuses': 1825, 'bec': 1826, 'jia': 1827, 'mumtaz': 1828, 'killed': 1829, 'husband': 1830, 'died': 1831, 'themob': 1832, 'str': 1833, 'ruin': 1834, 'interflora': 1835, 'lil': 1836, 'fran': 1837, 'exeter': 1838, 'waitin': 1839, 'low': 1840, 'avoiding': 1841, 'rcv': 1842, 'nyc': 1843, 'bmw': 1844, 'shortage': 1845, 'source': 1846, 'arng': 1847, 'goodnite': 1848, 'shame': 1849, 'allowed': 1850, 'iq': 1851, 'practice': 1852, 'result': 1853, 'ttyl': 1854, 'bishan': 1855, 'booty': 1856, 'dance': 1857, 'grace': 1858, 'sura': 1859, 'weather': 1860, 'usher': 1861, 'philosophy': 1862, 'unknown': 1863, 'dracula': 1864, 'twilight': 1865, 'freezing': 1866, 'announcement': 1867, 'tonights': 1868, 'whose': 1869, 'male': 1870, 'mystery': 1871, 'sweetie': 1872, 'fightng': 1873, 'dificult': 1874, 'piece': 1875, 'drunken': 1876, 'postcard': 1877, 'chances': 1878, 'tsandcs': 1879, 'disturbing': 1880, 'macho': 1881, 'loss': 1882, 'temp': 1883, 'malaria': 1884, 'maturity': 1885, 'oooh': 1886, 'incredible': 1887, 'spell': 1888, 'lays': 1889, 'cherish': 1890, 'romantic': 1891, 'sorted': 1892, 'audition': 1893, 'spanish': 1894, 'control': 1895, 'massive': 1896, 'cramps': 1897, 'mojibiola': 1898, 'beg': 1899, 'promises': 1900, 'clear': 1901, 'suppose': 1902, 'ta': 1903, 'business': 1904, 'dislikes': 1905, 'foley': 1906, 'prizes': 1907, 'skyped': 1908, 'kz': 1909, 'ultimatum': 1910, 'countin': 1911, 'term': 1912, 'manage': 1913, 'silently': 1914, 'custom': 1915, 'island': 1916, 'reminder': 1917, 'reality': 1918, 'superior': 1919, 'waheed': 1920, 'fathima': 1921, 'forgets': 1922, 'tap': 1923, 'spile': 1924, 'broad': 1925, 'claims': 1926, 'remains': 1927, 'dearer': 1928, 'favourite': 1929, 'usb': 1930, 'flash': 1931, 'holder': 1932, 'lounge': 1933, 'stayed': 1934, 'garden': 1935, 'bulbs': 1936, 'seeds': 1937, 'scotsman': 1938, 'jealous': 1939, 'fucked': 1940, 'gona': 1941, 'masters': 1942, 'mmmmm': 1943, 'web': 1944, 'closer': 1945, 'ref': 1946, 'sux': 1947, 'buff': 1948, 'option': 1949, 'vu': 1950, 'tom': 1951, 'charles': 1952, 'hide': 1953, 'distance': 1954, 'gals': 1955, 'attached': 1956, 'jane': 1957, 'tariffs': 1958, 'reverse': 1959, 'membership': 1960, 'lccltd': 1961, 'dai': 1962, 'oranges': 1963, 'choice': 1964, 'allah': 1965, 'ideal': 1966, 'gain': 1967, 'bills': 1968, 'geeee': 1969, 'lov': 1970, 'boring': 1971, 'subscriber': 1972, 'randomly': 1973, 'loxahatchee': 1974, 'burning': 1975, 'cream': 1976, 'cardiff': 1977, 'hugs': 1978, 'edison': 1979, 'rightly': 1980, 'speechless': 1981, 'ee': 1982, 'chest': 1983, 'bone': 1984, 'tscs': 1985, 'jokin': 1986, 'luvs': 1987, 'praying': 1988, 'songs': 1989, 'beloved': 1990, 'becomes': 1991, 'gold': 1992, 'chain': 1993, 'agalla': 1994, 'necklace': 1995, 'gist': 1996, 'improve': 1997, 'funny': 1998, 'constant': 1999, 'thurs': 2000, 'pie': 2001, 'various': 2002, 'points': 2003, 'gorgeous': 2004, 'selling': 2005, 'messaged': 2006, 'mmmmmm': 2007, 'cm': 2008, 'moon': 2009, 'er': 2010, 'filled': 2011, 'toot': 2012, 'atlast': 2013, 'location': 2014, 'certainly': 2015, 'vday': 2016, 'remain': 2017, 'transport': 2018, 'definite': 2019, 'scotland': 2020, 'obviously': 2021, 'trains': 2022, 'staring': 2023, 'ruining': 2024, 'hospitals': 2025, 'places': 2026, 'community': 2027, 'deciding': 2028, 'vote': 2029, 'caring': 2030, 'present': 2031, 'tog': 2032, 'electricity': 2033, 'law': 2034, 'greatest': 2035, 'courage': 2036, 'bear': 2037, 'defeat': 2038, 'freak': 2039, 'nahi': 2040, 'wo': 2041, 'jo': 2042, 'flip': 2043, 'dead': 2044, 'telephone': 2045, 'lip': 2046, 'timing': 2047, 'delivered': 2048, 'airtel': 2049, 'surprised': 2050, 'furniture': 2051, 'virgin': 2052, 'mis': 2053, 'prabha': 2054, 'garbage': 2055, 'items': 2056, 'avoid': 2057, 'crash': 2058, 'moby': 2059, 'hlp': 2060, 'propose': 2061, 'funky': 2062, 'invite': 2063, 'lvblefrnd': 2064, 'jstfrnd': 2065, 'cutefrnd': 2066, 'lifpartnr': 2067, 'swtheart': 2068, 'bstfrnd': 2069, 'enemy': 2070, 'ba': 2071, 'puttin': 2072, 'table': 2073, 'lead': 2074, 'unique': 2075, 'tight': 2076, 'ru': 2077, 'cricketer': 2078, 'sachin': 2079, 'total': 2080, 'onwards': 2081, 'soul': 2082, 'ah': 2083, 'partner': 2084, 'goal': 2085, 'shoving': 2086, 'cheat': 2087, 'wearing': 2088, 'sometime': 2089, 'lines': 2090, 'compromised': 2091, 'yor': 2092, 'killing': 2093, 'zoe': 2094, 'jolt': 2095, 'remind': 2096, 'passionate': 2097, 'flights': 2098, 'needed': 2099, 'lovingly': 2100, 'touched': 2101, 'itwhichturnedinto': 2102, 'gifted': 2103, 'weirdest': 2104, 'auto': 2105, 'befor': 2106, 'capital': 2107, 'roger': 2108, 'watever': 2109, 'relation': 2110, 'cochin': 2111, 'shocking': 2112, 'ibhltd': 2113, 'strong': 2114, 'combine': 2115, 'norm': 2116, 'networks': 2117, 'panic': 2118, 'lovejen': 2119, 'provided': 2120, 'push': 2121, 'asap': 2122, 'loose': 2123, 'rofl': 2124, 'mostly': 2125, 'yep': 2126, 'sweets': 2127, 'received': 2128, 'package': 2129, 'thot': 2130, 'bud': 2131, 'centre': 2132, 'exhaust': 2133, 'nok': 2134, 'dictionary': 2135, 'screen': 2136, 'taylor': 2137, 'secretly': 2138, 'skip': 2139, 'previous': 2140, 'rumour': 2141, 'apartment': 2142, 'egg': 2143, 'dress': 2144, 'convinced': 2145, 'salon': 2146, 'lie': 2147, 'dough': 2148, 'sentence': 2149, 'concentrate': 2150, 'career': 2151, 'messenger': 2152, 'sha': 2153, 'reasons': 2154, 'theres': 2155, 'huge': 2156, 'xxxx': 2157, 'allow': 2158, 'warner': 2159, 'letters': 2160, 'anymore': 2161, 'ias': 2162, 'reboot': 2163, 'flowing': 2164, 'taken': 2165, 'lock': 2166, 'nichols': 2167, 'senthil': 2168, 'costing': 2169, 'fever': 2170, 'pool': 2171, 'necessary': 2172, 'shared': 2173, 'approx': 2174, 'misbehaved': 2175, 'ikea': 2176, 'mess': 2177, 'lo': 2178, 'uks': 2179, 'breathe': 2180, 'relatives': 2181, 'steam': 2182, 'seemed': 2183, 'count': 2184, 'downloaded': 2185, 'intro': 2186, 'suprman': 2187, 'slightly': 2188, 'wld': 2189, 'answers': 2190, 'suits': 2191, 'andros': 2192, 'kindly': 2193, 'possession': 2194, 'nigeria': 2195, 'dime': 2196, 'dark': 2197, 'ding': 2198, 'ummmmmaah': 2199, 'chill': 2200, 'hug': 2201, 'whn': 2202, 'polo': 2203, 'callin': 2204, 'mini': 2205, 'mids': 2206, 'textpod': 2207, 'actual': 2208, 'settle': 2209, 'woulda': 2210, 'calm': 2211, 'rewarding': 2212, 'potter': 2213, 'phoenix': 2214, 'kg': 2215, 'weigh': 2216, 'innocent': 2217, 'rally': 2218, 'belive': 2219, 'inch': 2220, 'bat': 2221, 'falling': 2222, 'force': 2223, 'smeone': 2224, 'iscoming': 2225, 'maneesha': 2226, 'satisfied': 2227, 'toll': 2228, 'james': 2229, 'films': 2230, 'delhi': 2231, 'makin': 2232, 'propsd': 2233, 'gv': 2234, 'lv': 2235, 'threw': 2236, 'aproach': 2237, 'dt': 2238, 'truck': 2239, 'speeding': 2240, 'instantly': 2241, 'thy': 2242, 'lived': 2243, 'happily': 2244, 'evrydy': 2245, 'moral': 2246, 'ericsson': 2247, 'soo': 2248, 'greetings': 2249, 'joy': 2250, 'okey': 2251, 'creepy': 2252, 'sucks': 2253, 'miles': 2254, 'keeps': 2255, 'neck': 2256, 'anywhere': 2257, 'sofa': 2258, 'curious': 2259, 'shining': 2260, 'billed': 2261, 'setting': 2262, 'filling': 2263, 'btw': 2264, 'cutting': 2265, 'complaint': 2266, 'careful': 2267, 'japanese': 2268, 'kerala': 2269, 'westlife': 2270, 'despite': 2271, 'tension': 2272, 'discussed': 2273, 'recently': 2274, 'denis': 2275, 'flirting': 2276, 'lotta': 2277, 'cars': 2278, 'terrible': 2279, 'ps': 2280, 'shld': 2281, 'kappa': 2282, 'wiskey': 2283, 'brandy': 2284, 'rum': 2285, 'gin': 2286, 'vodka': 2287, 'scotch': 2288, 'shampain': 2289, 'dhina': 2290, 'runs': 2291, 'sept': 2292, 'abj': 2293, 'textbuddy': 2294, 'forgotten': 2295, 'bucks': 2296, 'pours': 2297, 'decisions': 2298, 'matter': 2299, 'reaction': 2300, 'anyways': 2301, 'geeeee': 2302, 'bigger': 2303, 'easily': 2304, 'version': 2305, 'keys': 2306, 'cock': 2307, 'nw': 2308, 'responding': 2309, 'hands': 2310, 'private': 2311, 'shagged': 2312, 'embarassed': 2313, 'sar': 2314, 'parked': 2315, 'argh': 2316, 'common': 2317, 'aww': 2318, 'turning': 2319, 'sec': 2320, 'sp': 2321, 'vava': 2322, 'annoying': 2323, 'ron': 2324, 'rights': 2325, 'demand': 2326, 'bids': 2327, 'shipping': 2328, 'partnership': 2329, 'invest': 2330, 'fo': 2331, 'joanna': 2332, 'bottle': 2333, 'speaking': 2334, 'coat': 2335, 'necessarily': 2336, 'credited': 2337, 'block': 2338, 'format': 2339, 'challenge': 2340, 'staff': 2341, 'minor': 2342, 'thgt': 2343, 'silver': 2344, 'named': 2345, 'broken': 2346, 'infront': 2347, 'beauty': 2348, 'shut': 2349, 'earn': 2350, 'ish': 2351, 'officially': 2352, 'mega': 2353, 'celebration': 2354, 'heads': 2355, 'impossible': 2356, 'wuld': 2357, 'nuther': 2358, 'subscribed': 2359, 'si': 2360, 'singles': 2361, 'os': 2362, 'consider': 2363, 'issue': 2364, 'regret': 2365, 'borin': 2366, 'jenny': 2367, 'billion': 2368, 'dave': 2369, 'reckon': 2370, 'moji': 2371, 'several': 2372, 'pages': 2373, 'guilty': 2374, 'papers': 2375, 'hoped': 2376, 'trade': 2377, 'printed': 2378, 'forum': 2379, 'soiree': 2380, 'art': 2381, 'blind': 2382, 'blame': 2383, 'gods': 2384, 'taste': 2385, 'curry': 2386, 'escape': 2387, 'theatre': 2388, 'lions': 2389, 'lionm': 2390, 'mono': 2391, 'lionp': 2392, 'finishes': 2393, 'wallpaper': 2394, 'teasing': 2395, 'tick': 2396, 'morn': 2397, 'returned': 2398, 'prepare': 2399, 'prolly': 2400, 'normally': 2401, 'realized': 2402, 'chillin': 2403, 'transfr': 2404, 'amt': 2405, 'refilled': 2406, 'successfully': 2407, 'inr': 2408, 'keralacircle': 2409, 'prepaid': 2410, 'kr': 2411, 'youre': 2412, 'searching': 2413, 'potential': 2414, 'fuckin': 2415, 'cancelled': 2416, 'sells': 2417, 'railway': 2418, 'minimum': 2419, 'energy': 2420, 'four': 2421, 'quit': 2422, 'random': 2423, 'sheets': 2424, 'funeral': 2425, 'white': 2426, 'american': 2427, 'privacy': 2428, 'invaders': 2429, 'orig': 2430, 'lst': 2431, 'roommate': 2432, 'contacts': 2433, 'giv': 2434, 'color': 2435, 'roast': 2436, 'causing': 2437, 'decimal': 2438, 'public': 2439, 'thousands': 2440, 'dedicated': 2441, 'dedicate': 2442, 'natalja': 2443, 'perfect': 2444, 'size': 2445, 'sticky': 2446, 'bluff': 2447, 'winning': 2448, 'tooo': 2449, 'probs': 2450, 'milk': 2451, 'costs': 2452, 'cld': 2453, 'mag': 2454, 'garage': 2455, 'sory': 2456, 'cashto': 2457, 'getstop': 2458, 'ages': 2459, 'mobno': 2460, 'adam': 2461, 'txtno': 2462, 'ads': 2463, 'reasonable': 2464, 'reg': 2465, 'bristol': 2466, 'literally': 2467, 'hang': 2468, 'pg': 2469, 'everybody': 2470, 'pan': 2471, 'teacher': 2472, 'teaches': 2473, 'conducts': 2474, 'june': 2475, 'lick': 2476, 'base': 2477, 'admin': 2478, 'brief': 2479, 'hospital': 2480, 'utter': 2481, 'princess': 2482, 'esplanade': 2483, 'wishin': 2484, 'jason': 2485, 'sport': 2486, 'travel': 2487, 'fixedline': 2488, 'cbe': 2489, 'interest': 2490, 'breath': 2491, 'cry': 2492, 'singing': 2493, 'donate': 2494, 'lower': 2495, 'tahan': 2496, 'nic': 2497, 'coping': 2498, 'acted': 2499, 'sooner': 2500, 'purse': 2501, 'speed': 2502, 'di': 2503, 'coins': 2504, 'transfered': 2505, 'yellow': 2506, 'develop': 2507, 'schedule': 2508, 'prefer': 2509, 'caught': 2510, 'wales': 2511, 'bloke': 2512, 'paris': 2513, 'prospects': 2514, 'prey': 2515, 'peaceful': 2516, 'tons': 2517, 'claire': 2518, 'period': 2519, 'academic': 2520, 'expensive': 2521, 'shirts': 2522, 'whenevr': 2523, 'knock': 2524, 'naked': 2525, 'switch': 2526, 'callfreefone': 2527, 'bahamas': 2528, 'tablets': 2529, 'stayin': 2530, 'loans': 2531, 'tomorro': 2532, 'bruce': 2533, 'std': 2534, 'mokka': 2535, 'instructions': 2536, 'grave': 2537, 'evn': 2538, 'evr': 2539, 'followed': 2540, 'suzy': 2541, 'blah': 2542, 'kothi': 2543, 'lk': 2544, 'fave': 2545, 'moments': 2546, 'flaky': 2547, 'december': 2548, 'lately': 2549, 'horo': 2550, 'impatient': 2551, 'favorite': 2552, 'sooooo': 2553, 'improved': 2554, 'swiss': 2555, 'pro': 2556, 'redeemable': 2557, 'checkup': 2558, 'smear': 2559, 'videos': 2560, 'fgkslpopw': 2561, 'fgkslpo': 2562, 'thankyou': 2563, 'lara': 2564, 'sources': 2565, 'ke': 2566, 'suddenly': 2567, 'ing': 2568, 'ringtoneking': 2569, 'ryan': 2570, 'tape': 2571, 'drove': 2572, 'prescribed': 2573, 'morphine': 2574, 'bridgwater': 2575, 'banter': 2576, 'stoners': 2577, 'alot': 2578, 'deltomorrow': 2579, 'unfortunately': 2580, 'dhoni': 2581, 'cough': 2582, 'listed': 2583, 'didntgive': 2584, 'bellearlier': 2585, 'bedbut': 2586, 'thepub': 2587, 'uwana': 2588, 'hundreds': 2589, 'handsomes': 2590, 'beauties': 2591, 'aunties': 2592, 'prayers': 2593, 'performance': 2594, 'calculated': 2595, 'logging': 2596, 'geoenvironmental': 2597, 'ay': 2598, 'tensed': 2599, 'blankets': 2600, 'thx': 2601, 'pop': 2602, 'ffffuuuuuuu': 2603, 'somewhat': 2604, 'event': 2605, 'refund': 2606, 'erotic': 2607, 'raglan': 2608, 'edward': 2609, 'cricket': 2610, 'closeby': 2611, 'slices': 2612, 'ujhhhhhhh': 2613, 'shipped': 2614, 'sandiago': 2615, 'parantella': 2616, 'squatting': 2617, 'navigate': 2618, 'choosing': 2619, 'require': 2620, 'panther': 2621, 'zebra': 2622, 'badass': 2623, 'hoody': 2624, 'headstart': 2625, 'motivating': 2626, 'sharing': 2627, 'clearing': 2628, 'fox': 2629, 'frndsship': 2630, 'dwn': 2631, 'terrific': 2632, 'sindu': 2633, 'prakesh': 2634, 'suitemates': 2635, 'swt': 2636, 'mall': 2637, 'crammed': 2638, 'condition': 2639, 'doubles': 2640, 'excuses': 2641, 'wildlife': 2642, 'wizzle': 2643, 'ahold': 2644, 'detailed': 2645, 'concentration': 2646, 'clever': 2647, 'guesses': 2648, 'attach': 2649, 'equally': 2650, 'uneventful': 2651, 'pesky': 2652, 'cyclists': 2653, 'playng': 2654, 'borrow': 2655, 'withdraw': 2656, 'anyhow': 2657, 'chiong': 2658, 'aah': 2659, 'fne': 2660, 'gmw': 2661, 'connected': 2662, 'taka': 2663, 'varaya': 2664, 'praps': 2665, 'panasonic': 2666, 'bluetoothhdset': 2667, 'doublemins': 2668, 'doubletxt': 2669, 'crickiting': 2670, 'install': 2671, 'browse': 2672, 'fucks': 2673, 'entrepreneurs': 2674, 'arithmetic': 2675, 'genius': 2676, 'mus': 2677, 'toppoly': 2678, 'tune': 2679, 'farm': 2680, 'excited': 2681, 'everyones': 2682, 'babysitting': 2683, 'gobi': 2684, 'girlie': 2685, 'veggie': 2686, 'mention': 2687, 'served': 2688, 'chinatown': 2689, 'claypot': 2690, 'yam': 2691, 'fishhead': 2692, 'tok': 2693, 'linear': 2694, 'algebra': 2695, 'nights': 2696, 'knackered': 2697, 'dreading': 2698, 'thou': 2699, 'goodmate': 2700, 'cheered': 2701, 'franyxxxxx': 2702, 'maintaining': 2703, 'deepest': 2704, 'darkest': 2705, 'fear': 2706, 'cheer': 2707, 'dying': 2708, 'replacement': 2709, 'murali': 2710, 'harri': 2711, 'hon': 2712, 'moving': 2713, 'xxxxxx': 2714, 'thangam': 2715, 'gota': 2716, 'invention': 2717, 'lindsay': 2718, 'bars': 2719, 'ptbo': 2720, 'heron': 2721, 'ana': 2722, 'sathy': 2723, 'rto': 2724, 'hanger': 2725, 'convince': 2726, 'witot': 2727, 'tallent': 2728, 'prasanth': 2729, 'ettans': 2730, 'collecting': 2731, 'configure': 2732, 'settings': 2733, 'brdget': 2734, 'cloud': 2735, 'heading': 2736, 'truffles': 2737, 'snappy': 2738, 'barring': 2739, 'sudden': 2740, 'influx': 2741, 'wah': 2742, 'taj': 2743, 'symbol': 2744, 'lesser': 2745, 'known': 2746, 'facts': 2747, 'shahjahan': 2748, 'arises': 2749, 'lastest': 2750, 'dizzee': 2751, 'libertines': 2752, 'nookii': 2753, 'bookmark': 2754, 'noooooooo': 2755, 'mailbox': 2756, 'messaging': 2757, 'retrieve': 2758, 'shanghai': 2759, 'confirmed': 2760, 'mountains': 2761, 'foward': 2762, 'flowers': 2763, 'interviw': 2764, 'depressed': 2765, 'sittin': 2766, 'wind': 2767, 'drops': 2768, 'shell': 2769, 'unconsciously': 2770, 'unhappy': 2771, 'verify': 2772, 'agents': 2773, 'hectic': 2774, 'gailxx': 2775, 'das': 2776, 'iknow': 2777, 'wellda': 2778, 'peril': 2779, 'studentfinancial': 2780, 'adding': 2781, 'spoons': 2782, 'audrie': 2783, 'autocorrect': 2784, 'consistently': 2785, 'practicum': 2786, 'links': 2787, 'ears': 2788, 'tex': 2789, 'mecause': 2790, 'okden': 2791, 'hunny': 2792, 'uin': 2793, 'likeyour': 2794, 'updat': 2795, 'countinlots': 2796, 'loveme': 2797, 'shaking': 2798, 'endless': 2799, 'blessings': 2800, 'networking': 2801, 'february': 2802, 'friendships': 2803, 'starve': 2804, 'uworld': 2805, 'qbank': 2806, 'assessment': 2807, 'papa': 2808, 'pickle': 2809, 'youphone': 2810, 'athome': 2811, 'youwanna': 2812, 'stereo': 2813, 'mi': 2814, 'pressies': 2815, 'dorm': 2816, 'wrking': 2817, 'psp': 2818, 'shb': 2819, 'spreadsheet': 2820, 'determine': 2821, 'entire': 2822, 'sonathaya': 2823, 'opened': 2824, 'prove': 2825, 'sry': 2826, 'useless': 2827, 'maga': 2828, 'opposed': 2829, 'field': 2830, 'administrator': 2831, 'alian': 2832, 'talkin': 2833, 'phonebook': 2834, 'apart': 2835, 'range': 2836, 'interfued': 2837, 'replace': 2838, 'limiting': 2839, 'illness': 2840, 'brison': 2841, 'language': 2842, 'cousin': 2843, 'vic': 2844, 'wisdom': 2845, 'hidden': 2846, 'giggle': 2847, 'possibly': 2848, 'invitation': 2849, 'cali': 2850, 'weddin': 2851, 'horniest': 2852, 'completed': 2853, 'joining': 2854, 'bears': 2855, 'types': 2856, 'scenery': 2857, 'grandma': 2858, 'parade': 2859, 'haunt': 2860, 'promoting': 2861, 'hex': 2862, 'joke': 2863, 'subletting': 2864, 'reminds': 2865, 'misplaced': 2866, 'atlanta': 2867, 'effects': 2868, 'birth': 2869, 'gut': 2870, 'wrenching': 2871, 'strongly': 2872, 'sacrifice': 2873, 'creativity': 2874, 'stifled': 2875, 'posh': 2876, 'chaps': 2877, 'trial': 2878, 'prods': 2879, 'dob': 2880, 'adsense': 2881, 'evaluation': 2882, 'treated': 2883, 'digi': 2884, 'fab': 2885, 'coupla': 2886, 'assistance': 2887, 'loyalty': 2888, 'conference': 2889, 'predicte': 2890, 'xam': 2891, 'hall': 2892, 'hesitation': 2893, 'intha': 2894, 'ponnungale': 2895, 'handsome': 2896, 'finding': 2897, 'blogging': 2898, 'eastenders': 2899, 'dot': 2900, 'compare': 2901, 'violet': 2902, 'tulip': 2903, 'lily': 2904, 'officer': 2905, 'diddy': 2906, 'neighbor': 2907, 'toothpaste': 2908, 'victoria': 2909, 'album': 2910, 'brothas': 2911, 'department': 2912, 'conform': 2913, 'arranging': 2914, 'remembrs': 2915, 'mentor': 2916, 'percent': 2917, 'marriage': 2918, 'function': 2919, 'bro': 2920, 'amongst': 2921, 'bros': 2922, 'frog': 2923, 'lt': 2924, 'yoyyooo': 2925, 'permissions': 2926, 'scarcasim': 2927, 'passes': 2928, 'thread': 2929, 'hooch': 2930, 'toaday': 2931, 'grazed': 2932, 'knees': 2933, 'hamster': 2934, 'million': 2935, 'foot': 2936, 'although': 2937, 'eventually': 2938, 'build': 2939, 'tolerance': 2940, 'hits': 2941, 'pull': 2942, 'confidence': 2943, 'skint': 2944, 'fancied': 2945, 'spoon': 2946, 'watchng': 2947, 'planet': 2948, 'pen': 2949, 'biro': 2950, 'axis': 2951, 'complaining': 2952, 'tops': 2953, 'legitimat': 2954, 'efreefone': 2955, 'stability': 2956, 'tranquility': 2957, 'vibrant': 2958, 'colourful': 2959, 'dealing': 2960, 'raiden': 2961, 'gravel': 2962, 'mentionned': 2963, 'uses': 2964, 'coco': 2965, 'anythiing': 2966, 'epsilon': 2967, 'bomb': 2968, 'virgins': 2969, 'sexual': 2970, 'bits': 2971, 'smsing': 2972, 'hcl': 2973, 'requires': 2974, 'freshers': 2975, 'voice': 2976, 'telephonic': 2977, 'naal': 2978, 'sday': 2979, 'btwn': 2980, 'infra': 2981, 'arguing': 2982, 'blanket': 2983, 'loosu': 2984, 'hillsborough': 2985, 'triple': 2986, 'echo': 2987, 'inshah': 2988, 'occasion': 2989, 'celebrated': 2990, 'reflection': 2991, 'deduct': 2992, 'yuou': 2993, 'spot': 2994, 'proper': 2995, 'tongued': 2996, 'gokila': 2997, 'steyn': 2998, 'nelson': 2999, 'limited': 3000, 'visa': 3001, 'gucci': 3002, 'ijust': 3003, 'talked': 3004, 'inever': 3005, 'cuddling': 3006, 'crucify': 3007, 'fuuuuck': 3008, 'nevr': 3009, 'somone': 3010, 'mistakes': 3011, 'valuing': 3012, 'definitly': 3013, 'undrstnd': 3014, 'syria': 3015, 'instant': 3016, 'nap': 3017, 'cme': 3018, 'hos': 3019, 'surya': 3020, 'vijay': 3021, 'pokkiri': 3022, 'loyal': 3023, 'customers': 3024, 'fifth': 3025, 'woozles': 3026, 'bridge': 3027, 'blank': 3028, 'crowd': 3029, 'exorcism': 3030, 'emily': 3031, 'pose': 3032, 'comb': 3033, 'dryer': 3034, 'admit': 3035, 'poortiyagi': 3036, 'hanumanji': 3037, 'janarige': 3038, 'ivatte': 3039, 'kalisidare': 3040, 'olage': 3041, 'ondu': 3042, 'maretare': 3043, 'inde': 3044, 'dodda': 3045, 'problum': 3046, 'nalli': 3047, 'siguviri': 3048, 'idu': 3049, 'matra': 3050, 'prometazine': 3051, 'entertain': 3052, 'neither': 3053, 'unusual': 3054, 'antibiotic': 3055, 'abdomen': 3056, 'gynae': 3057, 'infections': 3058, 'hunt': 3059, 'monkey': 3060, 'trauma': 3061, 'swear': 3062, 'garments': 3063, 'theory': 3064, 'younger': 3065, 'babies': 3066, 'spjanuary': 3067, 'talks': 3068, 'symptoms': 3069, 'leo': 3070, 'habit': 3071, 'hogolo': 3072, 'kodstini': 3073, 'madstini': 3074, 'hogli': 3075, 'mutai': 3076, 'eerulli': 3077, 'annie': 3078, 'slots': 3079, 'gurl': 3080, 'appropriate': 3081, 'jamster': 3082, 'videosound': 3083, 'ducking': 3084, 'chinchillas': 3085, 'heehee': 3086, 'warming': 3087, 'cared': 3088, 'strt': 3089, 'bowls': 3090, 'twins': 3091, 'yeovil': 3092, 'motor': 3093, 'defer': 3094, 'admission': 3095, 'brighten': 3096, 'jos': 3097, 'chickened': 3098, 'woould': 3099, 'process': 3100, 'jot': 3101, 'everyso': 3102, 'panicks': 3103, 'posible': 3104, 'century': 3105, 'frwd': 3106, 'sometme': 3107, 'textand': 3108, 'poo': 3109, 'beneath': 3110, 'pale': 3111, 'mw': 3112, 'tuth': 3113, 'chastity': 3114, 'device': 3115, 'beatings': 3116, 'fringe': 3117, 'sore': 3118, 'scratches': 3119, 'ultimately': 3120, 'tor': 3121, 'motive': 3122, 'tui': 3123, 'achieve': 3124, 'fishrman': 3125, 'waited': 3126, 'sack': 3127, 'ful': 3128, 'strtd': 3129, 'throwin': 3130, 'thm': 3131, 'reserve': 3132, 'thirunelvali': 3133, 'tirunelvali': 3134, 'tackle': 3135, 'intend': 3136, 'careabout': 3137, 'breakfast': 3138, 'rejected': 3139, 'puts': 3140, 'perspective': 3141, 'parachute': 3142, 'minus': 3143, 'grandfather': 3144, 'swimsuit': 3145, 'maintain': 3146, 'cr': 3147, 'problematic': 3148, 'nos': 3149, 'note': 3150, 'robs': 3151, 'avenge': 3152, 'hooked': 3153, 'unintentionally': 3154, 'eaten': 3155, 'meh': 3156, 'familiar': 3157, 'closes': 3158, 'prescription': 3159, 'theyre': 3160, 'folks': 3161, 'smaller': 3162, 'capacity': 3163, 'throwing': 3164, 'crucial': 3165, 'losers': 3166, 'rajitha': 3167, 'raj': 3168, 'payments': 3169, 'fedex': 3170, 'rhode': 3171, 'bong': 3172, 'playin': 3173, 'offense': 3174, 'storming': 3175, 'wt': 3176, 'meaning': 3177, 'girlfrnd': 3178, 'grahmbell': 3179, 'invnted': 3180, 'whr': 3181, 'cooperative': 3182, 'allows': 3183, 'gary': 3184, 'waqt': 3185, 'pehle': 3186, 'naseeb': 3187, 'zyada': 3188, 'kisi': 3189, 'ko': 3190, 'kuch': 3191, 'hum': 3192, 'sochte': 3193, 'zindgi': 3194, 'ham': 3195, 'jeetey': 3196, 'cake': 3197, 'tasts': 3198, 'woodland': 3199, 'avenue': 3200, 'parish': 3201, 'synced': 3202, 'ava': 3203, 'melnite': 3204, 'ifink': 3205, 'everythin': 3206, 'earliest': 3207, 'involved': 3208, 'asthma': 3209, 'fair': 3210, 'worrying': 3211, 'quizzes': 3212, 'popcorn': 3213, 'sumfing': 3214, 'drinkin': 3215, 'season': 3216, 'goals': 3217, 'villa': 3218, 'presnts': 3219, 'bcz': 3220, 'irulinae': 3221, 'neekunna': 3222, 'prakasamanu': 3223, 'prakasam': 3224, 'ennal': 3225, 'mns': 3226, 'ipads': 3227, 'worthless': 3228, 'novelty': 3229, 'prin': 3230, 'elaborating': 3231, 'safety': 3232, 'aspects': 3233, 'missunderstding': 3234, 'idc': 3235, 'weaseling': 3236, 'lnly': 3237, 'seing': 3238, 'faber': 3239, 'unni': 3240, 'dollar': 3241, 'lambda': 3242, 'easiest': 3243, 'dan': 3244, 'reminded': 3245, 'sitter': 3246, 'physics': 3247, 'rawring': 3248, 'xoxo': 3249, 'occurs': 3250, 'stopcs': 3251, 'henry': 3252, 'scores': 3253, 'yards': 3254, 'bergkamp': 3255, 'margin': 3256, 'spring': 3257, 'yay': 3258, 'bundle': 3259, 'deals': 3260, 'mf': 3261, 'loud': 3262, 'gyno': 3263, 'belong': 3264, 'eta': 3265, 'flippin': 3266, 'slaaaaave': 3267, 'summon': 3268, 'everyday': 3269, 'fatty': 3270, 'ryder': 3271, 'ic': 3272, 'meaningful': 3273, 'magical': 3274, 'enufcredeit': 3275, 'ileave': 3276, 'burger': 3277, 'shitin': 3278, 'defo': 3279, 'hardest': 3280, 'millions': 3281, 'lekdog': 3282, 'screamed': 3283, 'hallaq': 3284, 'owned': 3285, 'shortly': 3286, 'testing': 3287, 'impression': 3288, 'refused': 3289, 'secured': 3290, 'florida': 3291, 'reache': 3292, 'cupboard': 3293, 'sporadically': 3294, 'bc': 3295, 'urination': 3296, 'wi': 3297, 'nz': 3298, 'forced': 3299, 'monkeys': 3300, 'wud': 3301, 'printer': 3302, 'groovying': 3303, 'roommates': 3304, 'thnx': 3305, 'hardly': 3306, 'built': 3307, 'lonlines': 3308, 'lotz': 3309, 'cudnt': 3310, 'ctla': 3311, 'technical': 3312, 'outsider': 3313, 'engagement': 3314, 'fixd': 3315, 'njan': 3316, 'chip': 3317, 'washob': 3318, 'nobbing': 3319, 'nickey': 3320, 'platt': 3321, 'treadmill': 3322, 'craigslist': 3323, 'arnt': 3324, 'xxxxxxxxxxxxxx': 3325, 'offline': 3326, 'cartons': 3327, 'shelves': 3328, 'nit': 3329, 'js': 3330, 'mandy': 3331, 'sullivan': 3332, 'hotmix': 3333, 'easter': 3334, 'transferred': 3335, 'ringtones': 3336, 'yck': 3337, 'aunt': 3338, 'justthought': 3339, 'endof': 3340, 'offdam': 3341, 'uwant': 3342, 'computational': 3343, 'satanic': 3344, 'imposter': 3345, 'destiny': 3346, 'lololo': 3347, 'practical': 3348, 'chachi': 3349, 'pl': 3350, 'tiz': 3351, 'kanagu': 3352, 'investigate': 3353, 'nigro': 3354, 'surly': 3355, 'bsn': 3356, 'advising': 3357, 'continue': 3358, 'compass': 3359, 'map': 3360, 'hhahhaahahah': 3361, 'wtf': 3362, 'nig': 3363, 'leonardo': 3364, 'pleasant': 3365, 'statements': 3366, 'wknd': 3367, 'practising': 3368, 'accenture': 3369, 'dieting': 3370, 'womdarfull': 3371, 'actor': 3372, 'sunoco': 3373, 'nose': 3374, 'essay': 3375, 'lodge': 3376, 'dec': 3377, 'bam': 3378, 'aid': 3379, 'signin': 3380, 'happend': 3381, 'dl': 3382, 'rob': 3383, 'mack': 3384, 'gf': 3385, 'theater': 3386, 'printing': 3387, 'handing': 3388, 'tonght': 3389, 'gnarls': 3390, 'barkleys': 3391, 'sppok': 3392, 'boooo': 3393, 'gotto': 3394, 'mouse': 3395, 'desk': 3396, 'topped': 3397, 'renewal': 3398, 'tgxxrz': 3399, 'customercare': 3400, 'sonetimes': 3401, 'rough': 3402, 'callon': 3403, 'jetton': 3404, 'ganesh': 3405, 'logos': 3406, 'cliff': 3407, 'conversations': 3408, 'sehwag': 3409, 'odi': 3410, 'crashing': 3411, 'pee': 3412, 'burns': 3413, 'wtc': 3414, 'weiyi': 3415, 'collected': 3416, 'educational': 3417, 'pocy': 3418, 'fortune': 3419, 'entirely': 3420, 'upgrdcentre': 3421, 'survey': 3422, 'hrishi': 3423, 'bedrm': 3424, 'hack': 3425, 'backdoor': 3426, 'fraction': 3427, 'subscribe': 3428, 'bcm': 3429, 'oblivious': 3430, 'ear': 3431, 'upset': 3432, 'chick': 3433, 'phony': 3434, 'practicing': 3435, 'gloucesterroad': 3436, 'uup': 3437, 'uploaded': 3438, 'signing': 3439, 'hee': 3440, 'needing': 3441, 'colin': 3442, 'farrell': 3443, 'swat': 3444, 'mre': 3445, 'tmrw': 3446, 'clothes': 3447, 'seconds': 3448, 'warning': 3449, 'samantha': 3450, 'guitar': 3451, 'impress': 3452, 'doug': 3453, 'realizes': 3454, 'grasp': 3455, 'dine': 3456, 'kotees': 3457, 'dao': 3458, 'dump': 3459, 'classic': 3460, 'internal': 3461, 'extract': 3462, 'perumbavoor': 3463, 'braved': 3464, 'buses': 3465, 'jolly': 3466, 'inpersonation': 3467, 'flea': 3468, 'panren': 3469, 'hopeing': 3470, 'sisters': 3471, 'locks': 3472, 'offering': 3473, 'dose': 3474, 'tablet': 3475, 'heaven': 3476, 'knickers': 3477, 'lobby': 3478, 'ideas': 3479, 'cuddle': 3480, 'soup': 3481, 'bunch': 3482, 'lotto': 3483, 'mountain': 3484, 'deer': 3485, 'lul': 3486, 'gossip': 3487, 'nurses': 3488, 'shes': 3489, 'north': 3490, 'carolina': 3491, 'texas': 3492, 'gre': 3493, 'onum': 3494, 'ela': 3495, 'humans': 3496, 'natural': 3497, 'asus': 3498, 'dismissial': 3499, 'ignoring': 3500, 'spelled': 3501, 'bullshit': 3502, 'nus': 3503, 'specialise': 3504, 'level': 3505, 'wamma': 3506, 'doggin': 3507, 'dogs': 3508, 'yavnt': 3509, 'pandy': 3510, 'technologies': 3511, 'dawns': 3512, 'refreshed': 3513, 'recognise': 3514, 'fwiw': 3515, 'afford': 3516, 'bani': 3517, 'satisfy': 3518, 'qlynnbv': 3519, 'supports': 3520, 'srt': 3521, 'accommodationvouchers': 3522, 'conditions': 3523, 'mustprovide': 3524, 'designation': 3525, 'developer': 3526, 'benefits': 3527, 'expert': 3528, 'boys': 3529, 'khelate': 3530, 'kintu': 3531, 'opponenter': 3532, 'dhorte': 3533, 'action': 3534, 'misss': 3535, 'youuuuu': 3536, 'tagged': 3537, 'disastrous': 3538, 'fav': 3539, 'toilet': 3540, 'cops': 3541, 'safely': 3542, 'en': 3543, 'nange': 3544, 'bakra': 3545, 'steal': 3546, 'prices': 3547, 'advance': 3548, 'pai': 3549, 'seh': 3550, 'image': 3551, 'property': 3552, 'tke': 3553, 'knocking': 3554, 'strain': 3555, 'blessed': 3556, 'teenager': 3557, 'blacko': 3558, 'londn': 3559, 'rakhesh': 3560, 'rtm': 3561, 'appendix': 3562, 'cer': 3563, 'tiime': 3564, 'powerful': 3565, 'weapon': 3566, 'becz': 3567, 'undrstndng': 3568, 'avoids': 3569, 'nightnight': 3570, 'september': 3571, 'inner': 3572, 'rahul': 3573, 'chocolate': 3574, 'onluy': 3575, 'matters': 3576, 'offcampus': 3577, 'eviction': 3578, 'spiral': 3579, 'michael': 3580, 'riddance': 3581, 'mumhas': 3582, 'beendropping': 3583, 'culdnt': 3584, 'talkbut': 3585, 'wannatell': 3586, 'wenwecan': 3587, 'properly': 3588, 'matthew': 3589, 'newspapers': 3590, 'beverage': 3591, 'cheetos': 3592, 'deck': 3593, 'alerts': 3594, 'stuffed': 3595, 'writhing': 3596, 'clarify': 3597, 'preponed': 3598, 'clarification': 3599, 'meatballs': 3600, 'submitting': 3601, 'breaking': 3602, 'cstore': 3603, 'ripped': 3604, 'goggles': 3605, 'wenever': 3606, 'unconscious': 3607, 'adults': 3608, 'revealing': 3609, 'harder': 3610, 'nbme': 3611, 'minded': 3612, 'minapn': 3613, 'brownie': 3614, 'ger': 3615, 'toking': 3616, 'syd': 3617, 'moved': 3618, 'apeshit': 3619, 'walmart': 3620, 'whens': 3621, 'kilos': 3622, 'pushbutton': 3623, 'dontcha': 3624, 'babygoodbye': 3625, 'golddigger': 3626, 'webeburnin': 3627, 'birthdate': 3628, 'certificate': 3629, 'publish': 3630, 'wrc': 3631, 'lucozade': 3632, 'le': 3633, 'packs': 3634, 'itcould': 3635, 'supose': 3636, 'babysit': 3637, 'evenings': 3638, 'kvb': 3639, 'predicting': 3640, 'innings': 3641, 'accidant': 3642, 'tookplace': 3643, 'ghodbandar': 3644, 'traffic': 3645, 'moves': 3646, 'slip': 3647, 'topic': 3648, 'crying': 3649, 'imprtant': 3650, 'ax': 3651, 'flood': 3652, 'wendy': 3653, 'suffering': 3654, 'dysentry': 3655, 'wining': 3656, 'donyt': 3657, 'hes': 3658, 'latelyxxx': 3659, 'elama': 3660, 'clocks': 3661, 'realised': 3662, 'thin': 3663, 'arguments': 3664, 'himso': 3665, 'rush': 3666, 'tnc': 3667, 'awww': 3668, 'lux': 3669, 'filthy': 3670, 'filth': 3671, 'saristar': 3672, 'beth': 3673, 'aunts': 3674, 'charlie': 3675, 'helen': 3676, 'aquarius': 3677, 'hangin': 3678, 'gibbs': 3679, 'hussey': 3680, 'gained': 3681, 'pressure': 3682, 'limits': 3683, 'muchxxlove': 3684, 'locaxx': 3685, 'forwarding': 3686, 'irritating': 3687, 'msging': 3688, 'companies': 3689, 'responsible': 3690, 'guarantee': 3691, 'dokey': 3692, 'swashbuckling': 3693, 'passport': 3694, 'stretch': 3695, 'buz': 3696, 'outsomewhere': 3697, 'adrink': 3698, 'fromwrk': 3699, 'smiles': 3700, 'luxury': 3701, 'canary': 3702, 'islands': 3703, 'amigos': 3704, 'hunting': 3705, 'motivate': 3706, 'shakara': 3707, 'adewale': 3708, 'egbon': 3709, 'shortcode': 3710, 'gautham': 3711, 'arent': 3712, 'luton': 3713, 'jap': 3714, 'fresh': 3715, 'twittering': 3716, 'threats': 3717, 'sales': 3718, 'executive': 3719, 'shifad': 3720, 'raised': 3721, 'status': 3722, 'vitamin': 3723, 'urfeeling': 3724, 'bettersn': 3725, 'probthat': 3726, 'overdose': 3727, 'spk': 3728, 'stamped': 3729, 'envelope': 3730, 'simulate': 3731, 'dismay': 3732, 'shoul': 3733, 'skateboarding': 3734, 'thrown': 3735, 'winds': 3736, 'bandages': 3737, 'arms': 3738, 'gotten': 3739, 'begun': 3740, 'registration': 3741, 'permanent': 3742, 'residency': 3743, 'apt': 3744, 'alwys': 3745, 'popping': 3746, 'ibuprofens': 3747, 'sts': 3748, 'oic': 3749, 'rupaul': 3750, 'broke': 3751, 'sorta': 3752, 'blown': 3753, 'paperwork': 3754, 'texted': 3755, 'nervous': 3756, 'journey': 3757, 'marking': 3758, 'childporn': 3759, 'aha': 3760, 'grown': 3761, 'tp': 3762, 'pattern': 3763, 'emerging': 3764, 'hesitant': 3765, 'slippers': 3766, 'returning': 3767, 'puppy': 3768, 'noise': 3769, 'siva': 3770, 'hostel': 3771, 'someonone': 3772, 'huiming': 3773, 'macha': 3774, 'paracetamol': 3775, 'hannaford': 3776, 'wheat': 3777, 'chex': 3778, 'watchin': 3779, 'horse': 3780, 'stalking': 3781, 'claimcode': 3782, 'honesty': 3783, 'hanks': 3784, 'shock': 3785, 'students': 3786, 'solved': 3787, 'headache': 3788, 'sweetheart': 3789, 'plum': 3790, 'genus': 3791, 'consensus': 3792, 'sponsors': 3793, 'prizeawaiting': 3794, 'conacted': 3795, 'scold': 3796, 'zhong': 3797, 'qing': 3798, 'act': 3799, 'jide': 3800, 'visiting': 3801, 'idps': 3802, 'linux': 3803, 'reserves': 3804, 'windows': 3805, 'logoff': 3806, 'vid': 3807, 'keyword': 3808, 'meets': 3809, 'uncountable': 3810, 'noun': 3811, 'alle': 3812, 'oru': 3813, 'pole': 3814, 'allalo': 3815, 'swell': 3816, 'snickering': 3817, 'chords': 3818, 'stops': 3819, 'gari': 3820, 'documents': 3821, 'submitted': 3822, 'stapati': 3823, 'bitch': 3824, 'whos': 3825, 'woo': 3826, 'hoo': 3827, 'faith': 3828, 'recovery': 3829, 'cooped': 3830, 'subscribers': 3831, 'dats': 3832, 'dogg': 3833, 'waheeda': 3834, 'honestly': 3835, 'promptly': 3836, 'burnt': 3837, 'ie': 3838, 'diet': 3839, 'flew': 3840, 'window': 3841, 'mathews': 3842, 'tait': 3843, 'edwards': 3844, 'anderson': 3845, 'french': 3846, 'fooled': 3847, 'vibrator': 3848, 'shake': 3849, 'que': 3850, 'pases': 3851, 'un': 3852, 'buen': 3853, 'tiempo': 3854, 'hme': 3855, 'diwali': 3856, 'belongs': 3857, 'fated': 3858, 'shoranur': 3859, 'fuelled': 3860, 'concern': 3861, 'prior': 3862, 'grief': 3863, 'fifa': 3864, 'august': 3865, 'weight': 3866, 'falls': 3867, 'dom': 3868, 'removal': 3869, 'darlings': 3870, 'tag': 3871, 'messy': 3872, 'laundry': 3873, 'underwear': 3874, 'bras': 3875, 'strewn': 3876, 'pillows': 3877, 'grownup': 3878, 'youdoing': 3879, 'yeesh': 3880, 'infact': 3881, 'sheffield': 3882, 'opinions': 3883, 'categories': 3884, 'measure': 3885, 'ethnicity': 3886, 'surgical': 3887, 'emergency': 3888, 'gender': 3889, 'jez': 3890, 'todo': 3891, 'workand': 3892, 'whilltake': 3893, 'ayo': 3894, 'imin': 3895, 'urgoin': 3896, 'reallyneed': 3897, 'dontplease': 3898, 'dontignore': 3899, 'thecd': 3900, 'tome': 3901, 'shun': 3902, 'bian': 3903, 'glass': 3904, 'managed': 3905, 'resort': 3906, 'roller': 3907, 'jjc': 3908, 'corporation': 3909, 'disagreeable': 3910, 'league': 3911, 'duchess': 3912, 'cornwall': 3913, 'useful': 3914, 'breathing': 3915, 'stage': 3916, 'ashwini': 3917, 'hun': 3918, 'walkabout': 3919, 'placed': 3920, 'comprehensive': 3921, 'tai': 3922, 'feng': 3923, 'ringing': 3924, 'houseful': 3925, 'screaming': 3926, 'brats': 3927, 'pulling': 3928, 'jade': 3929, 'hasnt': 3930, 'increase': 3931, 'holy': 3932, 'christ': 3933, 'copied': 3934, 'leading': 3935, 'pause': 3936, 'blowing': 3937, 'lodging': 3938, 'hill': 3939, 'upping': 3940, 'grams': 3941, 'july': 3942, 'bognor': 3943, 'splendid': 3944, 'packing': 3945, 'slo': 3946, 'shitstorm': 3947, 'attributed': 3948, 'smokes': 3949, 'justify': 3950, 'freaky': 3951, 'enc': 3952, 'ip': 3953, 'minecraft': 3954, 'server': 3955, 'route': 3956, 'hearing': 3957, 'requirements': 3958, 'ola': 3959, 'reliant': 3960, 'senor': 3961, 'posts': 3962, 'guoyang': 3963, 'ortxt': 3964, 'relaxing': 3965, 'bangbabes': 3966, 'ktv': 3967, 'amy': 3968, 'sized': 3969, 'helens': 3970, 'princes': 3971, 'onwords': 3972, 'mtnl': 3973, 'headin': 3974, 'kent': 3975, 'vale': 3976, 'affidavit': 3977, 'twiggs': 3978, 'division': 3979, 'courtroom': 3980, 'chez': 3981, 'jules': 3982, 'neft': 3983, 'beneficiary': 3984, 'faded': 3985, 'ralphs': 3986, 'batt': 3987, 'breaker': 3988, 'deluxe': 3989, 'features': 3990, 'graphics': 3991, 'bbdeluxe': 3992, 'unbelievable': 3993, 'faglord': 3994, 'shindig': 3995, 'adventuring': 3996, 'hockey': 3997, 'elections': 3998, 'thnq': 3999, 'adrian': 4000, 'rgds': 4001, 'vatian': 4002, 'tall': 4003, 'avin': 4004, 'twenty': 4005, 'durham': 4006, 'reserved': 4007, 'entertaining': 4008, 'hugh': 4009, 'laurie': 4010, 'stick': 4011, 'indeed': 4012, 'browsin': 4013, 'compulsory': 4014, 'rimac': 4015, 'perhaps': 4016, 'iron': 4017, 'durban': 4018, 'flies': 4019, 'hittng': 4020, 'reflex': 4021, 'positions': 4022, 'kama': 4023, 'sutra': 4024, 'greet': 4025, 'flavour': 4026, 'lay': 4027, 'bimbo': 4028, 'worms': 4029, 'record': 4030, 'scenario': 4031, 'pimples': 4032, 'grumpy': 4033, 'lap': 4034, 'fridays': 4035, 'outbid': 4036, 'shinco': 4037, 'treasure': 4038, 'yunny': 4039, 'citylink': 4040, 'peeps': 4041, 'comment': 4042, 'fundamentals': 4043, 'philosophical': 4044, 'handed': 4045, 'asda': 4046, 'counts': 4047, 'pump': 4048, 'petrol': 4049, 'treats': 4050, 'fredericksburg': 4051, 'feelin': 4052, 'vill': 4053, 'parco': 4054, 'orc': 4055, 'helpline': 4056, 'ooooooh': 4057, 'yoville': 4058, 'protect': 4059, 'sib': 4060, 'sensitive': 4061, 'commercial': 4062, 'jump': 4063, 'hoops': 4064, 'ubandu': 4065, 'installing': 4066, 'repair': 4067, 'cheese': 4068, 'necesity': 4069, 'witout': 4070, 'wth': 4071, 'events': 4072, 'irritated': 4073, 'wthout': 4074, 'cosign': 4075, 'sue': 4076, 'textoperator': 4077, 'caveboy': 4078, 'painting': 4079, 'crap': 4080, 'boggy': 4081, 'onam': 4082, 'insha': 4083, 'tata': 4084, 'aig': 4085, 'jod': 4086, 'revision': 4087, 'keris': 4088, 'luckily': 4089, 'starring': 4090, 'batch': 4091, 'tcs': 4092, 'eightish': 4093, 'slower': 4094, 'idiot': 4095, 'converted': 4096, 'vpod': 4097, 'invoices': 4098, 'maps': 4099, 'atm': 4100, 'pure': 4101, 'hearted': 4102, 'enemies': 4103, 'smiley': 4104, 'swollen': 4105, 'glands': 4106, 'connections': 4107, 'grr': 4108, 'pharmacy': 4109, 'smoked': 4110, 'gran': 4111, 'onlyfound': 4112, 'afew': 4113, 'honi': 4114, 'regretted': 4115, 'related': 4116, 'intentions': 4117, 'smiled': 4118, 'gudnite': 4119, 'creep': 4120, 'sarasota': 4121, 'placement': 4122, 'amrita': 4123, 'olol': 4124, 'gpu': 4125, 'witin': 4126, 'speciale': 4127, 'zouk': 4128, 'roses': 4129, 'quitting': 4130, 'jersey': 4131, 'devils': 4132, 'detroit': 4133, 'wings': 4134, 'sptv': 4135, 'fondly': 4136, 'stash': 4137, 'stopbcm': 4138, 'sf': 4139, 'sapna': 4140, 'aunty': 4141, 'manege': 4142, 'swalpa': 4143, 'exchanged': 4144, 'uncut': 4145, 'diamond': 4146, 'dino': 4147, 'sculpture': 4148, 'united': 4149, 'nearby': 4150, 'cliffs': 4151, 'hiphop': 4152, 'lou': 4153, 'neway': 4154, 'steve': 4155, 'answered': 4156, 'fish': 4157, 'assumed': 4158, 'worst': 4159, 'swhrt': 4160, 'kavalan': 4161, 'checkboxes': 4162, 'xxxxx': 4163, 'stays': 4164, 'ors': 4165, 'everywhere': 4166, 'chores': 4167, 'hail': 4168, 'notified': 4169, 'marketing': 4170, 'describe': 4171, 'beside': 4172, 'chad': 4173, 'gymnastics': 4174, 'christians': 4175, 'rounds': 4176, 'mobs': 4177, 'ymca': 4178, 'wesleys': 4179, 'board': 4180, 'overheating': 4181, 'inst': 4182, 'macs': 4183, 'glorious': 4184, 'anniversary': 4185, 'finds': 4186, 'coaxing': 4187, 'images': 4188, 'fond': 4189, 'souveniers': 4190, 'loneliness': 4191, 'challenging': 4192, 'rip': 4193, 'tirupur': 4194, 'elvis': 4195, 'presleys': 4196, 'zoom': 4197, 'mising': 4198, 'arm': 4199, 'zac': 4200, 'pounded': 4201, 'olave': 4202, 'mandara': 4203, 'kano': 4204, 'trishul': 4205, 'problms': 4206, 'litres': 4207, 'diseases': 4208, 'snd': 4209, 'lasting': 4210, 'feathery': 4211, 'lasagna': 4212, 'inconsiderate': 4213, 'nag': 4214, 'recession': 4215, 'hence': 4216, 'southern': 4217, 'teams': 4218, 'evey': 4219, 'mnth': 4220, 'british': 4221, 'hotels': 4222, 'bx': 4223, 'matric': 4224, 'expired': 4225, 'monoc': 4226, 'monos': 4227, 'polyc': 4228, 'stream': 4229, 'absolutely': 4230, 'cc': 4231, 'temales': 4232, 'tortilla': 4233, 'yummmm': 4234, 'bao': 4235, 'sugardad': 4236, 'coccooning': 4237, 'forevr': 4238, 'goodfriend': 4239, 'joys': 4240, 'lifeis': 4241, 'daywith': 4242, 'thoughts': 4243, 'somewheresomeone': 4244, 'tosend': 4245, 'mirror': 4246, 'mcr': 4247, 'salary': 4248, 'blur': 4249, 'pre': 4250, 'sacked': 4251, 'denying': 4252, 'transfred': 4253, 'mmmmmmm': 4254, 'contented': 4255, 'everyboy': 4256, 'xxxxxxxx': 4257, 'skins': 4258, 'jocks': 4259, 'leadership': 4260, 'skills': 4261, 'jsco': 4262, 'embarrassed': 4263, 'walsall': 4264, 'tue': 4265, 'hols': 4266, 'hairdressers': 4267, 'werethe': 4268, 'monkeespeople': 4269, 'howdy': 4270, 'howu': 4271, 'foundurself': 4272, 'jobyet': 4273, 'relieved': 4274, 'timin': 4275, 'eight': 4276, 'aids': 4277, 'buffet': 4278, 'downon': 4279, 'itxt': 4280, 'iwana': 4281, 'wotu': 4282, 'haventcn': 4283, 'nething': 4284, 'sub': 4285, 'sarcastic': 4286, 'removed': 4287, 'audrey': 4288, 'cards': 4289, 'fudge': 4290, 'oreos': 4291, 'stores': 4292, 'icky': 4293, 'freek': 4294, 'extreme': 4295, 'general': 4296, 'swoop': 4297, 'jackson': 4298, 'rec': 4299, 'center': 4300, 'deposit': 4301, 'nitw': 4302, 'texd': 4303, 'hopeu': 4304, 'jaz': 4305, 'barry': 4306, 'kitty': 4307, 'shaved': 4308, 'wipro': 4309, 'wasted': 4310, 'applebees': 4311, 'abusers': 4312, 'lives': 4313, 'lyk': 4314, 'gimmi': 4315, 'dha': 4316, 'karnan': 4317, 'lib': 4318, 'phasing': 4319, 'fourth': 4320, 'dimension': 4321, 'floating': 4322, 'appy': 4323, 'contains': 4324, 'cancer': 4325, 'chechi': 4326, 'multiply': 4327, 'independently': 4328, 'showed': 4329, 'sathya': 4330, 'mailed': 4331, 'varma': 4332, 'regarding': 4333, 'cheaper': 4334, 'goverment': 4335, 'expects': 4336, 'hides': 4337, 'perpetual': 4338, 'dd': 4339, 'sparkling': 4340, 'breaks': 4341, 'otside': 4342, 'prominent': 4343, 'bite': 4344, 'cheek': 4345, 'sold': 4346, 'shesil': 4347, 'somewhr': 4348, 'attending': 4349, 'gn': 4350, 'gep': 4351, 'sweater': 4352, 'mango': 4353, 'cab': 4354, 'kadeem': 4355, 'eldest': 4356, 'prsn': 4357, 'somtimes': 4358, 'saves': 4359, 'quiet': 4360, 'rows': 4361, 'doinat': 4362, 'bread': 4363, 'unemployed': 4364, 'pookie': 4365, 'tacos': 4366, 'rajas': 4367, 'noncomittal': 4368, 'explicit': 4369, 'chop': 4370, 'jacket': 4371, 'wewa': 4372, 'iriver': 4373, 'loosing': 4374, 'avo': 4375, 'bookshelf': 4376, 'hep': 4377, 'immunisation': 4378, 'fink': 4379, 'promised': 4380, 'carlie': 4381, 'guessing': 4382, 'jb': 4383, 'burden': 4384, 'reception': 4385, 'concerned': 4386, 'aaooooright': 4387, 'rocking': 4388, 'resizing': 4389, 'php': 4390, 'jungle': 4391, 'mth': 4392, 'destination': 4393, 'mandan': 4394, 'maggi': 4395, 'rv': 4396, 'hol': 4397, 'prestige': 4398, 'obey': 4399, 'webpage': 4400, 'prevent': 4401, 'dehydration': 4402, 'fluids': 4403, 'continued': 4404, 'unconvinced': 4405, 'elaborate': 4406, 'willpower': 4407, 'kfc': 4408, 'meals': 4409, 'textcomp': 4410, 'subsequent': 4411, 'wks': 4412, 'hugging': 4413, 'cmon': 4414, 'replies': 4415, 'spare': 4416, 'supplies': 4417, 'brolly': 4418, 'franxx': 4419, 'ams': 4420, 'showered': 4421, 'realising': 4422, 'gprs': 4423, 'auntie': 4424, 'huai': 4425, 'juan': 4426, 'priority': 4427, 'pract': 4428, 'flung': 4429, 'stil': 4430, 'tobed': 4431, 'hdd': 4432, 'casing': 4433, 'nottingham': 4434, 'resubmit': 4435, 'mary': 4436, 'sao': 4437, 'mood': 4438, 'cthen': 4439, 'conclusion': 4440, 'recognises': 4441, 'financial': 4442, 'boltblue': 4443, 'slide': 4444, 'jamz': 4445, 'toxic': 4446, 'silly': 4447, 'swan': 4448, 'tiwary': 4449, 'strict': 4450, 'dual': 4451, 'fix': 4452, 'dearly': 4453, 'ikno': 4454, 'oclock': 4455, 'bash': 4456, 'teaching': 4457, 'pocked': 4458, 'lord': 4459, 'soundtrack': 4460, 'miserable': 4461, 'nigh': 4462, 'availa': 4463, 'bookedthe': 4464, 'taxt': 4465, 'woot': 4466, 'stuffing': 4467, 'mouth': 4468, 'sounding': 4469, 'dialogue': 4470, 'wipe': 4471, 'tears': 4472, 'url': 4473, 'participate': 4474, 'risk': 4475, 'covers': 4476, 'trends': 4477, 'pros': 4478, 'description': 4479, 'nuclear': 4480, 'fusion': 4481, 'iter': 4482, 'jet': 4483, 'hubby': 4484, 'fiting': 4485, 'load': 4486, 'abi': 4487, 'mj': 4488, 'cumming': 4489, 'parking': 4490, 'collapsed': 4491, 'manual': 4492, 'tech': 4493, 'reset': 4494, 'concert': 4495, 'african': 4496, 'ranjith': 4497, 'drpd': 4498, 'deeraj': 4499, 'deepak': 4500, 'ami': 4501, 'parchi': 4502, 'kicchu': 4503, 'kaaj': 4504, 'korte': 4505, 'iccha': 4506, 'korche': 4507, 'tul': 4508, 'website': 4509, 'spacebucks': 4510, 'marvel': 4511, 'ultimate': 4512, 'spider': 4513, 'weighed': 4514, 'toshiba': 4515, 'portege': 4516, 'swatch': 4517, 'uv': 4518, 'causes': 4519, 'sunscreen': 4520, 'thesedays': 4521, 'accommodation': 4522, 'global': 4523, 'agree': 4524, 'sunroof': 4525, 'flatter': 4526, 'pints': 4527, 'carlin': 4528, 'expression': 4529, 'depression': 4530, 'fans': 4531, 'dull': 4532, 'finance': 4533, 'sary': 4534, 'tim': 4535, 'bollox': 4536, 'tol': 4537, 'payasam': 4538, 'rinu': 4539, 'significant': 4540, 'gauge': 4541, 'craziest': 4542, 'proove': 4543, 'praises': 4544, 'makiing': 4545, 'opposite': 4546, 'debating': 4547, 'av': 4548, 'oni': 4549, 'asian': 4550, 'tsunami': 4551, 'disaster': 4552, 'fund': 4553, 'gam': 4554, 'wee': 4555, 'drama': 4556, 'struggling': 4557, 'strange': 4558, 'ego': 4559, 'necessity': 4560, 'serious': 4561, 'timings': 4562, 'theoretically': 4563, 'grooved': 4564, 'fring': 4565, 'nicky': 4566, 'accordin': 4567, 'heat': 4568, 'applyed': 4569, 'oil': 4570, 'rebtel': 4571, 'restocked': 4572, 'grumble': 4573, 'unmits': 4574, 'ericson': 4575, 'luks': 4576, 'modl': 4577, 'checkin': 4578, 'heal': 4579, 'dining': 4580, 'html': 4581, 'fruit': 4582, 'uhhhhrmm': 4583, 'hlday': 4584, 'camp': 4585, 'amrca': 4586, 'bitching': 4587, 'stress': 4588, 'ofice': 4589, 'duffer': 4590, 'heater': 4591, 'forgiven': 4592, 'champ': 4593, 'goldviking': 4594, 'sef': 4595, 'port': 4596, 'pierre': 4597, 'cardin': 4598, 'gosh': 4599, 'spose': 4600, 'rpl': 4601, 'cnl': 4602, 'pushes': 4603, 'underdtand': 4604, 'bfore': 4605, 'engaged': 4606, 'mtalk': 4607, 'respectful': 4608, 'ilol': 4609, 'personally': 4610, 'wuldnt': 4611, 'detail': 4612, 'explicitly': 4613, 'nora': 4614, 'sexychat': 4615, 'resend': 4616, 'spys': 4617, 'mails': 4618, 'snatch': 4619, 'shhhhh': 4620, 'speedchat': 4621, 'swap': 4622, 'rcd': 4623, 'wild': 4624, 'aptitude': 4625, 'cruisin': 4626, 'salad': 4627, 'desert': 4628, 'beers': 4629, 'alter': 4630, 'specific': 4631, 'jaklin': 4632, 'idk': 4633, 'lengths': 4634, 'behalf': 4635, 'requests': 4636, 'factory': 4637, 'pubs': 4638, 'frankie': 4639, 'bennys': 4640, 'ridden': 4641, 'establish': 4642, 'rhythm': 4643, 'becausethey': 4644, 'versus': 4645, 'shoes': 4646, 'positive': 4647, 'negative': 4648, 'missionary': 4649, 'uve': 4650, 'wildest': 4651, 'nosh': 4652, 'funs': 4653, 'maths': 4654, 'chapter': 4655, 'li': 4656, 'lecturer': 4657, 'repeating': 4658, 'mgs': 4659, 'callback': 4660, 'orno': 4661, 'fallen': 4662, 'actin': 4663, 'spoilt': 4664, 'badly': 4665, 'hills': 4666, 'weirdy': 4667, 'brownies': 4668, 'begging': 4669, 'comingdown': 4670, 'rayan': 4671, 'macleran': 4672, 'profile': 4673, 'promotion': 4674, 'bari': 4675, 'hudgi': 4676, 'yorge': 4677, 'pataistha': 4678, 'ertini': 4679, 'western': 4680, 'chatlines': 4681, 'inclu': 4682, 'servs': 4683, 'bailiff': 4684, 'shorter': 4685, 'gaze': 4686, 'broth': 4687, 'ramen': 4688, 'roomate': 4689, 'graduated': 4690, 'tellmiss': 4691, 'rule': 4692, 'loo': 4693, 'vomiting': 4694, 'bffs': 4695, 'carly': 4696, 'winnersclub': 4697, 'desparate': 4698, 'learned': 4699, 'fake': 4700, 'hen': 4701, 'cooked': 4702, 'salmon': 4703, 'la': 4704, 'penis': 4705, 'flight': 4706, 'approve': 4707, 'highest': 4708, 'maximum': 4709, 'spice': 4710, 'cedar': 4711, 'wined': 4712, 'dined': 4713, 'tm': 4714, 'machan': 4715, 'musical': 4716, 'incomm': 4717, 'malarky': 4718, 'unsubscribed': 4719, 'hunks': 4720, 'priya': 4721, 'wondarfull': 4722, 'maaaan': 4723, 'nooooooo': 4724, 'cable': 4725, 'clearly': 4726, 'leads': 4727, 'dolls': 4728, 'patrick': 4729, 'swayze': 4730, 'subscrition': 4731, 'ello': 4732, 'complain': 4733, 'bsnl': 4734, 'offc': 4735, 'nd': 4736, 'frndshp': 4737, 'freaking': 4738, 'myspace': 4739, 'logged': 4740, 'exhausted': 4741, 'resent': 4742, 'error': 4743, 'queries': 4744, 'yetunde': 4745, 'elsewhere': 4746, 'upstairs': 4747, 'shola': 4748, 'medicine': 4749, 'secretary': 4750, 'sagamu': 4751, 'vital': 4752, 'completes': 4753, 'education': 4754, 'nudist': 4755, 'themed': 4756, 'calicut': 4757, 'badrith': 4758, 'cookies': 4759, 'jelly': 4760, 'hava': 4761, 'prince': 4762, 'charming': 4763, 'possibility': 4764, 'el': 4765, 'nino': 4766, 'remembr': 4767, 'listn': 4768, 'watevr': 4769, 'thinkthis': 4770, 'dangerous': 4771, 'betta': 4772, 'aging': 4773, 'products': 4774, 'involve': 4775, 'imposed': 4776, 'conveying': 4777, 'ese': 4778, 'pending': 4779, 'attracts': 4780, 'select': 4781, 'cloth': 4782, 'unsold': 4783, 'screwd': 4784, 'jack': 4785, 'helpful': 4786, 'pretend': 4787, 'hypotheticalhuagauahahuagahyuhagga': 4788, 'sake': 4789, 'tallahassee': 4790, 'decision': 4791, 'abroad': 4792, 'xxsp': 4793, 'stopcost': 4794, 'vijaykanth': 4795, 'comedy': 4796, 'diesel': 4797, 'path': 4798, 'appear': 4799, 'front': 4800, 'stripes': 4801, 'thinl': 4802, 'embassy': 4803, 'velly': 4804, 'wallet': 4805, 'dozens': 4806, 'difficulties': 4807, 'recharged': 4808, 'skye': 4809, 'owe': 4810, 'evaporated': 4811, 'violated': 4812, 'stealing': 4813, 'miwa': 4814, 'jiayin': 4815, 'resubbing': 4816, 'phoned': 4817, 'disconnected': 4818, 'cast': 4819, 'aom': 4820, 'anyplaces': 4821, 'toyota': 4822, 'camry': 4823, 'mileage': 4824, 'landing': 4825, 'surrender': 4826, 'wating': 4827, 'yeh': 4828, 'havbeen': 4829, 'rise': 4830, 'havebeen': 4831, 'feelingood': 4832, 'srsly': 4833, 'yi': 4834, 'sink': 4835, 'cage': 4836, 'surrounded': 4837, 'reminding': 4838, 'owns': 4839, 'cuck': 4840, 'chk': 4841, 'ms': 4842, 'dict': 4843, 'potato': 4844, 'happiest': 4845, 'scratching': 4846, 'canteen': 4847, 'errors': 4848, 'rugby': 4849, 'grab': 4850, 'elephant': 4851, 'shove': 4852, 'um': 4853, 'summers': 4854, 'matched': 4855, 'saibaba': 4856, 'colany': 4857, 'drunk': 4858, 'motherfucker': 4859, 'corrct': 4860, 'dane': 4861, 'snap': 4862, 'chatting': 4863, 'gandhipuram': 4864, 'sem': 4865, 'enna': 4866, 'non': 4867, 'spouse': 4868, 'pmt': 4869, 'shldxxxx': 4870, 'distract': 4871, 'ag': 4872, 'promo': 4873, 'iphone': 4874, 'aust': 4875, 'bk': 4876, 'sip': 4877, 'cappuccino': 4878, 'casualty': 4879, 'includes': 4880, 'enjoying': 4881, 'appointments': 4882, 'dick': 4883, 'europe': 4884, 'smell': 4885, 'acknowledgement': 4886, 'astoundingly': 4887, 'tactless': 4888, 'faggy': 4889, 'oath': 4890, 'bothering': 4891, 'warned': 4892, 'sprint': 4893, 'downs': 4894, 'fletcher': 4895, 'neglect': 4896, 'settling': 4897, 'happenin': 4898, 'weekdays': 4899, 'nails': 4900, 'drivin': 4901, 'unnecessarily': 4902, 'hostile': 4903, 'wifi': 4904, 'gently': 4905, 'jordan': 4906, 'voted': 4907, 'arrival': 4908, 'frndship': 4909, 'misscall': 4910, 'frndz': 4911, 'chgs': 4912, 'apo': 4913, 'tix': 4914, 'byatch': 4915, 'tee': 4916, 'cheery': 4917, 'bye': 4918, 'envy': 4919, 'bunkers': 4920, 'seventeen': 4921, 'seven': 4922, 'hundred': 4923, 'ml': 4924, 'tohar': 4925, 'beeen': 4926, 'muht': 4927, 'albi': 4928, 'mufti': 4929, 'opening': 4930, 'cps': 4931, 'outages': 4932, 'conserve': 4933, 'view': 4934, 'gays': 4935, 'attention': 4936, 'boye': 4937, 'held': 4938, 'mallika': 4939, 'sherawat': 4940, 'flaked': 4941, 'loko': 4942, 'indicate': 4943, 'compensation': 4944, 'accident': 4945, 'kisses': 4946, 'yijue': 4947, 'audiitions': 4948, 'tsunamis': 4949, 'occur': 4950, 'rajnikant': 4951, 'swimming': 4952, 'spoil': 4953, 'recorder': 4954, 'canname': 4955, 'mquiz': 4956, 'ree': 4957, 'butting': 4958, 'freedom': 4959, 'anal': 4960, 'bang': 4961, 'adds': 4962, 'stitch': 4963, 'trouser': 4964, 'apnt': 4965, 'attitude': 4966, 'eggs': 4967, 'foned': 4968, 'dusk': 4969, 'puzzles': 4970, 'companion': 4971, 'chef': 4972, 'listener': 4973, 'organizer': 4974, 'boyfriend': 4975, 'sympathetic': 4976, 'athletic': 4977, 'courageous': 4978, 'determined': 4979, 'dependable': 4980, 'psychologist': 4981, 'pest': 4982, 'exterminator': 4983, 'psychiatrist': 4984, 'healer': 4985, 'stylist': 4986, 'driver': 4987, 'aaniye': 4988, 'pudunga': 4989, 'northampton': 4990, 'pei': 4991, 'crashed': 4992, 'cuddled': 4993, 'usc': 4994, 'payment': 4995, 'westshore': 4996, 'hyde': 4997, 'selfish': 4998, 'avalarr': 4999, 'hollalater': 5000, 'breezy': 5001, 'drms': 5002, 'pocay': 5003, 'wocay': 5004, 'hire': 5005, 'hitman': 5006, 'sara': 5007, 'bar': 5008, 'armenia': 5009, 'swann': 5010, 'howard': 5011, 'misundrstud': 5012, 'neighbors': 5013, 'loooooool': 5014, 'splash': 5015, 'firmware': 5016, 'beach': 5017, 'shore': 5018, 'limping': 5019, 'aa': 5020, 'wesley': 5021, 'disc': 5022, 'kanji': 5023, 'punish': 5024, 'mobcudb': 5025, 'gower': 5026, 'gbp': 5027, 'persevered': 5028, 'apologise': 5029, 'netflix': 5030, 'thinked': 5031, 'arabian': 5032, 'steed': 5033, 'fowler': 5034, 'anna': 5035, 'nagar': 5036, 'evry': 5037, 'emotion': 5038, 'dub': 5039, 'je': 5040, 'missions': 5041, 'clip': 5042, 'mmsto': 5043, 'repairs': 5044, 'ovulation': 5045, 'followin': 5046, 'jabo': 5047, 'kalainar': 5048, 'xxuk': 5049, 'someday': 5050, 'xafter': 5051, 'cst': 5052, 'chg': 5053, 'donno': 5054, 'scorable': 5055, 'ow': 5056, 'inperialmusic': 5057, 'insects': 5058, 'evil': 5059, 'roles': 5060, 'mel': 5061, 'sleeps': 5062, 'lanre': 5063, 'eckankar': 5064, 'torrents': 5065, 'particularly': 5066, 'legal': 5067, 'slowing': 5068, 'suffers': 5069, 'silence': 5070, 'robinson': 5071, 'supervisor': 5072, 'hiding': 5073, 'print': 5074, 'hypertension': 5075, 'fujitsu': 5076, 'lifebook': 5077, 'fps': 5078, 'tonexs': 5079, 'renewed': 5080, 'muchand': 5081, 'venugopal': 5082, 'scrounge': 5083, 'kip': 5084, 'anonymous': 5085, 'masked': 5086, 'thout': 5087, 'church': 5088, 'paining': 5089, 'orh': 5090, 'bcum': 5091, 'ar': 5092, 'korean': 5093, 'wrote': 5094, 'ritten': 5095, 'fold': 5096, 'compliments': 5097, 'boat': 5098, 'rolled': 5099, 'newscaster': 5100, 'dabbles': 5101, 'flute': 5102, 'wheel': 5103, 'workout': 5104, 'eighth': 5105, 'smarter': 5106, 'oz': 5107, 'clover': 5108, 'worc': 5109, 'foregate': 5110, 'shrub': 5111, 'student': 5112, 'sickness': 5113, 'intrude': 5114, 'tuition': 5115, 'ouch': 5116, 'bootydelious': 5117, 'token': 5118, 'fetching': 5119, 'romcapspam': 5120, 'presence': 5121, 'wondar': 5122, 'sang': 5123, 'stone': 5124, 'enters': 5125, 'differ': 5126, 'cook': 5127, 'samus': 5128, 'shoulders': 5129, 'kicks': 5130, 'declare': 5131, 'stocked': 5132, 'les': 5133, 'rudi': 5134, 'sends': 5135, 'ink': 5136, 'spiffing': 5137, 'tau': 5138, 'piah': 5139, 'tip': 5140, 'figuring': 5141, 'brainy': 5142, 'penny': 5143, 'subtoitles': 5144, 'yelling': 5145, 'individual': 5146, 'firsg': 5147, 'raping': 5148, 'dudes': 5149, 'poker': 5150, 'srs': 5151, 'repent': 5152, 'overtime': 5153, 'lifting': 5154, 'arestaurant': 5155, 'dosomething': 5156, 'chuckin': 5157, 'trainners': 5158, 'carryin': 5159, 'bac': 5160, 'yalrigu': 5161, 'uttered': 5162, 'trusting': 5163, 'deus': 5164, 'cantdo': 5165, 'anythingtomorrow': 5166, 'myparents': 5167, 'aretaking': 5168, 'outfor': 5169, 'katexxx': 5170, 'whatsup': 5171, 'logon': 5172, 'rcvd': 5173, 'farting': 5174, 'rdy': 5175, 'ship': 5176, 'restrict': 5177, 'rebooting': 5178, 'pleassssssseeeeee': 5179, 'sportsx': 5180, 'narcotics': 5181, 'corect': 5182, 'speling': 5183, 'sarcasm': 5184, 'spatula': 5185, 'tank': 5186, 'arty': 5187, 'collages': 5188, 'tryin': 5189, 'squishy': 5190, 'bird': 5191, 'antelope': 5192, 'toplay': 5193, 'fieldof': 5194, 'selfindependence': 5195, 'contention': 5196, 'flyng': 5197, 'aries': 5198, 'dumb': 5199, 'needa': 5200, 'mcat': 5201, 'dr': 5202, 'smokin': 5203, 'application': 5204, 'broadband': 5205, 'processed': 5206, 'installation': 5207, 'scraped': 5208, 'barrel': 5209, 'misfits': 5210, 'salam': 5211, 'wrks': 5212, 'gonnamissu': 5213, 'buttheres': 5214, 'aboutas': 5215, 'merememberin': 5216, 'asthere': 5217, 'ofsi': 5218, 'breakin': 5219, 'yaxx': 5220, 'comfort': 5221, 'corvettes': 5222, 'macedonia': 5223, 'merely': 5224, 'gudnyt': 5225, 'shant': 5226, 'restock': 5227, 'leftovers': 5228, 'famous': 5229, 'ability': 5230, 'unconditionally': 5231, 'temper': 5232, 'crisis': 5233, 'shitload': 5234, 'diamonds': 5235, 'honeymoon': 5236, 'sum': 5237, 'lucyxx': 5238, 'wright': 5239, 'cribbs': 5240, 'dentists': 5241, 'dvg': 5242, 'vinobanagar': 5243, 'answerin': 5244, 'sleepy': 5245, 'enjoyin': 5246, 'sall': 5247, 'hehe': 5248, 'emigrated': 5249, 'desparately': 5250, 'chase': 5251, 'crossing': 5252, 'studies': 5253, 'anyones': 5254, 'soooo': 5255, 'provider': 5256, 'tming': 5257, 'recpt': 5258, 'eek': 5259, 'plaid': 5260, 'tiring': 5261, 'modules': 5262, 'concentrating': 5263, 'stubborn': 5264, 'dled': 5265, 'imp': 5266, 'petey': 5267, 'whereare': 5268, 'friendsare': 5269, 'thekingshead': 5270, 'canlove': 5271, 'ore': 5272, 'owo': 5273, 'fro': 5274, 'intrepid': 5275, 'duo': 5276, 'cried': 5277, 'lac': 5278, 'deposited': 5279, 'crore': 5280, 'jobs': 5281, 'lane': 5282, 'suply': 5283, 'imf': 5284, 'blocked': 5285, 'rich': 5286, 'corrupt': 5287, 'itna': 5288, 'karo': 5289, 'ki': 5290, 'pura': 5291, 'catches': 5292, 'jaykwon': 5293, 'thuglyfe': 5294, 'falconerf': 5295, 'mmmm': 5296, 'lion': 5297, 'bottom': 5298, 'banned': 5299, 'lips': 5300, 'edukkukayee': 5301, 'raksha': 5302, 'gail': 5303, 'yaxxx': 5304, 'surname': 5305, 'begins': 5306, 'ashley': 5307, 'tues': 5308, 'glo': 5309, 'lambu': 5310, 'ji': 5311, 'batchlor': 5312, 'showers': 5313, 'possessiveness': 5314, 'poured': 5315, 'golden': 5316, 'repeat': 5317, 'bot': 5318, 'notes': 5319, 'studyn': 5320, 'optimistic': 5321, 'kane': 5322, 'shud': 5323, 'royal': 5324, 'buttons': 5325, 'recd': 5326, 'vat': 5327, 'stagwood': 5328, 'winterstone': 5329, 'victors': 5330, 'sd': 5331, 'butt': 5332, 'openin': 5333, 'footie': 5334, 'phil': 5335, 'dlf': 5336, 'rub': 5337, 'schools': 5338, 'closed': 5339, 'dancing': 5340, 'moseley': 5341, 'weds': 5342, 'nhs': 5343, 'inconvenience': 5344, 'jacuzzi': 5345, 'cooking': 5346, 'natalie': 5347, 'proze': 5348, 'norcorp': 5349, 'belligerent': 5350, 'edrunk': 5351, 'iff': 5352, 'pthis': 5353, 'dancce': 5354, 'drum': 5355, 'ros': 5356, 'xxxxxxx': 5357}\n"
          ],
          "name": "stdout"
        }
      ]
    },
    {
      "cell_type": "code",
      "metadata": {
        "id": "_CBjGiSb_Q6Y",
        "colab_type": "code",
        "colab": {
          "base_uri": "https://localhost:8080/",
          "height": 34
        },
        "outputId": "1e0579bf-6bd3-4ba3-ecd5-e099a495433f"
      },
      "source": [
        "len(word_index)"
      ],
      "execution_count": null,
      "outputs": [
        {
          "output_type": "execute_result",
          "data": {
            "text/plain": [
              "5357"
            ]
          },
          "metadata": {
            "tags": []
          },
          "execution_count": 284
        }
      ]
    },
    {
      "cell_type": "code",
      "metadata": {
        "id": "n3YX2sZs_XRp",
        "colab_type": "code",
        "colab": {}
      },
      "source": [
        "seq=tokens.texts_to_sequences(ar)"
      ],
      "execution_count": null,
      "outputs": []
    },
    {
      "cell_type": "code",
      "metadata": {
        "id": "G2dug63e_4pt",
        "colab_type": "code",
        "colab": {}
      },
      "source": [
        "seq1=tokens.texts_to_sequences(ar1)"
      ],
      "execution_count": null,
      "outputs": []
    },
    {
      "cell_type": "code",
      "metadata": {
        "id": "U75JABldJ0-7",
        "colab_type": "code",
        "colab": {}
      },
      "source": [
        "seq2=tokens.texts_to_sequences(ar3)\n",
        "seq3=tokens.texts_to_sequences(ar4)"
      ],
      "execution_count": null,
      "outputs": []
    },
    {
      "cell_type": "code",
      "metadata": {
        "id": "8ySJE5yzBm_z",
        "colab_type": "code",
        "colab": {}
      },
      "source": [
        "pad1=pad_sequences(seq,padding=\"post\",maxlen=38,truncating=\"post\")\n",
        "pad2=pad_sequences(seq1,padding=\"post\",maxlen=38,truncating=\"post\")"
      ],
      "execution_count": null,
      "outputs": []
    },
    {
      "cell_type": "code",
      "metadata": {
        "id": "TwyJA7MJJ8DD",
        "colab_type": "code",
        "colab": {}
      },
      "source": [
        "pad3=pad_sequences(seq2,padding=\"post\",maxlen=38,truncating=\"post\")\n",
        "pad4=pad_sequences(seq3,padding=\"post\",maxlen=38,truncating=\"post\")"
      ],
      "execution_count": null,
      "outputs": []
    },
    {
      "cell_type": "code",
      "metadata": {
        "id": "F1PiNZSOBcQE",
        "colab_type": "code",
        "colab": {}
      },
      "source": [
        "from tensorflow.keras.utils import to_categorical"
      ],
      "execution_count": null,
      "outputs": []
    },
    {
      "cell_type": "code",
      "metadata": {
        "id": "GR-4MspQBjoT",
        "colab_type": "code",
        "colab": {
          "base_uri": "https://localhost:8080/",
          "height": 402
        },
        "outputId": "9b8cf903-673e-4739-ceef-1d4fa78da73b"
      },
      "source": [
        ""
      ],
      "execution_count": null,
      "outputs": [
        {
          "output_type": "execute_result",
          "data": {
            "text/html": [
              "<div>\n",
              "<style scoped>\n",
              "    .dataframe tbody tr th:only-of-type {\n",
              "        vertical-align: middle;\n",
              "    }\n",
              "\n",
              "    .dataframe tbody tr th {\n",
              "        vertical-align: top;\n",
              "    }\n",
              "\n",
              "    .dataframe thead th {\n",
              "        text-align: right;\n",
              "    }\n",
              "</style>\n",
              "<table border=\"1\" class=\"dataframe\">\n",
              "  <thead>\n",
              "    <tr style=\"text-align: right;\">\n",
              "      <th></th>\n",
              "      <th>0</th>\n",
              "      <th>1</th>\n",
              "    </tr>\n",
              "  </thead>\n",
              "  <tbody>\n",
              "    <tr>\n",
              "      <th>0</th>\n",
              "      <td>0</td>\n",
              "      <td>1</td>\n",
              "    </tr>\n",
              "    <tr>\n",
              "      <th>1</th>\n",
              "      <td>0</td>\n",
              "      <td>1</td>\n",
              "    </tr>\n",
              "    <tr>\n",
              "      <th>2</th>\n",
              "      <td>1</td>\n",
              "      <td>0</td>\n",
              "    </tr>\n",
              "    <tr>\n",
              "      <th>3</th>\n",
              "      <td>0</td>\n",
              "      <td>1</td>\n",
              "    </tr>\n",
              "    <tr>\n",
              "      <th>4</th>\n",
              "      <td>0</td>\n",
              "      <td>1</td>\n",
              "    </tr>\n",
              "    <tr>\n",
              "      <th>...</th>\n",
              "      <td>...</td>\n",
              "      <td>...</td>\n",
              "    </tr>\n",
              "    <tr>\n",
              "      <th>5567</th>\n",
              "      <td>1</td>\n",
              "      <td>0</td>\n",
              "    </tr>\n",
              "    <tr>\n",
              "      <th>5568</th>\n",
              "      <td>0</td>\n",
              "      <td>1</td>\n",
              "    </tr>\n",
              "    <tr>\n",
              "      <th>5569</th>\n",
              "      <td>0</td>\n",
              "      <td>1</td>\n",
              "    </tr>\n",
              "    <tr>\n",
              "      <th>5570</th>\n",
              "      <td>0</td>\n",
              "      <td>1</td>\n",
              "    </tr>\n",
              "    <tr>\n",
              "      <th>5571</th>\n",
              "      <td>0</td>\n",
              "      <td>1</td>\n",
              "    </tr>\n",
              "  </tbody>\n",
              "</table>\n",
              "<p>5572 rows × 2 columns</p>\n",
              "</div>"
            ],
            "text/plain": [
              "      0  1\n",
              "0     0  1\n",
              "1     0  1\n",
              "2     1  0\n",
              "3     0  1\n",
              "4     0  1\n",
              "...  .. ..\n",
              "5567  1  0\n",
              "5568  0  1\n",
              "5569  0  1\n",
              "5570  0  1\n",
              "5571  0  1\n",
              "\n",
              "[5572 rows x 2 columns]"
            ]
          },
          "metadata": {
            "tags": []
          },
          "execution_count": 55
        }
      ]
    },
    {
      "cell_type": "code",
      "metadata": {
        "id": "pUc9QUrlEdVq",
        "colab_type": "code",
        "colab": {
          "base_uri": "https://localhost:8080/",
          "height": 34
        },
        "outputId": "bc8010bd-c098-4995-d324-b5ff27b8f01c"
      },
      "source": [
        "pad1.shape"
      ],
      "execution_count": null,
      "outputs": [
        {
          "output_type": "execute_result",
          "data": {
            "text/plain": [
              "(4457, 38)"
            ]
          },
          "metadata": {
            "tags": []
          },
          "execution_count": 74
        }
      ]
    },
    {
      "cell_type": "code",
      "metadata": {
        "id": "iFTE3h0zCbJ_",
        "colab_type": "code",
        "colab": {}
      },
      "source": [
        "mess=[len(i) for i in df[\"Message\"]]"
      ],
      "execution_count": null,
      "outputs": []
    },
    {
      "cell_type": "code",
      "metadata": {
        "id": "SgW8lgU1C48_",
        "colab_type": "code",
        "colab": {}
      },
      "source": [
        "from tensorflow.keras.layers import Dense,Bidirectional,LSTM,Dropout,GlobalAveragePooling1D,Conv1D,Embedding,MaxPooling1D,Flatten\n",
        "from tensorflow.keras.models import Sequential\n",
        "from tensorflow.keras.callbacks import EarlyStopping"
      ],
      "execution_count": null,
      "outputs": []
    },
    {
      "cell_type": "code",
      "metadata": {
        "id": "-n_sW_F9MYrS",
        "colab_type": "code",
        "colab": {}
      },
      "source": [
        "callbacks=EarlyStopping(patience=3)"
      ],
      "execution_count": null,
      "outputs": []
    },
    {
      "cell_type": "code",
      "metadata": {
        "id": "MxkJwAhtqf4l",
        "colab_type": "code",
        "colab": {}
      },
      "source": [
        "yk=df[\"Category\"]"
      ],
      "execution_count": null,
      "outputs": []
    },
    {
      "cell_type": "code",
      "metadata": {
        "id": "HYOFVs0lc8qr",
        "colab_type": "code",
        "colab": {}
      },
      "source": [
        "model=Sequential()\n",
        "model.add(Embedding(input_dim=len(word_index)+1,output_dim=180,input_length=38))\n",
        "model.add(Conv1D(128,5,activation=\"relu\"))\n",
        "model.add(Dropout(0.1))\n",
        "model.add(Bidirectional(LSTM(150)))\n",
        "\n",
        "model.add(Flatten())\n",
        "model.add(Dense(2,activation=\"sigmoid\"))"
      ],
      "execution_count": null,
      "outputs": []
    },
    {
      "cell_type": "code",
      "metadata": {
        "id": "wA-fJ5bepIiW",
        "colab_type": "code",
        "colab": {}
      },
      "source": [
        "model1=Sequential()\n",
        "model1.add(Embedding(input_dim=len(word_index1)+1,output_dim=180,input_length=38))\n",
        "model1.add(Bidirectional(LSTM(180)))\n",
        "model1.add(Dense(1,activation=\"sigmoid\"))"
      ],
      "execution_count": null,
      "outputs": []
    },
    {
      "cell_type": "code",
      "metadata": {
        "id": "rEnK4juLQOIV",
        "colab_type": "code",
        "colab": {}
      },
      "source": [
        "model11=Sequential()\n",
        "model11.add(Embedding(input_dim=len(word_index)+1,output_dim=160,input_length=38))\n",
        "\n",
        "model11.add(Bidirectional(LSTM(180)))\n",
        "\n",
        "model11.add(Dense(1,activation=\"sigmoid\"))"
      ],
      "execution_count": null,
      "outputs": []
    },
    {
      "cell_type": "code",
      "metadata": {
        "id": "QhX2Bf1sLDHM",
        "colab_type": "code",
        "colab": {}
      },
      "source": [
        "model.compile(optimizer=\"adam\",loss=\"categorical_crossentropy\",metrics=[\"accuracy\"])"
      ],
      "execution_count": null,
      "outputs": []
    },
    {
      "cell_type": "code",
      "metadata": {
        "id": "2Bp8TIe2paj2",
        "colab_type": "code",
        "colab": {}
      },
      "source": [
        "model1.compile(optimizer=\"adam\",loss=\"binary_crossentropy\",metrics=[\"accuracy\"])"
      ],
      "execution_count": null,
      "outputs": []
    },
    {
      "cell_type": "code",
      "metadata": {
        "id": "kRdnDBgLLZVH",
        "colab_type": "code",
        "colab": {
          "base_uri": "https://localhost:8080/",
          "height": 151
        },
        "outputId": "2c3465ff-1a87-4792-8b3b-7986f37053c0"
      },
      "source": [
        "history=model.fit(pad1,y_train,epochs=10,callbacks=[callbacks],validation_split=0.1)"
      ],
      "execution_count": null,
      "outputs": [
        {
          "output_type": "stream",
          "text": [
            "Epoch 1/10\n",
            "126/126 [==============================] - 17s 135ms/step - loss: 0.0108 - accuracy: 0.9973 - val_loss: 0.0346 - val_accuracy: 0.9888\n",
            "Epoch 2/10\n",
            "126/126 [==============================] - 17s 134ms/step - loss: 0.0054 - accuracy: 0.9990 - val_loss: 0.0397 - val_accuracy: 0.9888\n",
            "Epoch 3/10\n",
            "126/126 [==============================] - 17s 134ms/step - loss: 0.0057 - accuracy: 0.9990 - val_loss: 0.0422 - val_accuracy: 0.9910\n",
            "Epoch 4/10\n",
            "126/126 [==============================] - 17s 135ms/step - loss: 0.0047 - accuracy: 0.9990 - val_loss: 0.0415 - val_accuracy: 0.9910\n"
          ],
          "name": "stdout"
        }
      ]
    },
    {
      "cell_type": "code",
      "metadata": {
        "id": "vV0ZgaUBpgDT",
        "colab_type": "code",
        "colab": {
          "base_uri": "https://localhost:8080/",
          "height": 151
        },
        "outputId": "3f746c7a-c563-45a0-eec6-513a45335c46"
      },
      "source": [
        "history1=model1.fit(pad3,y1_train,epochs=10,callbacks=[callbacks],validation_split=0.05)"
      ],
      "execution_count": null,
      "outputs": [
        {
          "output_type": "stream",
          "text": [
            "Epoch 1/10\n",
            "133/133 [==============================] - 26s 192ms/step - loss: 0.1796 - accuracy: 0.9381 - val_loss: 0.0635 - val_accuracy: 0.9776\n",
            "Epoch 2/10\n",
            "133/133 [==============================] - 25s 187ms/step - loss: 0.0455 - accuracy: 0.9865 - val_loss: 0.0767 - val_accuracy: 0.9865\n",
            "Epoch 3/10\n",
            "133/133 [==============================] - 25s 187ms/step - loss: 0.0222 - accuracy: 0.9953 - val_loss: 0.0746 - val_accuracy: 0.9910\n",
            "Epoch 4/10\n",
            "133/133 [==============================] - 25s 187ms/step - loss: 0.0145 - accuracy: 0.9965 - val_loss: 0.0831 - val_accuracy: 0.9910\n"
          ],
          "name": "stdout"
        }
      ]
    },
    {
      "cell_type": "code",
      "metadata": {
        "id": "iF_R5lFbN_xN",
        "colab_type": "code",
        "colab": {
          "base_uri": "https://localhost:8080/",
          "height": 50
        },
        "outputId": "a492b5b2-6745-42cf-f9e6-def38aaeca4a"
      },
      "source": [
        "model.evaluate(pad2,y_test)"
      ],
      "execution_count": null,
      "outputs": [
        {
          "output_type": "stream",
          "text": [
            "35/35 [==============================] - 1s 26ms/step - loss: 0.1636 - accuracy: 0.9677\n"
          ],
          "name": "stdout"
        },
        {
          "output_type": "execute_result",
          "data": {
            "text/plain": [
              "[0.16360293328762054, 0.9677129983901978]"
            ]
          },
          "metadata": {
            "tags": []
          },
          "execution_count": 27
        }
      ]
    },
    {
      "cell_type": "code",
      "metadata": {
        "id": "KqZ_bigUpi2H",
        "colab_type": "code",
        "colab": {
          "base_uri": "https://localhost:8080/",
          "height": 50
        },
        "outputId": "a1d8c094-4b59-4efd-9055-ef161dc40e54"
      },
      "source": [
        "model1.evaluate(pad4,y1_test)"
      ],
      "execution_count": null,
      "outputs": [
        {
          "output_type": "stream",
          "text": [
            "35/35 [==============================] - 2s 53ms/step - loss: 0.0719 - accuracy: 0.9803\n"
          ],
          "name": "stdout"
        },
        {
          "output_type": "execute_result",
          "data": {
            "text/plain": [
              "[0.07185696810483932, 0.9802690744400024]"
            ]
          },
          "metadata": {
            "tags": []
          },
          "execution_count": 135
        }
      ]
    },
    {
      "cell_type": "code",
      "metadata": {
        "id": "Tq8suvWer-2D",
        "colab_type": "code",
        "colab": {}
      },
      "source": [
        "y_pred=model.predict(pad2)"
      ],
      "execution_count": null,
      "outputs": []
    },
    {
      "cell_type": "code",
      "metadata": {
        "id": "U4GoBTu6LzKo",
        "colab_type": "code",
        "colab": {}
      },
      "source": [
        "y_pred1=model1.predict(pad4)"
      ],
      "execution_count": null,
      "outputs": []
    },
    {
      "cell_type": "code",
      "metadata": {
        "id": "zSf5CcN3sNar",
        "colab_type": "code",
        "colab": {
          "base_uri": "https://localhost:8080/",
          "height": 34
        },
        "outputId": "ed458e50-728c-4018-fb32-0278d68d9805"
      },
      "source": [
        "y_pred1.shape"
      ],
      "execution_count": null,
      "outputs": [
        {
          "output_type": "execute_result",
          "data": {
            "text/plain": [
              "(1115, 1)"
            ]
          },
          "metadata": {
            "tags": []
          },
          "execution_count": 48
        }
      ]
    },
    {
      "cell_type": "code",
      "metadata": {
        "id": "vCa6DWqWMejV",
        "colab_type": "code",
        "colab": {
          "base_uri": "https://localhost:8080/",
          "height": 34
        },
        "outputId": "a171323d-bb2a-4bc9-9304-953375fa23d3"
      },
      "source": [
        "y_pred1[0]"
      ],
      "execution_count": null,
      "outputs": [
        {
          "output_type": "execute_result",
          "data": {
            "text/plain": [
              "array([0.9923937], dtype=float32)"
            ]
          },
          "metadata": {
            "tags": []
          },
          "execution_count": 137
        }
      ]
    },
    {
      "cell_type": "code",
      "metadata": {
        "id": "VW6JylCBO9Ts",
        "colab_type": "code",
        "colab": {
          "base_uri": "https://localhost:8080/",
          "height": 34
        },
        "outputId": "47e5e305-94af-4ef7-afa9-0e165c105a68"
      },
      "source": [
        "max(y_pred1)"
      ],
      "execution_count": null,
      "outputs": [
        {
          "output_type": "execute_result",
          "data": {
            "text/plain": [
              "array([0.9999831], dtype=float32)"
            ]
          },
          "metadata": {
            "tags": []
          },
          "execution_count": 138
        }
      ]
    },
    {
      "cell_type": "code",
      "metadata": {
        "id": "iRpX0c4AFP-m",
        "colab_type": "code",
        "colab": {}
      },
      "source": [
        "elements=[\"spam\",\"ham\"]"
      ],
      "execution_count": null,
      "outputs": []
    },
    {
      "cell_type": "code",
      "metadata": {
        "id": "21IMBKx6Fb0j",
        "colab_type": "code",
        "colab": {}
      },
      "source": [
        "predic=[]"
      ],
      "execution_count": null,
      "outputs": []
    },
    {
      "cell_type": "code",
      "metadata": {
        "id": "PFWiiLcpFE-y",
        "colab_type": "code",
        "colab": {}
      },
      "source": [
        "for i in y_pred1:\n",
        "  \n",
        "  predic.append(i)\n"
      ],
      "execution_count": null,
      "outputs": []
    },
    {
      "cell_type": "code",
      "metadata": {
        "id": "nq-M8sguFq5a",
        "colab_type": "code",
        "colab": {
          "base_uri": "https://localhost:8080/",
          "height": 390
        },
        "outputId": "d3ac5acc-a04e-4df2-9b28-6e44a077762c"
      },
      "source": [
        "print(predic[:20],y1_test[:20])"
      ],
      "execution_count": null,
      "outputs": [
        {
          "output_type": "stream",
          "text": [
            "[array([0.9923937], dtype=float32), array([0.99937284], dtype=float32), array([0.99942434], dtype=float32), array([0.9996253], dtype=float32), array([0.99652934], dtype=float32), array([0.999738], dtype=float32), array([0.99995446], dtype=float32), array([0.0006927], dtype=float32), array([7.5774797e-06], dtype=float32), array([0.9995313], dtype=float32), array([0.99873316], dtype=float32), array([7.848846e-06], dtype=float32), array([0.99972343], dtype=float32), array([0.9999079], dtype=float32), array([0.99997306], dtype=float32), array([2.8045248e-05], dtype=float32), array([0.9989049], dtype=float32), array([2.376028e-05], dtype=float32), array([0.9998294], dtype=float32), array([0.90078133], dtype=float32)] 1589    1\n",
            "5169    1\n",
            "365     1\n",
            "3821    1\n",
            "714     1\n",
            "3880    1\n",
            "2178    1\n",
            "684     0\n",
            "4183    0\n",
            "2982    1\n",
            "204     1\n",
            "2767    0\n",
            "1679    1\n",
            "299     1\n",
            "5026    1\n",
            "824     0\n",
            "2813    1\n",
            "1380    0\n",
            "2177    1\n",
            "2379    1\n",
            "Name: Category, dtype: int64\n"
          ],
          "name": "stdout"
        }
      ]
    },
    {
      "cell_type": "code",
      "metadata": {
        "id": "VNS3i4ybPuhm",
        "colab_type": "code",
        "colab": {}
      },
      "source": [
        ""
      ],
      "execution_count": null,
      "outputs": []
    },
    {
      "cell_type": "code",
      "metadata": {
        "id": "wsbaCn3zGOkF",
        "colab_type": "code",
        "colab": {}
      },
      "source": [
        "sent=[\"ok joking wif\",\"free card won claim it now\"]"
      ],
      "execution_count": null,
      "outputs": []
    },
    {
      "cell_type": "code",
      "metadata": {
        "id": "H7-htV-iGWSU",
        "colab_type": "code",
        "colab": {
          "base_uri": "https://localhost:8080/",
          "height": 118
        },
        "outputId": "04f2f54a-7ed2-45b0-8617-b434c3837035"
      },
      "source": [
        "\n",
        "see=tokens.texts_to_sequences(sent)\n",
        "padded=pad_sequences(see,maxlen=38,truncating=\"post\",padding=\"post\")\n",
        "opp=model1.predict(padded)\n",
        "print(opp)\n",
        "for i in opp:\n",
        "  for j in i:\n",
        "   print(j)\n",
        "   if j>0.68:\n",
        "    print(\"ham message\")\n",
        "   else:\n",
        "    print(\"spam message\")\n",
        "\n"
      ],
      "execution_count": null,
      "outputs": [
        {
          "output_type": "stream",
          "text": [
            "[[9.9983418e-01]\n",
            " [6.1258674e-04]]\n",
            "0.9998342\n",
            "ham message\n",
            "0.00061258674\n",
            "spam message\n"
          ],
          "name": "stdout"
        }
      ]
    },
    {
      "cell_type": "code",
      "metadata": {
        "id": "Qr3gPLpcHpqY",
        "colab_type": "code",
        "colab": {}
      },
      "source": [
        ""
      ],
      "execution_count": null,
      "outputs": []
    }
  ]
}