{
  "nbformat": 4,
  "nbformat_minor": 0,
  "metadata": {
    "colab": {
      "name": "sms spam classifier.ipynb",
      "provenance": [],
      "collapsed_sections": [],
      "authorship_tag": "ABX9TyM5FNbIjqyANEMVi3KCeZv8",
      "include_colab_link": true
    },
    "kernelspec": {
      "name": "python3",
      "display_name": "Python 3"
    }
  },
  "cells": [
    {
      "cell_type": "markdown",
      "metadata": {
        "id": "view-in-github",
        "colab_type": "text"
      },
      "source": [
        "<a href=\"https://colab.research.google.com/github/AniruddhSrivatsa/AniruddhSrivatsa/blob/master/sms_spam_classifier.ipynb\" target=\"_parent\"><img src=\"https://colab.research.google.com/assets/colab-badge.svg\" alt=\"Open In Colab\"/></a>"
      ]
    },
    {
      "cell_type": "code",
      "metadata": {
        "id": "xmm3xU52d-za",
        "colab_type": "code",
        "colab": {}
      },
      "source": [
        "import pandas as pd\n",
        "import numpy as np"
      ],
      "execution_count": 1,
      "outputs": []
    },
    {
      "cell_type": "code",
      "metadata": {
        "id": "BTtjhqBReLcP",
        "colab_type": "code",
        "colab": {
          "base_uri": "https://localhost:8080/",
          "height": 195
        },
        "outputId": "362c7003-bd86-4f28-d189-b855d05f299d"
      },
      "source": [
        "df=pd.read_csv(\"spamm.csv\")\n",
        "df.head()"
      ],
      "execution_count": 3,
      "outputs": [
        {
          "output_type": "execute_result",
          "data": {
            "text/html": [
              "<div>\n",
              "<style scoped>\n",
              "    .dataframe tbody tr th:only-of-type {\n",
              "        vertical-align: middle;\n",
              "    }\n",
              "\n",
              "    .dataframe tbody tr th {\n",
              "        vertical-align: top;\n",
              "    }\n",
              "\n",
              "    .dataframe thead th {\n",
              "        text-align: right;\n",
              "    }\n",
              "</style>\n",
              "<table border=\"1\" class=\"dataframe\">\n",
              "  <thead>\n",
              "    <tr style=\"text-align: right;\">\n",
              "      <th></th>\n",
              "      <th>Category</th>\n",
              "      <th>Message</th>\n",
              "    </tr>\n",
              "  </thead>\n",
              "  <tbody>\n",
              "    <tr>\n",
              "      <th>0</th>\n",
              "      <td>ham</td>\n",
              "      <td>Go until jurong point, crazy.. Available only ...</td>\n",
              "    </tr>\n",
              "    <tr>\n",
              "      <th>1</th>\n",
              "      <td>ham</td>\n",
              "      <td>Ok lar... Joking wif u oni...</td>\n",
              "    </tr>\n",
              "    <tr>\n",
              "      <th>2</th>\n",
              "      <td>spam</td>\n",
              "      <td>Free entry in 2 a wkly comp to win FA Cup fina...</td>\n",
              "    </tr>\n",
              "    <tr>\n",
              "      <th>3</th>\n",
              "      <td>ham</td>\n",
              "      <td>U dun say so early hor... U c already then say...</td>\n",
              "    </tr>\n",
              "    <tr>\n",
              "      <th>4</th>\n",
              "      <td>ham</td>\n",
              "      <td>Nah I don't think he goes to usf, he lives aro...</td>\n",
              "    </tr>\n",
              "  </tbody>\n",
              "</table>\n",
              "</div>"
            ],
            "text/plain": [
              "  Category                                            Message\n",
              "0      ham  Go until jurong point, crazy.. Available only ...\n",
              "1      ham                      Ok lar... Joking wif u oni...\n",
              "2     spam  Free entry in 2 a wkly comp to win FA Cup fina...\n",
              "3      ham  U dun say so early hor... U c already then say...\n",
              "4      ham  Nah I don't think he goes to usf, he lives aro..."
            ]
          },
          "metadata": {
            "tags": []
          },
          "execution_count": 3
        }
      ]
    },
    {
      "cell_type": "code",
      "metadata": {
        "id": "LPme_exH2p85",
        "colab_type": "code",
        "colab": {
          "base_uri": "https://localhost:8080/",
          "height": 35
        },
        "outputId": "8b795964-c5b5-41b5-aacc-3f0059beee7b"
      },
      "source": [
        "df[\"Message\"][0]"
      ],
      "execution_count": 4,
      "outputs": [
        {
          "output_type": "execute_result",
          "data": {
            "application/vnd.google.colaboratory.intrinsic+json": {
              "type": "string"
            },
            "text/plain": [
              "'Go until jurong point, crazy.. Available only in bugis n great world la e buffet... Cine there got amore wat...'"
            ]
          },
          "metadata": {
            "tags": []
          },
          "execution_count": 4
        }
      ]
    },
    {
      "cell_type": "code",
      "metadata": {
        "id": "pWAbMDrN22je",
        "colab_type": "code",
        "colab": {
          "base_uri": "https://localhost:8080/",
          "height": 34
        },
        "outputId": "a634111e-c02d-41f9-a52a-06ae6421a76c"
      },
      "source": [
        "df.shape"
      ],
      "execution_count": 5,
      "outputs": [
        {
          "output_type": "execute_result",
          "data": {
            "text/plain": [
              "(5572, 2)"
            ]
          },
          "metadata": {
            "tags": []
          },
          "execution_count": 5
        }
      ]
    },
    {
      "cell_type": "code",
      "metadata": {
        "id": "HJHAjArv28pI",
        "colab_type": "code",
        "colab": {
          "base_uri": "https://localhost:8080/",
          "height": 67
        },
        "outputId": "d66a1d6e-d079-4998-95d0-2078e4957963"
      },
      "source": [
        "df.isna().sum()"
      ],
      "execution_count": 6,
      "outputs": [
        {
          "output_type": "execute_result",
          "data": {
            "text/plain": [
              "Category    0\n",
              "Message     0\n",
              "dtype: int64"
            ]
          },
          "metadata": {
            "tags": []
          },
          "execution_count": 6
        }
      ]
    },
    {
      "cell_type": "code",
      "metadata": {
        "id": "raGpuKiW3DCB",
        "colab_type": "code",
        "colab": {}
      },
      "source": [
        "df[\"Message\"]=df[\"Message\"].str.lower()"
      ],
      "execution_count": 7,
      "outputs": []
    },
    {
      "cell_type": "code",
      "metadata": {
        "id": "cXdtNvB13GNu",
        "colab_type": "code",
        "colab": {}
      },
      "source": [
        "df[\"Message\"]=df[\"Message\"].apply(lambda x: \" \".join([info for info in x.split() if info.isalpha() ]))"
      ],
      "execution_count": 8,
      "outputs": []
    },
    {
      "cell_type": "code",
      "metadata": {
        "id": "zmoV69i63wRt",
        "colab_type": "code",
        "colab": {
          "base_uri": "https://localhost:8080/",
          "height": 35
        },
        "outputId": "43c8ced1-0c1c-4a70-b74d-5452ef0ac278"
      },
      "source": [
        "df[\"Message\"][0]"
      ],
      "execution_count": 9,
      "outputs": [
        {
          "output_type": "execute_result",
          "data": {
            "application/vnd.google.colaboratory.intrinsic+json": {
              "type": "string"
            },
            "text/plain": [
              "'go until jurong available only in bugis n great world la e cine there got amore'"
            ]
          },
          "metadata": {
            "tags": []
          },
          "execution_count": 9
        }
      ]
    },
    {
      "cell_type": "code",
      "metadata": {
        "id": "2S8HAck95Ps6",
        "colab_type": "code",
        "colab": {
          "base_uri": "https://localhost:8080/",
          "height": 67
        },
        "outputId": "fde8fee7-0ce9-4253-87ae-4b68a2942485"
      },
      "source": [
        "import nltk\n",
        "nltk.download('stopwords')"
      ],
      "execution_count": 10,
      "outputs": [
        {
          "output_type": "stream",
          "text": [
            "[nltk_data] Downloading package stopwords to /root/nltk_data...\n",
            "[nltk_data]   Unzipping corpora/stopwords.zip.\n"
          ],
          "name": "stdout"
        },
        {
          "output_type": "execute_result",
          "data": {
            "text/plain": [
              "True"
            ]
          },
          "metadata": {
            "tags": []
          },
          "execution_count": 10
        }
      ]
    },
    {
      "cell_type": "code",
      "metadata": {
        "id": "CXew6I7Y55FU",
        "colab_type": "code",
        "colab": {}
      },
      "source": [
        "from nltk.corpus import stopwords"
      ],
      "execution_count": 11,
      "outputs": []
    },
    {
      "cell_type": "code",
      "metadata": {
        "id": "FZ7IN6fD5mJf",
        "colab_type": "code",
        "colab": {}
      },
      "source": [
        "df[\"Message\"]=df[\"Message\"].apply(lambda x: \" \".join([info for info in x.split() if info not in stopwords.words(\"english\") ]))"
      ],
      "execution_count": 12,
      "outputs": []
    },
    {
      "cell_type": "code",
      "metadata": {
        "id": "CGzAOd-T6_gN",
        "colab_type": "code",
        "colab": {
          "base_uri": "https://localhost:8080/",
          "height": 35
        },
        "outputId": "432eaa82-411d-486a-96b1-518fe1fd1cbb"
      },
      "source": [
        "df[\"Message\"][0]"
      ],
      "execution_count": 13,
      "outputs": [
        {
          "output_type": "execute_result",
          "data": {
            "application/vnd.google.colaboratory.intrinsic+json": {
              "type": "string"
            },
            "text/plain": [
              "'go jurong available bugis n great world la e cine got amore'"
            ]
          },
          "metadata": {
            "tags": []
          },
          "execution_count": 13
        }
      ]
    },
    {
      "cell_type": "markdown",
      "metadata": {
        "id": "PV9S9MjVDlRf",
        "colab_type": "text"
      },
      "source": [
        "removing single letter characters"
      ]
    },
    {
      "cell_type": "code",
      "metadata": {
        "id": "jahG2_bY74IC",
        "colab_type": "code",
        "colab": {}
      },
      "source": [
        "df[\"Message\"]=df[\"Message\"].apply(lambda x: \" \".join([info for info in x.split() if (len(info)!=1) ]))"
      ],
      "execution_count": 14,
      "outputs": []
    },
    {
      "cell_type": "code",
      "metadata": {
        "id": "PK_LWB9J8HU-",
        "colab_type": "code",
        "colab": {
          "base_uri": "https://localhost:8080/",
          "height": 35
        },
        "outputId": "ec4d3828-f8ef-4dd2-df00-fbd32f146a2a"
      },
      "source": [
        "df[\"Message\"][1]"
      ],
      "execution_count": null,
      "outputs": [
        {
          "output_type": "execute_result",
          "data": {
            "application/vnd.google.colaboratory.intrinsic+json": {
              "type": "string"
            },
            "text/plain": [
              "'ok joking wif'"
            ]
          },
          "metadata": {
            "tags": []
          },
          "execution_count": 9
        }
      ]
    },
    {
      "cell_type": "code",
      "metadata": {
        "id": "qitagxN58QmX",
        "colab_type": "code",
        "colab": {
          "base_uri": "https://localhost:8080/",
          "height": 195
        },
        "outputId": "f94fa2b2-3ef7-4c65-adb9-a8e77d4f7ebe"
      },
      "source": [
        "df.head()"
      ],
      "execution_count": 15,
      "outputs": [
        {
          "output_type": "execute_result",
          "data": {
            "text/html": [
              "<div>\n",
              "<style scoped>\n",
              "    .dataframe tbody tr th:only-of-type {\n",
              "        vertical-align: middle;\n",
              "    }\n",
              "\n",
              "    .dataframe tbody tr th {\n",
              "        vertical-align: top;\n",
              "    }\n",
              "\n",
              "    .dataframe thead th {\n",
              "        text-align: right;\n",
              "    }\n",
              "</style>\n",
              "<table border=\"1\" class=\"dataframe\">\n",
              "  <thead>\n",
              "    <tr style=\"text-align: right;\">\n",
              "      <th></th>\n",
              "      <th>Category</th>\n",
              "      <th>Message</th>\n",
              "    </tr>\n",
              "  </thead>\n",
              "  <tbody>\n",
              "    <tr>\n",
              "      <th>0</th>\n",
              "      <td>ham</td>\n",
              "      <td>go jurong available bugis great world la cine ...</td>\n",
              "    </tr>\n",
              "    <tr>\n",
              "      <th>1</th>\n",
              "      <td>ham</td>\n",
              "      <td>ok joking wif</td>\n",
              "    </tr>\n",
              "    <tr>\n",
              "      <th>2</th>\n",
              "      <td>spam</td>\n",
              "      <td>free entry wkly comp win fa cup final tkts may...</td>\n",
              "    </tr>\n",
              "    <tr>\n",
              "      <th>3</th>\n",
              "      <td>ham</td>\n",
              "      <td>dun say early already</td>\n",
              "    </tr>\n",
              "    <tr>\n",
              "      <th>4</th>\n",
              "      <td>ham</td>\n",
              "      <td>nah think goes lives around though</td>\n",
              "    </tr>\n",
              "  </tbody>\n",
              "</table>\n",
              "</div>"
            ],
            "text/plain": [
              "  Category                                            Message\n",
              "0      ham  go jurong available bugis great world la cine ...\n",
              "1      ham                                      ok joking wif\n",
              "2     spam  free entry wkly comp win fa cup final tkts may...\n",
              "3      ham                              dun say early already\n",
              "4      ham                 nah think goes lives around though"
            ]
          },
          "metadata": {
            "tags": []
          },
          "execution_count": 15
        }
      ]
    },
    {
      "cell_type": "code",
      "metadata": {
        "id": "HAjBentq8zw0",
        "colab_type": "code",
        "colab": {}
      },
      "source": [
        "df[\"Category\"]=df[\"Category\"].map({\"ham\":1,\"spam\":0})"
      ],
      "execution_count": 16,
      "outputs": []
    },
    {
      "cell_type": "code",
      "metadata": {
        "id": "Jz7eP5wOCGW2",
        "colab_type": "code",
        "colab": {}
      },
      "source": [
        "df1=pd.get_dummies(df[\"Category\"])"
      ],
      "execution_count": 17,
      "outputs": []
    },
    {
      "cell_type": "code",
      "metadata": {
        "id": "aNhjqVE5Cw6P",
        "colab_type": "code",
        "colab": {
          "base_uri": "https://localhost:8080/",
          "height": 343
        },
        "outputId": "1d30beba-1c1c-471d-c9a3-a1c610d1f7af"
      },
      "source": [
        "df.head(10)"
      ],
      "execution_count": 18,
      "outputs": [
        {
          "output_type": "execute_result",
          "data": {
            "text/html": [
              "<div>\n",
              "<style scoped>\n",
              "    .dataframe tbody tr th:only-of-type {\n",
              "        vertical-align: middle;\n",
              "    }\n",
              "\n",
              "    .dataframe tbody tr th {\n",
              "        vertical-align: top;\n",
              "    }\n",
              "\n",
              "    .dataframe thead th {\n",
              "        text-align: right;\n",
              "    }\n",
              "</style>\n",
              "<table border=\"1\" class=\"dataframe\">\n",
              "  <thead>\n",
              "    <tr style=\"text-align: right;\">\n",
              "      <th></th>\n",
              "      <th>Category</th>\n",
              "      <th>Message</th>\n",
              "    </tr>\n",
              "  </thead>\n",
              "  <tbody>\n",
              "    <tr>\n",
              "      <th>0</th>\n",
              "      <td>1</td>\n",
              "      <td>go jurong available bugis great world la cine ...</td>\n",
              "    </tr>\n",
              "    <tr>\n",
              "      <th>1</th>\n",
              "      <td>1</td>\n",
              "      <td>ok joking wif</td>\n",
              "    </tr>\n",
              "    <tr>\n",
              "      <th>2</th>\n",
              "      <td>0</td>\n",
              "      <td>free entry wkly comp win fa cup final tkts may...</td>\n",
              "    </tr>\n",
              "    <tr>\n",
              "      <th>3</th>\n",
              "      <td>1</td>\n",
              "      <td>dun say early already</td>\n",
              "    </tr>\n",
              "    <tr>\n",
              "      <th>4</th>\n",
              "      <td>1</td>\n",
              "      <td>nah think goes lives around though</td>\n",
              "    </tr>\n",
              "    <tr>\n",
              "      <th>5</th>\n",
              "      <td>0</td>\n",
              "      <td>freemsg hey darling word like fun tb xxx std c...</td>\n",
              "    </tr>\n",
              "    <tr>\n",
              "      <th>6</th>\n",
              "      <td>1</td>\n",
              "      <td>even brother like speak treat like aids</td>\n",
              "    </tr>\n",
              "    <tr>\n",
              "      <th>7</th>\n",
              "      <td>1</td>\n",
              "      <td>per request melle minnaminunginte nurungu set ...</td>\n",
              "    </tr>\n",
              "    <tr>\n",
              "      <th>8</th>\n",
              "      <td>0</td>\n",
              "      <td>valued network customer selected receivea priz...</td>\n",
              "    </tr>\n",
              "    <tr>\n",
              "      <th>9</th>\n",
              "      <td>0</td>\n",
              "      <td>mobile months entitled update latest colour mo...</td>\n",
              "    </tr>\n",
              "  </tbody>\n",
              "</table>\n",
              "</div>"
            ],
            "text/plain": [
              "   Category                                            Message\n",
              "0         1  go jurong available bugis great world la cine ...\n",
              "1         1                                      ok joking wif\n",
              "2         0  free entry wkly comp win fa cup final tkts may...\n",
              "3         1                              dun say early already\n",
              "4         1                 nah think goes lives around though\n",
              "5         0  freemsg hey darling word like fun tb xxx std c...\n",
              "6         1            even brother like speak treat like aids\n",
              "7         1  per request melle minnaminunginte nurungu set ...\n",
              "8         0  valued network customer selected receivea priz...\n",
              "9         0  mobile months entitled update latest colour mo..."
            ]
          },
          "metadata": {
            "tags": []
          },
          "execution_count": 18
        }
      ]
    },
    {
      "cell_type": "code",
      "metadata": {
        "id": "T1XN8ghvCRve",
        "colab_type": "code",
        "colab": {}
      },
      "source": [
        "df=pd.concat([df,df1],axis=1)"
      ],
      "execution_count": 19,
      "outputs": []
    },
    {
      "cell_type": "code",
      "metadata": {
        "id": "DrZcXPfOABZz",
        "colab_type": "code",
        "colab": {}
      },
      "source": [
        "from sklearn.model_selection import train_test_split"
      ],
      "execution_count": 21,
      "outputs": []
    },
    {
      "cell_type": "markdown",
      "metadata": {
        "id": "4MNC0HfhFEmc",
        "colab_type": "text"
      },
      "source": [
        "I am taking two models, one for general categorical classification using softmax and other for binary classification using sigmoid"
      ]
    },
    {
      "cell_type": "code",
      "metadata": {
        "id": "JCzeiwWmAIG-",
        "colab_type": "code",
        "colab": {}
      },
      "source": [
        "X_train,X_test,y_train,y_test=train_test_split(df[\"Message\"],df[[0,1]],stratify=df[[0,1]],test_size=0.2,random_state=0)"
      ],
      "execution_count": 23,
      "outputs": []
    },
    {
      "cell_type": "code",
      "metadata": {
        "id": "98nebO92JCcr",
        "colab_type": "code",
        "colab": {}
      },
      "source": [
        "X1_train,X1_test,y1_train,y1_test=train_test_split(df[\"Message\"],df[\"Category\"],stratify=df[\"Category\"],test_size=0.2,random_state=0)"
      ],
      "execution_count": 24,
      "outputs": []
    },
    {
      "cell_type": "code",
      "metadata": {
        "id": "_4RBmC8I9Qnp",
        "colab_type": "code",
        "colab": {}
      },
      "source": [
        "import tensorflow as tf\n",
        "from tensorflow import keras\n",
        "from tensorflow.keras.preprocessing.text import Tokenizer\n",
        "from tensorflow.keras.preprocessing.sequence import pad_sequences\n"
      ],
      "execution_count": 28,
      "outputs": []
    },
    {
      "cell_type": "code",
      "metadata": {
        "id": "rcw10GmS9-0x",
        "colab_type": "code",
        "colab": {}
      },
      "source": [
        "ar=list(X_train.astype(\"str\"))\n",
        "ar1=list(X_test.astype(\"str\"))"
      ],
      "execution_count": 26,
      "outputs": []
    },
    {
      "cell_type": "code",
      "metadata": {
        "id": "_sRUDvoIJePB",
        "colab_type": "code",
        "colab": {}
      },
      "source": [
        "ar3=list(X1_train.astype(\"str\"))\n",
        "ar4=list(X1_test.astype(\"str\"))"
      ],
      "execution_count": 27,
      "outputs": []
    },
    {
      "cell_type": "code",
      "metadata": {
        "id": "cRuRxU09-ksK",
        "colab_type": "code",
        "colab": {}
      },
      "source": [
        "tokens=Tokenizer(oov_token=\"<OOV>\")\n",
        "tokens.fit_on_texts(ar)\n",
        "word_index=tokens.word_index"
      ],
      "execution_count": 29,
      "outputs": []
    },
    {
      "cell_type": "code",
      "metadata": {
        "id": "r5iCxJnAJnPx",
        "colab_type": "code",
        "colab": {}
      },
      "source": [
        "tokens1=Tokenizer(oov_token=\"<OOV>\")\n",
        "tokens1.fit_on_texts(ar3)\n",
        "word_index1=tokens.word_index"
      ],
      "execution_count": 30,
      "outputs": []
    },
    {
      "cell_type": "code",
      "metadata": {
        "id": "_CBjGiSb_Q6Y",
        "colab_type": "code",
        "colab": {
          "base_uri": "https://localhost:8080/",
          "height": 34
        },
        "outputId": "6dcba16e-d91f-407d-8900-0272a27db9a4"
      },
      "source": [
        "len(word_index)"
      ],
      "execution_count": 32,
      "outputs": [
        {
          "output_type": "execute_result",
          "data": {
            "text/plain": [
              "5357"
            ]
          },
          "metadata": {
            "tags": []
          },
          "execution_count": 32
        }
      ]
    },
    {
      "cell_type": "code",
      "metadata": {
        "id": "I0lDaDZiFezH",
        "colab_type": "code",
        "colab": {
          "base_uri": "https://localhost:8080/",
          "height": 34
        },
        "outputId": "08e08408-28b3-44ca-d55d-e814df2752df"
      },
      "source": [
        "len(word_index1)"
      ],
      "execution_count": 33,
      "outputs": [
        {
          "output_type": "execute_result",
          "data": {
            "text/plain": [
              "5357"
            ]
          },
          "metadata": {
            "tags": []
          },
          "execution_count": 33
        }
      ]
    },
    {
      "cell_type": "code",
      "metadata": {
        "id": "n3YX2sZs_XRp",
        "colab_type": "code",
        "colab": {}
      },
      "source": [
        "seq=tokens.texts_to_sequences(ar)\n",
        "seq1=tokens.texts_to_sequences(ar1)"
      ],
      "execution_count": 35,
      "outputs": []
    },
    {
      "cell_type": "code",
      "metadata": {
        "id": "U75JABldJ0-7",
        "colab_type": "code",
        "colab": {}
      },
      "source": [
        "seq2=tokens.texts_to_sequences(ar3)\n",
        "seq3=tokens.texts_to_sequences(ar4)"
      ],
      "execution_count": 36,
      "outputs": []
    },
    {
      "cell_type": "code",
      "metadata": {
        "id": "8ySJE5yzBm_z",
        "colab_type": "code",
        "colab": {}
      },
      "source": [
        "pad1=pad_sequences(seq,padding=\"post\",maxlen=38,truncating=\"post\")\n",
        "pad2=pad_sequences(seq1,padding=\"post\",maxlen=38,truncating=\"post\")"
      ],
      "execution_count": 37,
      "outputs": []
    },
    {
      "cell_type": "code",
      "metadata": {
        "id": "TwyJA7MJJ8DD",
        "colab_type": "code",
        "colab": {}
      },
      "source": [
        "pad3=pad_sequences(seq2,padding=\"post\",maxlen=38,truncating=\"post\")\n",
        "pad4=pad_sequences(seq3,padding=\"post\",maxlen=38,truncating=\"post\")"
      ],
      "execution_count": 38,
      "outputs": []
    },
    {
      "cell_type": "code",
      "metadata": {
        "id": "pUc9QUrlEdVq",
        "colab_type": "code",
        "colab": {
          "base_uri": "https://localhost:8080/",
          "height": 34
        },
        "outputId": "572bdaa8-0a7e-4ed1-de83-a6cd961968b0"
      },
      "source": [
        "pad1.shape"
      ],
      "execution_count": 39,
      "outputs": [
        {
          "output_type": "execute_result",
          "data": {
            "text/plain": [
              "(4457, 38)"
            ]
          },
          "metadata": {
            "tags": []
          },
          "execution_count": 39
        }
      ]
    },
    {
      "cell_type": "code",
      "metadata": {
        "id": "iFTE3h0zCbJ_",
        "colab_type": "code",
        "colab": {}
      },
      "source": [
        "mess=[len(i) for i in df[\"Message\"]]"
      ],
      "execution_count": null,
      "outputs": []
    },
    {
      "cell_type": "code",
      "metadata": {
        "id": "SgW8lgU1C48_",
        "colab_type": "code",
        "colab": {}
      },
      "source": [
        "from tensorflow.keras.layers import Dense,Bidirectional,LSTM,Dropout,GlobalAveragePooling1D,Conv1D,Embedding,MaxPooling1D,Flatten\n",
        "from tensorflow.keras.models import Sequential\n",
        "from tensorflow.keras.callbacks import EarlyStopping"
      ],
      "execution_count": 40,
      "outputs": []
    },
    {
      "cell_type": "code",
      "metadata": {
        "id": "-n_sW_F9MYrS",
        "colab_type": "code",
        "colab": {}
      },
      "source": [
        "callbacks=EarlyStopping(patience=3,monitor=\"val_accuracy\")"
      ],
      "execution_count": 41,
      "outputs": []
    },
    {
      "cell_type": "code",
      "metadata": {
        "id": "HYOFVs0lc8qr",
        "colab_type": "code",
        "colab": {}
      },
      "source": [
        "model=Sequential()\n",
        "model.add(Embedding(input_dim=len(word_index)+1,output_dim=180,input_length=38))\n",
        "model.add(Conv1D(128,5,activation=\"relu\"))\n",
        "model.add(Dropout(0.1))\n",
        "model.add(Bidirectional(LSTM(150)))\n",
        "model.add(Flatten())\n",
        "model.add(Dense(2,activation=\"softmax\"))"
      ],
      "execution_count": 63,
      "outputs": []
    },
    {
      "cell_type": "markdown",
      "metadata": {
        "id": "fsXFY5_ZGu3o",
        "colab_type": "text"
      },
      "source": [
        "This is my first model"
      ]
    },
    {
      "cell_type": "code",
      "metadata": {
        "id": "wA-fJ5bepIiW",
        "colab_type": "code",
        "colab": {}
      },
      "source": [
        "model1=Sequential()\n",
        "model1.add(Embedding(input_dim=len(word_index1)+1,output_dim=180,input_length=38))\n",
        "model1.add(Bidirectional(LSTM(180)))\n",
        "model1.add(Dense(1,activation=\"sigmoid\"))"
      ],
      "execution_count": 59,
      "outputs": []
    },
    {
      "cell_type": "markdown",
      "metadata": {
        "id": "ezebpeREG3Na",
        "colab_type": "text"
      },
      "source": [
        "This is my second model"
      ]
    },
    {
      "cell_type": "code",
      "metadata": {
        "id": "QhX2Bf1sLDHM",
        "colab_type": "code",
        "colab": {}
      },
      "source": [
        "model.compile(optimizer=\"adam\",loss=\"categorical_crossentropy\",metrics=[\"accuracy\"])"
      ],
      "execution_count": 64,
      "outputs": []
    },
    {
      "cell_type": "code",
      "metadata": {
        "id": "2Bp8TIe2paj2",
        "colab_type": "code",
        "colab": {}
      },
      "source": [
        "model1.compile(optimizer=\"adam\",loss=\"binary_crossentropy\",metrics=[\"accuracy\"])"
      ],
      "execution_count": 60,
      "outputs": []
    },
    {
      "cell_type": "code",
      "metadata": {
        "id": "kRdnDBgLLZVH",
        "colab_type": "code",
        "colab": {
          "base_uri": "https://localhost:8080/",
          "height": 185
        },
        "outputId": "36dc7363-2917-49f1-e10c-073edb8cd673"
      },
      "source": [
        "history=model.fit(pad1,y_train,epochs=10,callbacks=[callbacks],validation_split=0.1)"
      ],
      "execution_count": 65,
      "outputs": [
        {
          "output_type": "stream",
          "text": [
            "Epoch 1/10\n",
            "126/126 [==============================] - 19s 151ms/step - loss: 0.1745 - accuracy: 0.9399 - val_loss: 0.0604 - val_accuracy: 0.9821\n",
            "Epoch 2/10\n",
            "126/126 [==============================] - 18s 143ms/step - loss: 0.0365 - accuracy: 0.9893 - val_loss: 0.0578 - val_accuracy: 0.9843\n",
            "Epoch 3/10\n",
            "126/126 [==============================] - 18s 144ms/step - loss: 0.0160 - accuracy: 0.9960 - val_loss: 0.0545 - val_accuracy: 0.9843\n",
            "Epoch 4/10\n",
            "126/126 [==============================] - 19s 149ms/step - loss: 0.0086 - accuracy: 0.9978 - val_loss: 0.0642 - val_accuracy: 0.9843\n",
            "Epoch 5/10\n",
            "126/126 [==============================] - 19s 154ms/step - loss: 0.0075 - accuracy: 0.9985 - val_loss: 0.0693 - val_accuracy: 0.9843\n"
          ],
          "name": "stdout"
        }
      ]
    },
    {
      "cell_type": "code",
      "metadata": {
        "id": "vV0ZgaUBpgDT",
        "colab_type": "code",
        "colab": {
          "base_uri": "https://localhost:8080/",
          "height": 151
        },
        "outputId": "6a3b0dc1-a445-4888-dd65-402f2336f7e7"
      },
      "source": [
        "history1=model1.fit(pad3,y1_train,epochs=10,callbacks=[callbacks],validation_split=0.1)"
      ],
      "execution_count": 61,
      "outputs": [
        {
          "output_type": "stream",
          "text": [
            "Epoch 1/10\n",
            "126/126 [==============================] - 27s 215ms/step - loss: 0.1930 - accuracy: 0.9359 - val_loss: 0.0798 - val_accuracy: 0.9821\n",
            "Epoch 2/10\n",
            "126/126 [==============================] - 27s 211ms/step - loss: 0.0524 - accuracy: 0.9843 - val_loss: 0.1041 - val_accuracy: 0.9753\n",
            "Epoch 3/10\n",
            "126/126 [==============================] - 27s 215ms/step - loss: 0.0307 - accuracy: 0.9923 - val_loss: 0.0822 - val_accuracy: 0.9731\n",
            "Epoch 4/10\n",
            "126/126 [==============================] - 27s 212ms/step - loss: 0.0145 - accuracy: 0.9965 - val_loss: 0.0871 - val_accuracy: 0.9776\n"
          ],
          "name": "stdout"
        }
      ]
    },
    {
      "cell_type": "code",
      "metadata": {
        "id": "iF_R5lFbN_xN",
        "colab_type": "code",
        "colab": {
          "base_uri": "https://localhost:8080/",
          "height": 50
        },
        "outputId": "6702579f-4b4f-4372-dbf9-224fe3fec31c"
      },
      "source": [
        "model.evaluate(pad2,y_test)"
      ],
      "execution_count": 66,
      "outputs": [
        {
          "output_type": "stream",
          "text": [
            "35/35 [==============================] - 1s 28ms/step - loss: 0.1752 - accuracy: 0.9686\n"
          ],
          "name": "stdout"
        },
        {
          "output_type": "execute_result",
          "data": {
            "text/plain": [
              "[0.17520971596240997, 0.9686098694801331]"
            ]
          },
          "metadata": {
            "tags": []
          },
          "execution_count": 66
        }
      ]
    },
    {
      "cell_type": "code",
      "metadata": {
        "id": "KqZ_bigUpi2H",
        "colab_type": "code",
        "colab": {
          "base_uri": "https://localhost:8080/",
          "height": 50
        },
        "outputId": "d720dc5d-367d-4213-f46a-a142c2c92761"
      },
      "source": [
        "model1.evaluate(pad4,y1_test)"
      ],
      "execution_count": 62,
      "outputs": [
        {
          "output_type": "stream",
          "text": [
            "35/35 [==============================] - 2s 54ms/step - loss: 0.0752 - accuracy: 0.9767\n"
          ],
          "name": "stdout"
        },
        {
          "output_type": "execute_result",
          "data": {
            "text/plain": [
              "[0.07523591071367264, 0.9766815900802612]"
            ]
          },
          "metadata": {
            "tags": []
          },
          "execution_count": 62
        }
      ]
    },
    {
      "cell_type": "markdown",
      "metadata": {
        "id": "MU5jmChnM0E_",
        "colab_type": "text"
      },
      "source": [
        "The second model has higher test set accuracy"
      ]
    },
    {
      "cell_type": "code",
      "metadata": {
        "id": "Tq8suvWer-2D",
        "colab_type": "code",
        "colab": {}
      },
      "source": [
        "y_pred=model.predict(pad2)"
      ],
      "execution_count": 67,
      "outputs": []
    },
    {
      "cell_type": "code",
      "metadata": {
        "id": "U4GoBTu6LzKo",
        "colab_type": "code",
        "colab": {}
      },
      "source": [
        "y_pred1=model1.predict(pad4)"
      ],
      "execution_count": 68,
      "outputs": []
    },
    {
      "cell_type": "code",
      "metadata": {
        "id": "zSf5CcN3sNar",
        "colab_type": "code",
        "colab": {
          "base_uri": "https://localhost:8080/",
          "height": 34
        },
        "outputId": "74b9c180-8e56-44b3-f718-b4c0d5496414"
      },
      "source": [
        "print(y_pred.shape,y_pred1.shape)"
      ],
      "execution_count": 69,
      "outputs": [
        {
          "output_type": "stream",
          "text": [
            "(1115, 2) (1115, 1)\n"
          ],
          "name": "stdout"
        }
      ]
    },
    {
      "cell_type": "code",
      "metadata": {
        "id": "vCa6DWqWMejV",
        "colab_type": "code",
        "colab": {
          "base_uri": "https://localhost:8080/",
          "height": 34
        },
        "outputId": "6562f73e-1402-411f-e264-e27e8826f7cf"
      },
      "source": [
        "y_pred1[0]"
      ],
      "execution_count": 70,
      "outputs": [
        {
          "output_type": "execute_result",
          "data": {
            "text/plain": [
              "array([0.9914452], dtype=float32)"
            ]
          },
          "metadata": {
            "tags": []
          },
          "execution_count": 70
        }
      ]
    },
    {
      "cell_type": "code",
      "metadata": {
        "id": "1L42TGbBMBQm",
        "colab_type": "code",
        "colab": {
          "base_uri": "https://localhost:8080/",
          "height": 34
        },
        "outputId": "57ff588c-9ee7-42de-cea5-0e4b24dd7715"
      },
      "source": [
        "y_pred[0]"
      ],
      "execution_count": 71,
      "outputs": [
        {
          "output_type": "execute_result",
          "data": {
            "text/plain": [
              "array([1.5526919e-05, 9.9998450e-01], dtype=float32)"
            ]
          },
          "metadata": {
            "tags": []
          },
          "execution_count": 71
        }
      ]
    },
    {
      "cell_type": "code",
      "metadata": {
        "id": "21IMBKx6Fb0j",
        "colab_type": "code",
        "colab": {}
      },
      "source": [
        "predic=[]\n",
        "for i in y_pred1:\n",
        "  predic.append(i)"
      ],
      "execution_count": 72,
      "outputs": []
    },
    {
      "cell_type": "code",
      "metadata": {
        "id": "nq-M8sguFq5a",
        "colab_type": "code",
        "colab": {
          "base_uri": "https://localhost:8080/",
          "height": 390
        },
        "outputId": "2380aa92-258e-4271-d1ab-6952cf4aeae2"
      },
      "source": [
        "print(predic[:20],y1_test[:20])"
      ],
      "execution_count": 73,
      "outputs": [
        {
          "output_type": "stream",
          "text": [
            "[array([0.9914452], dtype=float32), array([0.99893105], dtype=float32), array([0.9997642], dtype=float32), array([0.99980736], dtype=float32), array([0.18629411], dtype=float32), array([0.9998697], dtype=float32), array([0.99997747], dtype=float32), array([0.0081709], dtype=float32), array([3.2627544e-05], dtype=float32), array([0.9998174], dtype=float32), array([0.9994658], dtype=float32), array([1.1020753e-05], dtype=float32), array([0.9998356], dtype=float32), array([0.9994371], dtype=float32), array([0.9999809], dtype=float32), array([7.099398e-05], dtype=float32), array([0.99989605], dtype=float32), array([4.876228e-05], dtype=float32), array([0.9998587], dtype=float32), array([0.91266274], dtype=float32)] 1589    1\n",
            "5169    1\n",
            "365     1\n",
            "3821    1\n",
            "714     1\n",
            "3880    1\n",
            "2178    1\n",
            "684     0\n",
            "4183    0\n",
            "2982    1\n",
            "204     1\n",
            "2767    0\n",
            "1679    1\n",
            "299     1\n",
            "5026    1\n",
            "824     0\n",
            "2813    1\n",
            "1380    0\n",
            "2177    1\n",
            "2379    1\n",
            "Name: Category, dtype: int64\n"
          ],
          "name": "stdout"
        }
      ]
    },
    {
      "cell_type": "markdown",
      "metadata": {
        "id": "e9DZ7xkINB-U",
        "colab_type": "text"
      },
      "source": [
        "Now enter your sentence"
      ]
    },
    {
      "cell_type": "code",
      "metadata": {
        "id": "wsbaCn3zGOkF",
        "colab_type": "code",
        "colab": {}
      },
      "source": [
        "sent=[\"ok just joking bye see you tomorrow\",\"free card worth rs 10000 won claim it now\"]"
      ],
      "execution_count": 74,
      "outputs": []
    },
    {
      "cell_type": "code",
      "metadata": {
        "id": "H7-htV-iGWSU",
        "colab_type": "code",
        "colab": {
          "base_uri": "https://localhost:8080/",
          "height": 118
        },
        "outputId": "5b8d429b-acb9-461c-b419-5de34ddb4c7d"
      },
      "source": [
        "see=tokens.texts_to_sequences(sent)\n",
        "padded=pad_sequences(see,maxlen=38,truncating=\"post\",padding=\"post\")\n",
        "opp=model1.predict(padded)\n",
        "print(opp)\n",
        "for i in opp:\n",
        "  for j in i:\n",
        "   print(j)\n",
        "   if j>=0.50:\n",
        "    print(\"ham message\")\n",
        "   else:\n",
        "    print(\"spam message\")\n",
        "\n"
      ],
      "execution_count": 75,
      "outputs": [
        {
          "output_type": "stream",
          "text": [
            "[[9.9962342e-01]\n",
            " [1.9824505e-04]]\n",
            "0.9996234\n",
            "ham message\n",
            "0.00019824505\n",
            "spam message\n"
          ],
          "name": "stdout"
        }
      ]
    }
  ]
}